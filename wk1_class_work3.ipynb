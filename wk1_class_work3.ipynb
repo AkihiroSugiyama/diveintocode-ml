{
  "nbformat": 4,
  "nbformat_minor": 0,
  "metadata": {
    "colab": {
      "name": "wk1_class_work3.ipynb",
      "provenance": [],
      "collapsed_sections": []
    },
    "kernelspec": {
      "name": "python3",
      "display_name": "Python 3"
    }
  },
  "cells": [
    {
      "cell_type": "markdown",
      "metadata": {
        "id": "BSsRH19of-iJ",
        "colab_type": "text"
      },
      "source": [
        "## 問題\n",
        "\n",
        "「バイバイン」は薬品で、これを振掛けるとその物体は5分ごとに倍に増えるという働きがあります。作中では栗まんじゅうを増やしますが、食べきれなくなったためロケットを使い宇宙に捨てました。\n",
        "\n",
        "ここで度々話題になるのが、栗まんじゅうはその後宇宙でどのように増えていくのかについてです。様々な議論がされていますが、今回は単純に栗まんじゅうの体積がどう増えるかを計算してみましょう。\n",
        "\n",
        "----\n",
        "\n",
        "1個の栗まんじゅうにバイバインを振りかけた場合、太陽系が栗まんじゅうで覆われるのは何分後でしょうか。これを計算するプログラムを作成してください。\n",
        "\n",
        "\n",
        "栗まんじゅうや太陽系の体積を調査した上で仮定して計算してください。栗まんじゅうの隙間や重力などは考えず、問題を単純化して構いません。\n",
        "\n",
        "\n",
        "ボールにバイバインを振りかけた時、東京ドームが一杯になる時間など他の状況にも適用できるような汎用的なプログラムを作成してください。また、グラフを表示するなど分かりやすいノートブックを作成してください。"
      ]
    },
    {
      "cell_type": "markdown",
      "metadata": {
        "id": "aI8NORLjdwe3",
        "colab_type": "text"
      },
      "source": [
        "栗まんじゅうの体積\n",
        "5cm x 5cm x 3cmと定義\n",
        "\n",
        "太陽系の半径　14.5兆kmと定義\n",
        "大洋系は球体と定義"
      ]
    },
    {
      "cell_type": "code",
      "metadata": {
        "id": "YuzDLne6f4Gc",
        "colab_type": "code",
        "colab": {}
      },
      "source": [
        "import numpy as np\n",
        "import matplotlib.pyplot as plt"
      ],
      "execution_count": null,
      "outputs": []
    },
    {
      "cell_type": "code",
      "metadata": {
        "id": "VrubBDHpcowf",
        "colab_type": "code",
        "colab": {}
      },
      "source": [
        "KURI_DUMPLING = [0.5*10**-1, 0.5*10**-1, 0.3*10**-1] ## Width, Depth, Height\n",
        "KURI_DUMPLING_FLATTENING = KURI_DUMPLING[2] / KURI_DUMPLING[0] * 100\n",
        "SOLAR_SYSTEM = [14.5*10**15, 14.5*10**15, 14.5*10**15] ## Width, Depth, Height\n",
        "\n",
        "def volume_calc(target_profile):\n",
        "  target_volume = 4*np.pi*target_profile[0]*target_profile[1]*target_profile[2]/3\n",
        "  return target_volume\n",
        "\n",
        "def volume_calc_based_on_kurimanju(target_profile):\n",
        "  cnt = 0\n",
        "  kuri_dumpling_volume_list = []\n",
        "  target_volume = volume_calc(target_profile)\n",
        "  KURI_DUMPLING_VOLUME = volume_calc(KURI_DUMPLING)\n",
        "  kuri_dumpling_volume_list.append(KURI_DUMPLING_VOLUME)\n",
        "  tmp_KURI_DUMPLING_VOLUME = KURI_DUMPLING_VOLUME\n",
        "  while True:\n",
        "    cnt += 1 # 5min counter\n",
        "    tmp_KURI_DUMPLING_VOLUME *= 2  ## 2 means that KURI_DUMPLING's volume becomes twice.\n",
        "    kuri_dumpling_volume_list.append(tmp_KURI_DUMPLING_VOLUME)\n",
        "    if tmp_KURI_DUMPLING_VOLUME >= target_volume:\n",
        "      break\n",
        "    else:\n",
        "      pass\n",
        "\n",
        "  print(\"バイバインで増殖した栗まんじゅうが、ターゲットを覆うのは{}分後です。\".format(cnt*5))\n",
        "  plt.title(\"Kuri-Manju volume transition\")\n",
        "  plt.xlabel(\"5min passed index number\")\n",
        "  plt.ylabel(\"volume [m^3]\")\n",
        "  plt.plot(kuri_dumpling_volume_list)\n",
        "  plt.show()\n",
        "  return cnt, kuri_dumpling_volume_list\n"
      ],
      "execution_count": null,
      "outputs": []
    },
    {
      "cell_type": "code",
      "metadata": {
        "id": "cm7f3pNJoa62",
        "colab_type": "code",
        "colab": {
          "base_uri": "https://localhost:8080/",
          "height": 312
        },
        "outputId": "98d03e99-3c1e-4d6b-b981-0e6f70328787"
      },
      "source": [
        "cnt, kuri_dumpling_volume_list = volume_calc_based_on_kurimanju(SOLAR_SYSTEM)"
      ],
      "execution_count": null,
      "outputs": [
        {
          "output_type": "stream",
          "text": [
            "バイバインで増殖した栗まんじゅうが、ターゲットを覆うのは875分後です。\n"
          ],
          "name": "stdout"
        },
        {
          "output_type": "display_data",
          "data": {
            "image/png": "[encoded data removed]",
            "text/plain": [
              "<Figure size 432x288 with 1 Axes>"
            ]
          },
          "metadata": {
            "tags": [],
            "needs_background": "light"
          }
        }
      ]
    },
    {
      "cell_type": "code",
      "metadata": {
        "id": "qgJCLabBxDqx",
        "colab_type": "code",
        "colab": {}
      },
      "source": [
        ""
      ],
      "execution_count": null,
      "outputs": []
    }
  ]
}