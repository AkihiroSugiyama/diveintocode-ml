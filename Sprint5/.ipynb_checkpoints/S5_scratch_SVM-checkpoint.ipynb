{
 "cells": [
  {
   "cell_type": "markdown",
   "metadata": {},
   "source": [
    "# Sprint5課題 機械学習スクラッチSVM\n",
    "分類のためのサポートベクターマシン（SVM、サポートベクトルマシン）のクラスをスクラッチで作成していきます。NumPyなど最低限のライブラリのみを使いアルゴリズムを実装していきます。\n",
    "\n",
    "SVMには学習時に分類の間違いを認めるソフトマージンSVMと、認めないハードマージンSVMがありますが、ここでは実装が単純なハードマージンSVMを扱います。\n",
    "\n",
    "以下に雛形を用意してあります。このScratchSVMClassifierクラスにコードを書き加えていってください。\n",
    "\n"
   ]
  },
  {
   "cell_type": "markdown",
   "metadata": {},
   "source": [
    "## 【問題1】ラグランジュの未定乗数法による最急降下\n",
    "SVMの学習は、ラグランジュの未定乗数法を用います。サンプル数分のラグランジュ乗数$\\lambda$を用意して、以下の式により更新していきます。この計算を行うメソッドをScratchSVMClassifierクラスに実装してください。\n",
    "\n",
    "$$\n",
    "\\lambda_i^{new} = \\lambda_i + \\alpha(1 - \\sum_{j=1}^{n}{\\lambda_j y_i y_j k(x_i, x_j)})\n",
    "$$\n",
    "ここで$k(x_i, x_j)$はカーネル関数です。線形カーネルの場合は次のようになります。他のカーネル関数にも対応できるように、この部分はメソッド化しておきましょう。\n",
    "\n",
    "$$\n",
    "k(x_i, x_j) = x_{i}^{T} x_j\n",
    "$$\n",
    "条件として、更新毎に$\\lambda_i \\ge 0$を満たす必要があります。満たさない場合は$\\lambda_i = 0$とします。"
   ]
  },
  {
   "cell_type": "markdown",
   "metadata": {},
   "source": [
    "## 【問題2】サポートベクターの決定\n",
    "計算したラグランジュ乗数$\\lambda$が設定した閾値より大きいサンプルをサポートベクターとして扱います。推定時にサポートベクターが必要になります。サポートベクターを決定し、インスタンス変数として保持しておくコードを書いてください。\n",
    "\n",
    "閾値はハイパーパラメータですが、1e-5程度からはじめると良いでしょう。サポートベクターの数を出力させられるようにしておくと学習がうまく行えているかを確認できます。"
   ]
  },
  {
   "cell_type": "markdown",
   "metadata": {},
   "source": [
    "## 【問題3】推定\n",
    "推定時には、推定したいデータの特徴量とサポートベクターの特徴量をカーネル関数によって計算します。求めた$y(x)$の符号が分類結果です。$$\n",
    "y(x) = \\sum_{n=1}^{N}\\lambda_n y_n k(x, s_n)\n",
    "$$"
   ]
  },
  {
   "cell_type": "code",
   "execution_count": 2,
   "metadata": {},
   "outputs": [],
   "source": [
    "import numpy as np\n",
    "import pandas as pd"
   ]
  },
  {
   "cell_type": "code",
   "execution_count": 3,
   "metadata": {},
   "outputs": [],
   "source": [
    "class ScratchSVMClassifier():\n",
    "    \"\"\"\n",
    "    SVM分類器のスクラッチ実装\n",
    "\n",
    "    Parameters\n",
    "    ----------\n",
    "    num_iter : int\n",
    "      イテレーション数\n",
    "    lr : float\n",
    "      学習率\n",
    "    kernel : str\n",
    "      カーネルの種類。線形カーネル（linear）か多項式カーネル（poly）\n",
    "    threshold : float\n",
    "      サポートベクターを選ぶための閾値\n",
    "    verbose : bool\n",
    "      学習過程を出力する場合はTrue\n",
    "\n",
    "    Attributes\n",
    "    ----------\n",
    "    self.n_support_vectors : int\n",
    "      サポートベクターの数\n",
    "    self.index_support_vectors : 次の形のndarray, shape (n_support_vectors,)\n",
    "      サポートベクターのインデックス\n",
    "    self.X_sv :  次の形のndarray, shape(n_support_vectors, n_features)\n",
    "      サポートベクターの特徴量\n",
    "    self.lam_sv :  次の形のndarray, shape(n_support_vectors, 1)\n",
    "      サポートベクターの未定乗数\n",
    "    self.y_sv :  次の形のndarray, shape(n_support_vectors, 1)\n",
    "      サポートベクターのラベル\n",
    "\n",
    "    \"\"\"\n",
    "    def __init__(self, num_iter=100, lr=0.1, kernel='linear', threshold=1e-5, gamma=1, theta=1, deg=2, verbose=False):\n",
    "        # ハイパーパラメータを属性として記録\n",
    "        self.num_iter = num_iter\n",
    "        self.lr = lr\n",
    "        self.kernel = kernel\n",
    "        self.threshold = threshold\n",
    "        self.verbose = verbose\n",
    "        self.gamma_ = gamma\n",
    "        self.theta_ = theta\n",
    "        self.deg_ = deg\n",
    "        self.loss = np.zeros(self.num_iter)\n",
    "        self.labels_ = None\n",
    "        \n",
    "        self.n_support_vectors = None\n",
    "        self.index_support_vectors = None\n",
    "        self.X_sv = None\n",
    "        self.lam_sv = None\n",
    "        self.y_sv = None\n",
    "    \n",
    "    \n",
    "    def _kernel_func(self, X1, X2):\n",
    "        \"\"\"\n",
    "        線形または多項式カーネル関数の計算を行う\n",
    "\n",
    "        Parameters\n",
    "        ----------\n",
    "        X1 : 次の形のndarray, shape (i_samples, n_features)\n",
    "            特徴量データ\n",
    "        X2 : 次の形のndarray, shape (j_samples, n_features )\n",
    "            特徴量データ\n",
    "\n",
    "        Returns\n",
    "        -------\n",
    "        kernel : 次の形のndarray, shape (i_samples, j_samples)\n",
    "            カーネル関数にて計算された行列\n",
    "        \"\"\"\n",
    "        \n",
    "        if self.kernel == 'linear':\n",
    "            gamma = 1\n",
    "            theta = 0\n",
    "            deg = 1\n",
    "            \n",
    "        elif self.kernel == 'poly':\n",
    "            gamma = self.gamma_\n",
    "            theta = self.theta_\n",
    "            deg = self.deg_\n",
    "        \n",
    "        kernel = (gamma*X1 @ X2.T + theta)**deg\n",
    "        \n",
    "        return kernel\n",
    "    \n",
    "    \n",
    "    def _gradient_ascent(self, X, y):\n",
    "        \"\"\"\n",
    "        最急降下法によりパラメータの更新を行う\n",
    "\n",
    "        Parameters\n",
    "        ----------\n",
    "        X : 次の形のndarray, shape (n_samples, n_features)\n",
    "            訓練データ\n",
    "        y : 次の形のndarray, shape (n_samples, )\n",
    "            訓練データの正解値\n",
    "\n",
    "        Returns\n",
    "        -------\n",
    "        self.lambda_ : 次の形のndarray, shape (n_features, 1)\n",
    "            最急降下法により更新されたλ\n",
    "        \"\"\"\n",
    "\n",
    "        kernel = self._kernel_func(X, X)\n",
    "\n",
    "        self.lambda_ += self.lr * (1 - y*np.dot((self.lambda_*y), kernel))\n",
    "        \n",
    "        return self.lambda_\n",
    "    \n",
    "    \n",
    "    def fit(self, X, y):\n",
    "        \"\"\"\n",
    "        ロジスティック回帰を学習する。検証データが入力された場合はそれに対する損失と精度もイテレーションごとに計算する。\n",
    "\n",
    "        Parameters\n",
    "        ----------\n",
    "        X : 次の形のndarray, shape (n_samples, n_features)\n",
    "            訓練データの特徴量\n",
    "        y : 次の形のndarray, shape (n_samples, )\n",
    "            訓練データの正解値\n",
    "        \"\"\"\n",
    "        \n",
    "        # 目的変数のラベルを取得し、バイナリ（+1, -1）に変換した配列を作成\n",
    "        # 以後、計算はy_indicesを用いて行う\n",
    "        self.labels_ = np.unique(y)\n",
    "        y_indices = np.where(y == self.labels_[0], -1, 1)\n",
    "\n",
    "        # λの初期値を設定\n",
    "        self.lambda_ = np.random.normal(size=len(X))\n",
    "\n",
    "        for i in range(self.num_iter):\n",
    "\n",
    "            self.lambda_ = self._gradient_ascent(X, y_indices)\n",
    "            self.lambda_ = np.where(self.lambda_ < 0, 0, self.lambda_)\n",
    "            self.loss[i] = self._cost_function(X, y_indices)\n",
    "\n",
    "        self.n_support_vectors = sum(i > self.threshold for i in self.lambda_)\n",
    "        self.index_support_vectors = np.where(self.lambda_ > self.threshold)\n",
    "        self.X_sv = X[self.index_support_vectors]\n",
    "        self.lam_sv = self.lambda_[self.index_support_vectors]\n",
    "        self.y_sv = y[self.index_support_vectors]\n",
    "        \n",
    "        if self.verbose:\n",
    "            #verboseをTrueにした際は学習過程を出力\n",
    "            print(self.loss)\n",
    "\n",
    "            \n",
    "    def _cost_function(self, X, y):\n",
    "        \"\"\"\n",
    "        目的関数の計算\n",
    "\n",
    "        Parameters\n",
    "        ----------\n",
    "        pred : 次の形のndarray, shape (n_samples,)\n",
    "          推定した値\n",
    "        y : 次の形のndarray, shape (n_samples,)\n",
    "          正解値\n",
    "\n",
    "        Returns\n",
    "        ----------\n",
    "          number >= 0\n",
    "          ラグランジュ関数\n",
    "        \"\"\"\n",
    "\n",
    "        loss = sum(self.lambda_) - 0.5 * sum(np.dot(self.lambda_*y, (self.lambda_*y).T)*(X@X.T))\n",
    "\n",
    "        return max(loss)\n",
    "    \n",
    "    \n",
    "    def predict(self, X):\n",
    "        \"\"\"\n",
    "        SVM分類器を使いラベルを推定する。\n",
    "\n",
    "        Parameters\n",
    "        ----------\n",
    "        X : 次の形のndarray, shape (n_samples, n_features)\n",
    "            サンプル\n",
    "\n",
    "        Returns\n",
    "        -------\n",
    "            次の形のndarray, shape (n_samples, 1)\n",
    "            SVM分類器による推定結果\n",
    "        \"\"\"\n",
    "        kernel = self._kernel_func(self.X_sv, X)\n",
    "        \n",
    "        pred = np.dot(self.lam_sv * self.y_sv,\n",
    "                      kernel)\n",
    "        \n",
    "        return np.where(pred < 0, self.labels_[0], self.labels_[1])"
   ]
  },
  {
   "cell_type": "markdown",
   "metadata": {},
   "source": [
    "## 【問題4】学習と推定¶\n",
    "機械学習スクラッチ入門のSprintで用意したシンプルデータセット1の2値分類に対してスクラッチ実装の学習と推定を行なってください。\n",
    "\n",
    "scikit-learnによる実装と比べ、正しく動いているかを確認してください。\n",
    "\n",
    "AccuracyやPrecision、Recallなどの指標値はscikit-learnを使用してください。"
   ]
  },
  {
   "cell_type": "code",
   "execution_count": 4,
   "metadata": {},
   "outputs": [],
   "source": [
    "# シンプルデータセット1作成コード\n",
    "\n",
    "np.random.seed(seed=0)\n",
    "n_samples = 500\n",
    "f0 = [-1, 2]\n",
    "f1 = [2, -1]\n",
    "cov = [[1.0,0.8], [0.8, 1.0]]\n",
    "f0 = np.random.multivariate_normal(f0, cov, int(n_samples/2))\n",
    "f1 = np.random.multivariate_normal(f1, cov, int(n_samples/2))\n",
    "X = np.concatenate((f0, f1))\n",
    "y = np.concatenate((np.ones((int(n_samples/2))), np.ones((int(n_samples/2))) *(-1))).astype(np.int)\n",
    "random_index = np.random.permutation(np.arange(n_samples))\n",
    "X = X[random_index]\n",
    "y = y[random_index]"
   ]
  },
  {
   "cell_type": "code",
   "execution_count": 6,
   "metadata": {},
   "outputs": [],
   "source": [
    "# 評価指標の読み込みおよび関数化\n",
    "from sklearn.metrics import accuracy_score\n",
    "from sklearn.metrics import precision_score\n",
    "from sklearn.metrics import recall_score\n",
    "from sklearn.metrics import f1_score\n",
    "\n",
    "def get_scores(y_true, y_pred):\n",
    "    print(\"-\"*20)\n",
    "    print(\"正解率：{:.2f}\".format(accuracy_score(y_true, y_pred)))\n",
    "    print(\"適合率：{:.2f}\".format(precision_score(y_true, y_pred)))\n",
    "    print(\"再現率：{:.2f}\".format(recall_score(y_true, y_pred)))\n",
    "    print(\"F1値：{:.2f}\".format(f1_score(y_true, y_pred)))\n",
    "    print(\"-\"*20)\n",
    "    print(\"\\n\")"
   ]
  },
  {
   "cell_type": "code",
   "execution_count": 7,
   "metadata": {},
   "outputs": [
    {
     "name": "stdout",
     "output_type": "stream",
     "text": [
      "(350, 2)\n",
      "(350,)\n"
     ]
    }
   ],
   "source": [
    "# データの分割（今回は7：3の割合）\n",
    "from sklearn.model_selection import train_test_split\n",
    "\n",
    "X_train, X_test, y_train, y_test = train_test_split(X, y, test_size=0.3, stratify=y)\n",
    "\n",
    "print(X_train.shape)\n",
    "print(y_train.shape)"
   ]
  },
  {
   "cell_type": "code",
   "execution_count": 9,
   "metadata": {},
   "outputs": [
    {
     "name": "stdout",
     "output_type": "stream",
     "text": [
      "スクラッチモデルの成績\n",
      "--------------------\n",
      "正解率：1.00\n",
      "適合率：1.00\n",
      "再現率：1.00\n",
      "F1値：1.00\n",
      "--------------------\n",
      "\n",
      "\n",
      "sklearnモデルの成績\n",
      "--------------------\n",
      "正解率：1.00\n",
      "適合率：1.00\n",
      "再現率：1.00\n",
      "F1値：1.00\n",
      "--------------------\n",
      "\n",
      "\n"
     ]
    }
   ],
   "source": [
    "from sklearn.svm import SVC\n",
    "\n",
    "# スクラッチモデルの学習と推定\n",
    "scratch_svc = ScratchSVMClassifier(lr=0.001, num_iter=1000)\n",
    "\n",
    "scratch_svc.fit(X_train, y_train)\n",
    "\n",
    "scratch_pred = scratch_svc.predict(X_test)\n",
    "\n",
    "print(\"スクラッチモデルの成績\")\n",
    "get_scores(y_test, scratch_pred)\n",
    "\n",
    "# sklearnモデルの学習と推定\n",
    "sk_svc = SVC()\n",
    "\n",
    "sk_svc.fit(X_train, y_train)\n",
    "\n",
    "sk_pred = sk_svc.predict(X_test)\n",
    "\n",
    "print(\"sklearnモデルの成績\")\n",
    "get_scores(y_test, sk_pred)"
   ]
  },
  {
   "cell_type": "code",
   "execution_count": 10,
   "metadata": {},
   "outputs": [
    {
     "data": {
      "image/png": "[encoded data removed]",
      "text/plain": [
       "<Figure size 432x288 with 1 Axes>"
      ]
     },
     "metadata": {
      "needs_background": "light"
     },
     "output_type": "display_data"
    }
   ],
   "source": [
    "# ラグランジュ関数の可視化\n",
    "import matplotlib.pyplot as plt\n",
    "\n",
    "%matplotlib inline\n",
    "\n",
    "plt.figure()\n",
    "\n",
    "plt.plot(np.arange(len(scratch_svc.loss)), scratch_svc.loss, label='loss')\n",
    "plt.title(\"Scratch Model Loss\")\n",
    "plt.xlabel(\"Iteration\")\n",
    "plt.ylabel(\"L($\\lambda$)\")\n",
    "plt.legend()\n",
    "\n",
    "plt.show()"
   ]
  },
  {
   "cell_type": "markdown",
   "metadata": {},
   "source": [
    "## 【問題5】決定領域の可視化\n",
    "決定領域を可視化してください。\n",
    "\n",
    "以下の例のようにサポートベクターは異なる色で示してください。"
   ]
  },
  {
   "cell_type": "code",
   "execution_count": 11,
   "metadata": {},
   "outputs": [],
   "source": [
    "import matplotlib.pyplot as plt\n",
    "from matplotlib.colors import ListedColormap\n",
    "import matplotlib.patches as mpatches\n",
    "def decision_region(X, y, model, sv, target_names, step=0.01, title='decision region', xlabel='xlabel',\n",
    "                    ylabel='ylabel'):\n",
    "    \"\"\"\n",
    "    2値分類を2次元の特徴量で学習したモデルの決定領域を描く。\n",
    "    背景の色が学習したモデルによる推定値から描画される。\n",
    "    散布図の点は訓練データまたは検証データである。\n",
    "\n",
    "    Parameters\n",
    "    ----------------\n",
    "    X : ndarray, shape(n_samples, 2)\n",
    "        特徴量\n",
    "    y : ndarray, shape(n_samples,)\n",
    "        ラベル\n",
    "    model : object\n",
    "        学習したモデルのインスンタスを入れる\n",
    "    step : float, (default : 0.1)\n",
    "        推定値を計算する間隔を設定する\n",
    "    title : str\n",
    "        グラフのタイトルの文章を与える\n",
    "    xlabel, ylabel : str\n",
    "        軸ラベルの文章を与える\n",
    "    target_names= : list of str\n",
    "        凡例の一覧を与える\n",
    "    \"\"\"\n",
    "    # setting\n",
    "    scatter_color = ['red', 'blue']\n",
    "    contourf_color = ['pink', 'skyblue']\n",
    "    n_class = 2\n",
    "    # pred\n",
    "    mesh_f0, mesh_f1 = np.meshgrid(np.arange(np.min(X[:,0])-0.5, np.max(X[:,0])+0.5, step), np.arange(np.min(X[:,1])-0.5, np.max(X[:,1])+0.5, step))\n",
    "    mesh = np.c_[np.ravel(mesh_f0),np.ravel(mesh_f1)]\n",
    "    y_pred = model.predict(mesh).reshape(mesh_f0.shape)\n",
    "    # plot\n",
    "    plt.title(title)\n",
    "    plt.xlabel(xlabel)\n",
    "    plt.ylabel(ylabel)\n",
    "    plt.contourf(mesh_f0, mesh_f1, y_pred, n_class-1, cmap=ListedColormap(contourf_color))\n",
    "    plt.contour(mesh_f0, mesh_f1, y_pred, n_class-1, colors='y', linewidths=3, alpha=0.5)\n",
    "    for i, target in enumerate(set(y)):\n",
    "        plt.scatter(X[y==target][:, 0], X[y==target][:, 1], s=80, color=scatter_color[i], label=target_names[i], marker='o')\n",
    "    plt.scatter(sv[:, 0], sv[:, 1], color='yellow', label='SV', marker='o')\n",
    "    patches = [mpatches.Patch(color=scatter_color[i], label=target_names[i]) for i in range(n_class)]\n",
    "    plt.legend(handles=patches)\n",
    "    plt.legend()\n",
    "    plt.show()"
   ]
  },
  {
   "cell_type": "code",
   "execution_count": 12,
   "metadata": {},
   "outputs": [
    {
     "data": {
      "image/png": "[encoded data removed]",
      "text/plain": [
       "<Figure size 432x288 with 1 Axes>"
      ]
     },
     "metadata": {
      "needs_background": "light"
     },
     "output_type": "display_data"
    }
   ],
   "source": [
    "# スクラッチモデルの可視化\n",
    "decision_region(X_train, y_train, scratch_svc, \n",
    "                sv=scratch_svc.X_sv, xlabel='f0', ylabel='f1', target_names=['-1', '+1'])"
   ]
  },
  {
   "cell_type": "code",
   "execution_count": 13,
   "metadata": {},
   "outputs": [
    {
     "data": {
      "image/png": "[encoded data removed]",
      "text/plain": [
       "<Figure size 432x288 with 1 Axes>"
      ]
     },
     "metadata": {
      "needs_background": "light"
     },
     "output_type": "display_data"
    }
   ],
   "source": [
    "# sklearnモデルの可視化\n",
    "decision_region(X_train, y_train, sk_svc, \n",
    "                sv=sk_svc.support_vectors_, xlabel='f0', ylabel='f1', target_names=['-1', '+1'])"
   ]
  },
  {
   "cell_type": "code",
   "execution_count": null,
   "metadata": {},
   "outputs": [],
   "source": []
  }
 ],
 "metadata": {
  "kernelspec": {
   "display_name": "Python 3",
   "language": "python",
   "name": "python3"
  },
  "language_info": {
   "codemirror_mode": {
    "name": "ipython",
    "version": 3
   },
   "file_extension": ".py",
   "mimetype": "text/x-python",
   "name": "python",
   "nbconvert_exporter": "python",
   "pygments_lexer": "ipython3",
   "version": "3.7.2"
  }
 },
 "nbformat": 4,
 "nbformat_minor": 4
}
