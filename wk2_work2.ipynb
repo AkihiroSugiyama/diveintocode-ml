{
  "nbformat": 4,
  "nbformat_minor": 0,
  "metadata": {
    "colab": {
      "name": "wk2_work2.ipynb",
      "provenance": [],
      "collapsed_sections": []
    },
    "kernelspec": {
      "name": "python3",
      "display_name": "Python 3"
    }
  },
  "cells": [
    {
      "cell_type": "markdown",
      "metadata": {
        "id": "Y2hqYC8umjAi",
        "colab_type": "text"
      },
      "source": [
        "#2.ダミーデータの作成\n"
      ]
    },
    {
      "cell_type": "code",
      "metadata": {
        "id": "r07WY5qECg2x",
        "colab_type": "code",
        "colab": {}
      },
      "source": [
        "import numpy as np\n",
        "import tensorflow as tf\n",
        "import matplotlib.pyplot as plt"
      ],
      "execution_count": 129,
      "outputs": []
    },
    {
      "cell_type": "markdown",
      "metadata": {
        "id": "dFjM2PMMmzeh",
        "colab_type": "text"
      },
      "source": [
        "##【問題1】乱数の作成\n",
        "平均が(-3, 0)、共分散行列が以下で表される2次元正規分布による乱数を500個作成してください。\n",
        "\n",
        "A=\\left[\n",
        "\\begin{matrix} 1.0 & 0.8 \\\\ 0.8 & 1.0 \\end{matrix}\n",
        "\\right]\n",
        "\n",
        "多次元の正規分布による乱数はnp.random.multivariate_normal()を使うことで作成できます。\n",
        "\n",
        "numpy.random.multivariate_normal — NumPy v1.16 Manual\n",
        "\n",
        "作成したndarrayのshapeは(500, 2)になります。\n",
        "\n",
        "《シード値について》\n",
        "\n",
        "実行ごとに値が変わらないように、np.random.seed()により乱数のシード値を固定しておきましょう。今回シード値は0を使うことにします。"
      ]
    },
    {
      "cell_type": "code",
      "metadata": {
        "id": "IDJl9E9Wmtsx",
        "colab_type": "code",
        "colab": {
          "base_uri": "https://localhost:8080/",
          "height": 85
        },
        "outputId": "074547af-82bc-4eea-9fd2-4bb54bbb8e0b"
      },
      "source": [
        "# 期待値と分散共分散行列の準備\n",
        "mean = np.array([-3, 0])\n",
        "cov = np.array([[1.0, 0.8], [0.8, 1.0]])\n",
        "\n",
        "np.random.seed(0)\n",
        "\n",
        "# numpy を用いた乱数の生成\n",
        "data_1 = np.random.multivariate_normal(mean, cov, size=500)\n",
        "\n",
        "# データ型の確認\n",
        "print(data_1.shape)\n",
        "\n",
        "# 期待値の確認\n",
        "print(np.mean(data_1, axis=0))\n",
        "\n",
        "# 分散共分散の確認\n",
        "print(np.cov(data_1, rowvar=False))"
      ],
      "execution_count": 130,
      "outputs": [
        {
          "output_type": "stream",
          "text": [
            "(500, 2)\n",
            "[-2.93003625  0.05405893]\n",
            "[[0.94877101 0.75453518]\n",
            " [0.75453518 0.96104806]]\n"
          ],
          "name": "stdout"
        }
      ]
    },
    {
      "cell_type": "markdown",
      "metadata": {
        "id": "jhqTg91Xm6zz",
        "colab_type": "text"
      },
      "source": [
        "## 【問題2】散布図による可視化\n",
        "問題1で作成したデータ点を散布図により可視化してください。\n",
        "\n",
        "\n",
        "散布図はmatplotlibのplt.scatter()を使うことで描けます。\n",
        "\n",
        "\n",
        "matplotlib.pyplot.scatter — Matplotlib 3.1.1 documentation\n",
        "\n"
      ]
    },
    {
      "cell_type": "code",
      "metadata": {
        "id": "U9bGG137m5qm",
        "colab_type": "code",
        "colab": {
          "base_uri": "https://localhost:8080/",
          "height": 295
        },
        "outputId": "f00766a5-ae5f-4548-d213-9886d09be77a"
      },
      "source": [
        "data_1x1 = []\n",
        "data_1x2 = []\n",
        "\n",
        "for i in range(data_1.shape[0]):\n",
        "  data_1x1.append(data_1[i][0])\n",
        "  data_1x2.append(data_1[i][1])\n",
        "\n",
        "fig1 = plt.figure(facecolor=\"lightgreen\")\n",
        "scatter1 = fig1.add_subplot(1,1,1)\n",
        "\n",
        "scatter1.scatter(data_1x1, data_1x2)\n",
        "scatter1.set_title(\"Scatter\")\n",
        "scatter1.set_xlabel(\"x1\")\n",
        "scatter1.set_ylabel(\"x2\")\n",
        "fig1.show()"
      ],
      "execution_count": 131,
      "outputs": [
        {
          "output_type": "display_data",
          "data": {
            "image/png": "[encoded data removed]",
            "text/plain": [
              "<Figure size 432x288 with 1 Axes>"
            ]
          },
          "metadata": {
            "tags": []
          }
        }
      ]
    },
    {
      "cell_type": "markdown",
      "metadata": {
        "id": "dfcyJZ-1nBNC",
        "colab_type": "text"
      },
      "source": [
        "##【問題3】ヒストグラムによる可視化\n",
        "問題1で作成したデータをヒストグラムにより可視化してください。\n",
        "\n",
        "\n",
        "ヒストグラムはplt.hist()を使うことで描けます。\n",
        "\n",
        "\n",
        "matplotlib.pyplot.hist — Matplotlib 3.1.1 documentation\n",
        "\n",
        "\n",
        "各次元ごとに作成し、2つのヒストグラムとしてください。\n",
        "\n",
        "\n",
        "それぞれのヒストグラムの横軸の範囲はplt.xlim()を用いて揃えるようにしてください。\n",
        "\n",
        "\n",
        "matplotlib.pyplot.xlim — Matplotlib 3.1.1 documentation"
      ]
    },
    {
      "cell_type": "code",
      "metadata": {
        "id": "-JFOJKvrnB9w",
        "colab_type": "code",
        "colab": {
          "base_uri": "https://localhost:8080/",
          "height": 295
        },
        "outputId": "ef7178c7-54e6-402d-a2af-c08865cac6a1"
      },
      "source": [
        "fig2 = plt.figure(facecolor=\"lightgreen\")\n",
        "hist1 = fig2.add_subplot(1,1,1)\n",
        "\n",
        "hist1.hist(data_1x1, bins=50)\n",
        "hist1.set_title(\"Histgram of x1\")\n",
        "hist1.set_xlabel(\"x1\")\n",
        "hist1.set_ylabel(\"frequency\")\n",
        "plt.xlim(-6, 3)\n",
        "fig2.show()"
      ],
      "execution_count": 132,
      "outputs": [
        {
          "output_type": "display_data",
          "data": {
            "image/png": "[encoded data removed]",
            "text/plain": [
              "<Figure size 432x288 with 1 Axes>"
            ]
          },
          "metadata": {
            "tags": []
          }
        }
      ]
    },
    {
      "cell_type": "code",
      "metadata": {
        "id": "5_4l8HX2o8VU",
        "colab_type": "code",
        "colab": {
          "base_uri": "https://localhost:8080/",
          "height": 295
        },
        "outputId": "8737ba0f-1fe8-4dae-b022-a41fa02bc3a7"
      },
      "source": [
        "fig3 = plt.figure(facecolor=\"lightgreen\")\n",
        "hist2 = fig3.add_subplot(1,1,1)\n",
        "\n",
        "hist2.hist(data_1x2, bins=50)\n",
        "hist2.set_title(\"Histgram of x2\")\n",
        "hist2.set_xlabel(\"x2\")\n",
        "hist2.set_ylabel(\"frequency\")\n",
        "plt.xlim(-6, 3)\n",
        "fig3.show()"
      ],
      "execution_count": 133,
      "outputs": [
        {
          "output_type": "display_data",
          "data": {
            "image/png": "[encoded data removed]",
            "text/plain": [
              "<Figure size 432x288 with 1 Axes>"
            ]
          },
          "metadata": {
            "tags": []
          }
        }
      ]
    },
    {
      "cell_type": "markdown",
      "metadata": {
        "id": "4g8Vq7h-nEjT",
        "colab_type": "text"
      },
      "source": [
        "##【問題4】データの追加\n",
        "新たに平均が(0, -3)、共分散行列が以下で表される2次元正規分布による乱数を500個作成してください。\n",
        "\n",
        "\n",
        "\n",
        "そして、問題1、4それぞれのデータをひとつの散布図として可視化してください。凡例として問題1のものは0、問題2のものは1を表示してください。\n",
        "\n",
        "\n",
        "《作成例》\n",
        "\n",
        "\n",
        "課題のはじめに紹介した図と同じものです"
      ]
    },
    {
      "cell_type": "code",
      "metadata": {
        "id": "9s3fueIonFqE",
        "colab_type": "code",
        "colab": {
          "base_uri": "https://localhost:8080/",
          "height": 85
        },
        "outputId": "e70f57de-592f-41ef-974d-214eb4054e50"
      },
      "source": [
        "# 期待値と分散共分散行列の準備\n",
        "mean2 = np.array([0, -3])\n",
        "cov2 = np.array([[1.0, 0.8], [0.8, 1.0]])\n",
        "\n",
        "# numpy を用いた乱数の生成\n",
        "data_2 = np.random.multivariate_normal(mean2, cov2, size=500)\n",
        "\n",
        "# データ型の確認\n",
        "print(data_2.shape)\n",
        "\n",
        "# 期待値の確認\n",
        "print(np.mean(data_2, axis=0))\n",
        "\n",
        "# 分散共分散の確認\n",
        "print(np.cov(data_2, rowvar=False))"
      ],
      "execution_count": 134,
      "outputs": [
        {
          "output_type": "stream",
          "text": [
            "(500, 2)\n",
            "[-0.02245828 -3.01908023]\n",
            "[[0.93647233 0.76132357]\n",
            " [0.76132357 0.95782874]]\n"
          ],
          "name": "stdout"
        }
      ]
    },
    {
      "cell_type": "code",
      "metadata": {
        "id": "W-_BLw9wv3yt",
        "colab_type": "code",
        "colab": {
          "base_uri": "https://localhost:8080/",
          "height": 295
        },
        "outputId": "f20dd719-32f7-4e9f-fa86-dcb0010e49bc"
      },
      "source": [
        "data_2x1 = []\n",
        "data_2x2 = []\n",
        "\n",
        "for i in range(data_2.shape[0]):\n",
        "  data_2x1.append(data_2[i][0])\n",
        "  data_2x2.append(data_2[i][1])\n",
        "\n",
        "fig4 = plt.figure(facecolor=\"lightgreen\")\n",
        "scatter2 = fig4.add_subplot(1,1,1)\n",
        "\n",
        "scatter2.scatter(data_1x1, data_1x2, label='0')\n",
        "scatter2.scatter(data_2x1, data_2x2, label='1')\n",
        "scatter2.legend(loc='upper right')\n",
        "scatter2.set_title(\"Scatter2\")\n",
        "scatter2.set_xlabel(\"x1\")\n",
        "scatter2.set_ylabel(\"x2\")\n",
        "fig4.show()"
      ],
      "execution_count": 135,
      "outputs": [
        {
          "output_type": "display_data",
          "data": {
            "image/png": "[encoded data removed]",
            "text/plain": [
              "<Figure size 432x288 with 1 Axes>"
            ]
          },
          "metadata": {
            "tags": []
          }
        }
      ]
    },
    {
      "cell_type": "markdown",
      "metadata": {
        "id": "NvILJDconIIX",
        "colab_type": "text"
      },
      "source": [
        "##【問題5】データの結合\n",
        "データはまとめておいた方が後々扱いやすいです。問題1、4で作成したndarrayを 結合 し、(1000, 2)のndarrayとしてください。結合はnp.concatenate()やnp.vstack()を使うことで行えます。\n",
        "\n",
        "\n",
        "numpy.concatenate — NumPy v1.16 Manual\n",
        "\n",
        "\n",
        "numpy.vsplit — NumPy v1.16 Manual\n",
        "\n"
      ]
    },
    {
      "cell_type": "code",
      "metadata": {
        "id": "lOqYCxtsnI_J",
        "colab_type": "code",
        "colab": {
          "base_uri": "https://localhost:8080/",
          "height": 34
        },
        "outputId": "251eaee7-f039-4358-de8d-4f35ae207b70"
      },
      "source": [
        "data_x_all = np.concatenate((data_1, data_2), axis=0)\n",
        "print(data_x_all.shape)"
      ],
      "execution_count": 136,
      "outputs": [
        {
          "output_type": "stream",
          "text": [
            "(1000, 2)\n"
          ],
          "name": "stdout"
        }
      ]
    },
    {
      "cell_type": "code",
      "metadata": {
        "id": "JMXRp2Fg0T1j",
        "colab_type": "code",
        "colab": {
          "base_uri": "https://localhost:8080/",
          "height": 34
        },
        "outputId": "5cb4fd39-e9ac-4d00-e51d-479e7c2f5ea2"
      },
      "source": [
        "data_x_all2 = np.vstack((data_1, data_2))\n",
        "print(data_x_all2.shape)"
      ],
      "execution_count": 137,
      "outputs": [
        {
          "output_type": "stream",
          "text": [
            "(1000, 2)\n"
          ],
          "name": "stdout"
        }
      ]
    },
    {
      "cell_type": "markdown",
      "metadata": {
        "id": "FtVhOh7L0MbU",
        "colab_type": "text"
      },
      "source": [
        "## 【問題6】ラベル付け\n",
        "ひとまとめになった1000個のデータそれぞれに対して、問題1、4どちらで作成したものなのかを示す ラベル 付けを行ってください。問題1のものには0、問題4のものには1を対応させます。\n",
        "\n",
        "\n",
        "0と1を含むラベルの列を新たに追加し、(1000, 3)のndarrayを作成してください。\n",
        "\n",
        "\n",
        "機械学習に使用するデータセットはこのような形になっていることが多いです。"
      ]
    },
    {
      "cell_type": "code",
      "metadata": {
        "id": "sx0zCLQWnL6H",
        "colab_type": "code",
        "colab": {
          "base_uri": "https://localhost:8080/",
          "height": 153
        },
        "outputId": "919dc018-bccc-402a-c2c7-08720f889c1b"
      },
      "source": [
        "index = [0]*data_1.shape[0] + [1]*data_2.shape[0]\n",
        "index_ndarray = np.array(index).reshape(data_1.shape[0] + data_2.shape[0], 1)\n",
        "\n",
        "data_all = np.append(data_x_all, index_ndarray, axis=1)\n",
        "print(data_all.shape)\n",
        "print(data_all)"
      ],
      "execution_count": 138,
      "outputs": [
        {
          "output_type": "stream",
          "text": [
            "(1000, 3)\n",
            "[[-4.80006782 -1.54698618  0.        ]\n",
            " [-4.63714503 -0.21987973  0.        ]\n",
            " [-4.46267867 -2.08076347  0.        ]\n",
            " ...\n",
            " [-0.2185878  -3.15676476  1.        ]\n",
            " [-1.37970304 -4.27950068  1.        ]\n",
            " [ 1.49786804 -2.33126243  1.        ]]\n"
          ],
          "name": "stdout"
        }
      ]
    },
    {
      "cell_type": "code",
      "metadata": {
        "id": "dcKgvZmr86oF",
        "colab_type": "code",
        "colab": {}
      },
      "source": [
        ""
      ],
      "execution_count": 138,
      "outputs": []
    }
  ]
}