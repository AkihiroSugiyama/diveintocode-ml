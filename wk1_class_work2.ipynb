{
  "nbformat": 4,
  "nbformat_minor": 0,
  "metadata": {
    "colab": {
      "name": "wk1_class_work2.ipynb",
      "provenance": [],
      "collapsed_sections": []
    },
    "kernelspec": {
      "name": "python3",
      "display_name": "Python 3"
    }
  },
  "cells": [
    {
      "cell_type": "code",
      "metadata": {
        "id": "Spb1XpxbPQ50",
        "colab_type": "code",
        "colab": {}
      },
      "source": [
        "import numpy as np"
      ],
      "execution_count": null,
      "outputs": []
    },
    {
      "cell_type": "code",
      "metadata": {
        "id": "pesuWwo4SwUs",
        "colab_type": "code",
        "colab": {}
      },
      "source": [
        "DISTANCE_FROM_EARTH_TO_PROXIMA = 40141900000000000\n",
        "DISTANCE_FROM_EARTH_TO_MOON = 384400000\n",
        "DISTANCE_FROM_EARTH_TO_MTFUJI = 3776\n",
        "THICKNESS = 0.00008"
      ],
      "execution_count": null,
      "outputs": []
    },
    {
      "cell_type": "markdown",
      "metadata": {
        "id": "Kvlk9SLtG9PB",
        "colab_type": "text"
      },
      "source": [
        "## 【問題1】富士山を超える最小の折る回数"
      ]
    },
    {
      "cell_type": "markdown",
      "metadata": {
        "id": "T465P4FSHIjw",
        "colab_type": "text"
      },
      "source": [
        "厚さが「富士山(3776m)」を超えるのは何回紙を折った時か計算するプログラムを作成してください。"
      ]
    },
    {
      "cell_type": "code",
      "metadata": {
        "id": "8QX57YduHFEA",
        "colab_type": "code",
        "colab": {
          "base_uri": "https://localhost:8080/",
          "height": 34
        },
        "outputId": "b818e5c5-b7dd-46a4-b137-490b6fee863d"
      },
      "source": [
        "import matplotlib.pyplot as plt\n",
        "\n",
        "folded_thickness = []\n",
        "temp_thickness = THICKNESS\n",
        "folded_thickness.append(temp_thickness)\n",
        "count = 0\n",
        "\n",
        "while True:\n",
        "    if folded_thickness[count] > 3776:\n",
        "        break\n",
        "    else:\n",
        "        count += 1\n",
        "        folded_thickness.append(temp_thickness * 2)\n",
        "        temp_thickness = folded_thickness[count]\n",
        "\n",
        "print(count)"
      ],
      "execution_count": null,
      "outputs": [
        {
          "output_type": "stream",
          "text": [
            "26\n"
          ],
          "name": "stdout"
        }
      ]
    },
    {
      "cell_type": "markdown",
      "metadata": {
        "id": "WMkSyfXFMibY",
        "colab_type": "text"
      },
      "source": [
        "## 【問題2】任意の厚さに対応した関数を作成"
      ]
    },
    {
      "cell_type": "markdown",
      "metadata": {
        "id": "eCIjaJL6MvZ1",
        "colab_type": "text"
      },
      "source": [
        "距離を入力すると、何回折った時に超えるかを出力する関数を作成してください。引数として、折る前の厚さ $t_{0}$ も設定できるようにしましょう。\n",
        "この関数を利用して、「最も近い太陽以外の恒星」に到達するには紙を何回折る必要があるか計算してください。「最も近い太陽以外の恒星」の距離は調査してください。"
      ]
    },
    {
      "cell_type": "code",
      "metadata": {
        "id": "MEp0vAxJM1ll",
        "colab_type": "code",
        "colab": {}
      },
      "source": [
        "def folding_num_calc(thickness, distance):\n",
        "  folded_thickness_list = []\n",
        "  folded_thickness_list.append(thickness)\n",
        "  count = 0\n",
        "  while True:\n",
        "    if folded_thickness_list[count] > distance:\n",
        "      break\n",
        "    else:\n",
        "      count += 1\n",
        "      folded_thickness_list.append(thickness * 2)\n",
        "      thickness = folded_thickness_list[count]\n",
        "  return folded_thickness_list, count"
      ],
      "execution_count": null,
      "outputs": []
    },
    {
      "cell_type": "code",
      "metadata": {
        "id": "xKtWdQsROWkj",
        "colab_type": "code",
        "colab": {
          "base_uri": "https://localhost:8080/",
          "height": 34
        },
        "outputId": "26d4b03b-8bee-44f9-df50-a9a3aa21c78f"
      },
      "source": [
        "folded_thickness_list, count = folding_num_calc(THICKNESS, DISTANCE_FROM_EARTH_TO_PROXIMA)\n",
        "print(\"厚さ{}m の紙を{}回折ると、紙の厚さは{}m になり、地球から最も近い恒星 プロシマ・ケンタウリまでの距離を超えます。\".format(folded_thickness_list[0], count, folded_thickness_list[-1]))"
      ],
      "execution_count": null,
      "outputs": [
        {
          "output_type": "stream",
          "text": [
            "厚さ8e-05m の紙を69回折ると、紙の厚さは4.7223664828696456e+16m になり、地球から最も近い恒星 プロシマ・ケンタウリまでの距離を超えます。\n"
          ],
          "name": "stdout"
        }
      ]
    },
    {
      "cell_type": "markdown",
      "metadata": {
        "id": "kaYgA5CyRg8C",
        "colab_type": "text"
      },
      "source": [
        "## 【問題3】必要な紙の長さ"
      ]
    },
    {
      "cell_type": "markdown",
      "metadata": {
        "id": "ty3pOXTbRnW0",
        "colab_type": "text"
      },
      "source": [
        "「月」「富士山」「最も近い太陽以外の恒星」に届くために必要な紙の長さを求めてください。"
      ]
    },
    {
      "cell_type": "code",
      "metadata": {
        "id": "1jtAzfcaovq2",
        "colab_type": "code",
        "colab": {}
      },
      "source": [
        "def necessity_paper_length(thickness, target_distance):\n",
        "  folded_thickness_list = folding_num_calc(thickness, target_distance)\n",
        "  folding_thickness_list, folding_num = folding_num_calc(thickness, target_distance)\n",
        "  necessity_length = (np.pi*thickness/6) * (2**folding_num + 4) * (2**folding_num - 1)\n",
        "  print(\"ターゲットに届くまでに必要な厚さ{}m の紙の長さは、{}m です。\".format(thickness, necessity_length))\n",
        "  return necessity_length"
      ],
      "execution_count": null,
      "outputs": []
    },
    {
      "cell_type": "code",
      "metadata": {
        "id": "FV23ov-cniSk",
        "colab_type": "code",
        "colab": {
          "base_uri": "https://localhost:8080/",
          "height": 34
        },
        "outputId": "348df1da-5ed9-4525-deb9-2b738554bfa1"
      },
      "source": [
        "## 月に届くために必要な紙の長さ\n",
        "necessity_length_to_moon = necessity_paper_length(THICKNESS, DISTANCE_FROM_EARTH_TO_MOON)"
      ],
      "execution_count": null,
      "outputs": [
        {
          "output_type": "stream",
          "text": [
            "ターゲットに届くまでに必要な厚さ8e-05m の紙の長さは、3.240919444170781e+21m です。\n"
          ],
          "name": "stdout"
        }
      ]
    },
    {
      "cell_type": "code",
      "metadata": {
        "id": "FDH41ynYqLl_",
        "colab_type": "code",
        "colab": {
          "base_uri": "https://localhost:8080/",
          "height": 34
        },
        "outputId": "be80d030-6672-449e-acad-a74df7a34c46"
      },
      "source": [
        "## 富士山に届くために必要な紙の長さ\n",
        "necessity_length_to_fuji = necessity_paper_length(THICKNESS, DISTANCE_FROM_EARTH_TO_MTFUJI)"
      ],
      "execution_count": null,
      "outputs": [
        {
          "output_type": "stream",
          "text": [
            "ターゲットに届くまでに必要な厚さ8e-05m の紙の長さは、188646348487.24017m です。\n"
          ],
          "name": "stdout"
        }
      ]
    },
    {
      "cell_type": "code",
      "metadata": {
        "id": "dj7sabMvrIXk",
        "colab_type": "code",
        "colab": {
          "base_uri": "https://localhost:8080/",
          "height": 34
        },
        "outputId": "c4cde58a-8e38-4c81-9a7c-cc87b2e70af5"
      },
      "source": [
        "## 最も近い太陽以外の恒星に届くために必要な紙の長さ\n",
        "necessity_length_to_proxima = necessity_paper_length(THICKNESS, DISTANCE_FROM_EARTH_TO_PROXIMA)"
      ],
      "execution_count": null,
      "outputs": [
        {
          "output_type": "stream",
          "text": [
            "ターゲットに届くまでに必要な厚さ8e-05m の紙の長さは、1.4595803601100348e+37m です。\n"
          ],
          "name": "stdout"
        }
      ]
    },
    {
      "cell_type": "code",
      "metadata": {
        "id": "SRUu_nyqrWm8",
        "colab_type": "code",
        "colab": {}
      },
      "source": [
        ""
      ],
      "execution_count": null,
      "outputs": []
    }
  ]
}