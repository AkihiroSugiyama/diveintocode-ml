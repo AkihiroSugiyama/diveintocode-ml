{
  "nbformat": 4,
  "nbformat_minor": 0,
  "metadata": {
    "colab": {
      "name": "wk2_work1.ipynb",
      "provenance": [],
      "collapsed_sections": []
    },
    "kernelspec": {
      "name": "python3",
      "display_name": "Python 3"
    }
  },
  "cells": [
    {
      "cell_type": "markdown",
      "metadata": {
        "id": "gsLc7HOUvuzH",
        "colab_type": "text"
      },
      "source": [
        "## 2.小麦とチェス盤問題\n",
        "8×8マスのチェス盤の上に、小麦の粒を1, 2, 4と順番に置いていくと最終的な小麦の数はどのようになるかという問題です。"
      ]
    },
    {
      "cell_type": "code",
      "metadata": {
        "id": "5NH2kfewvwgh",
        "colab_type": "code",
        "colab": {}
      },
      "source": [
        "import numpy as np\n",
        "import matplotlib.pyplot as plt"
      ],
      "execution_count": 236,
      "outputs": []
    },
    {
      "cell_type": "code",
      "metadata": {
        "id": "0nnBu9DCv7tS",
        "colab_type": "code",
        "colab": {
          "base_uri": "https://localhost:8080/",
          "height": 51
        },
        "outputId": "53aac392-c29c-4b93-b5cf-1e210b8a95c7"
      },
      "source": [
        "n_squares = 4\n",
        "small_board_list = [1]\n",
        "for _ in range(n_squares - 1):\n",
        "    small_board_list.append(2*small_board_list[-1])\n",
        "print(\"4マスの板に小麦を並べる（リスト）：{}\".format(small_board_list))\n",
        "\n",
        "small_board_ndarray = np.array(small_board_list)\n",
        "print(\"4マスの板に小麦を並べる（ndarray）：{}\".format(small_board_ndarray))"
      ],
      "execution_count": 237,
      "outputs": [
        {
          "output_type": "stream",
          "text": [
            "4マスの板に小麦を並べる（リスト）：[1, 2, 4, 8]\n",
            "4マスの板に小麦を並べる（ndarray）：[1 2 4 8]\n"
          ],
          "name": "stdout"
        }
      ]
    },
    {
      "cell_type": "markdown",
      "metadata": {
        "id": "S4rAxvK-wFFa",
        "colab_type": "text"
      },
      "source": [
        "## 【問題1】2×2マスのチェス盤の小麦の数\n",
        "2×2マスのチェス盤をndarrayによって表現し、各マスの小麦の数を計算してください。左上のマスに小麦を1つ置いた後、その右が2つ、左下が4つ、右下が8つという風に進みます。\n",
        "\n",
        "\n",
        "サンプルコードで作成したndarrayのshapeの変形を行ってください。"
      ]
    },
    {
      "cell_type": "code",
      "metadata": {
        "id": "2KK1EisTwGOA",
        "colab_type": "code",
        "colab": {
          "base_uri": "https://localhost:8080/",
          "height": 51
        },
        "outputId": "39a3d614-9301-408f-f179-a5acc27f765d"
      },
      "source": [
        "print(small_board_ndarray.reshape(2,2))"
      ],
      "execution_count": 238,
      "outputs": [
        {
          "output_type": "stream",
          "text": [
            "[[1 2]\n",
            " [4 8]]\n"
          ],
          "name": "stdout"
        }
      ]
    },
    {
      "cell_type": "markdown",
      "metadata": {
        "id": "9pjzbVB-wKH2",
        "colab_type": "text"
      },
      "source": [
        "##【問題2】n×mマスへの拡張\n",
        "n×mマスのチェス盤の小麦の数を記したndarrayを返す関数を作成してください。そして、この関数を使い8×8マスのチェス盤の小麦の数を求めてください。"
      ]
    },
    {
      "cell_type": "code",
      "metadata": {
        "id": "FyvvqXDbwM54",
        "colab_type": "code",
        "colab": {}
      },
      "source": [
        "def ndarray_reshaper(n, m):\n",
        "  n_squares = n * m\n",
        "  board_list = [1]\n",
        "  for _ in range(n_squares - 1):\n",
        "    board_list.append(2*board_list[-1])\n",
        "#  print(\"{}マスの板に小麦を並べる（リスト）：{}\".format(n*m, board_list))\n",
        "  board_ndarray = np.array(board_list)\n",
        "  return board_ndarray, board_ndarray.reshape(n,m)"
      ],
      "execution_count": 239,
      "outputs": []
    },
    {
      "cell_type": "code",
      "metadata": {
        "id": "MccF-9PV_k09",
        "colab_type": "code",
        "colab": {
          "base_uri": "https://localhost:8080/",
          "height": 153
        },
        "outputId": "76d76bda-8b1f-4ad3-cb6f-e1a2e8babb06"
      },
      "source": [
        "array8x8_1d, array8x8 = ndarray_reshaper(8,8)\n",
        "print(array8x8)"
      ],
      "execution_count": 240,
      "outputs": [
        {
          "output_type": "stream",
          "text": [
            "[[1.e+00 2.e+00 4.e+00 8.e+00 2.e+01 3.e+01 6.e+01 1.e+02]\n",
            " [3.e+02 5.e+02 1.e+03 2.e+03 4.e+03 8.e+03 2.e+04 3.e+04]\n",
            " [7.e+04 1.e+05 3.e+05 5.e+05 1.e+06 2.e+06 4.e+06 8.e+06]\n",
            " [2.e+07 3.e+07 7.e+07 1.e+08 3.e+08 5.e+08 1.e+09 2.e+09]\n",
            " [4.e+09 9.e+09 2.e+10 3.e+10 7.e+10 1.e+11 3.e+11 5.e+11]\n",
            " [1.e+12 2.e+12 4.e+12 9.e+12 2.e+13 4.e+13 7.e+13 1.e+14]\n",
            " [3.e+14 6.e+14 1.e+15 2.e+15 5.e+15 9.e+15 2.e+16 4.e+16]\n",
            " [7.e+16 1.e+17 3.e+17 6.e+17 1.e+18 2.e+18 5.e+18 9.e+18]]\n"
          ],
          "name": "stdout"
        }
      ]
    },
    {
      "cell_type": "markdown",
      "metadata": {
        "id": "Tm5vJlZewQbg",
        "colab_type": "text"
      },
      "source": [
        "##【問題3】小麦の数の合計\n",
        "8×8マスのチェス盤の小麦の数の合計を求めてください。また、各列の平均を求め、それを棒グラフで可視化してください。\n",
        "\n",
        "\n",
        "棒グラフはサンプルコードを用意しています。"
      ]
    },
    {
      "cell_type": "code",
      "metadata": {
        "id": "ImlYZai2wRI_",
        "colab_type": "code",
        "colab": {
          "base_uri": "https://localhost:8080/",
          "height": 329
        },
        "outputId": "93d00a96-b484-4212-bcb7-be70afbdf6c8"
      },
      "source": [
        "total_wheat_num = np.sum(array8x8)\n",
        "print(\"8×8マスのチェス盤の小麦の数の合計：{}個\".format(total_wheat_num))\n",
        "\n",
        "\"\"\"\n",
        "引数axisに0を渡すと列ごと、1を渡すと行ごと。（本当は０：１次元、１：２次元の意味。）\n",
        "https://deepage.net/features/numpy-axis.html\n",
        "\"\"\"\n",
        "np.sum(array8x8, axis=0)\n",
        "print(np.mean(array8x8, axis=0))\n",
        "\n",
        "fig1 = plt.figure(facecolor=\"lightgreen\")\n",
        "plt.title(\"Mean Value of Each Columns of The Target Array\")\n",
        "plt.xlabel(\"list index\")\n",
        "plt.ylabel(\"mean value\")\n",
        "plt.plot(np.mean(array8x8, axis=0))\n",
        "plt.show()\n"
      ],
      "execution_count": 241,
      "outputs": [
        {
          "output_type": "stream",
          "text": [
            "8×8マスのチェス盤の小麦の数の合計：1.8446744073709552e+19個\n",
            "[9.e+15 2.e+16 4.e+16 7.e+16 1.e+17 3.e+17 6.e+17 1.e+18]\n"
          ],
          "name": "stdout"
        },
        {
          "output_type": "display_data",
          "data": {
            "image/png": "[encoded data removed]",
            "text/plain": [
              "<Figure size 432x288 with 1 Axes>"
            ]
          },
          "metadata": {
            "tags": []
          }
        }
      ]
    },
    {
      "cell_type": "markdown",
      "metadata": {
        "id": "Oqk0TyWqwUxD",
        "colab_type": "text"
      },
      "source": [
        "## 【問題4】小麦の数のヒートマップ\n",
        "8×8マスのチェス盤の小麦の数をヒートマップとして可視化してください。\n",
        "\n",
        "\n",
        "ヒートマップはサンプルコードを用意しています。\n",
        "\n",
        "\n",
        "《ヒートマップのサンプルコード》\n",
        "\n",
        "\n",
        "4行2列の配列のヒートマップです。値が小さいところが紫、大きいところが黄色になっています"
      ]
    },
    {
      "cell_type": "code",
      "metadata": {
        "id": "mXzIMyNDwV_k",
        "colab_type": "code",
        "colab": {
          "base_uri": "https://localhost:8080/",
          "height": 295
        },
        "outputId": "e8a32856-c25e-4726-bee1-6144c1092dbf"
      },
      "source": [
        "fig2 = plt.figure(facecolor=\"lightgreen\")\n",
        "plt.xlabel(\"column\")\n",
        "plt.ylabel(\"row\")\n",
        "plt.title(\"heatmap\")\n",
        "plt.pcolor(array8x8)\n",
        "plt.show()"
      ],
      "execution_count": 242,
      "outputs": [
        {
          "output_type": "display_data",
          "data": {
            "image/png": "[encoded data removed]",
            "text/plain": [
              "<Figure size 432x288 with 1 Axes>"
            ]
          },
          "metadata": {
            "tags": []
          }
        }
      ]
    },
    {
      "cell_type": "markdown",
      "metadata": {
        "id": "SBDvB7L9wcOd",
        "colab_type": "text"
      },
      "source": [
        "##【問題5】後半は前半の何倍か\n",
        "チェス盤の後半にある小麦の数は前半にある小麦の数の何倍かを求めてください。前半とは配列の0から3行目、後半は4から7行目です。"
      ]
    },
    {
      "cell_type": "code",
      "metadata": {
        "id": "eUOcYesdaFgw",
        "colab_type": "code",
        "colab": {
          "base_uri": "https://localhost:8080/",
          "height": 34
        },
        "outputId": "8b6e59e8-14b3-4203-c879-0a29895f2106"
      },
      "source": [
        "first_half = []\n",
        "second_half = []\n",
        "\n",
        "for i in range(8):\n",
        "  if i<=3:\n",
        "    first_half.append(np.uint64(np.sum(array8x8, axis=0)[i])) # 0~3行目までの行の和をリスト化\n",
        "  else:\n",
        "    second_half.append(np.uint64(np.sum(array8x8, axis=0)[i])) # 4~7行目までの行の和をリスト化\n",
        "\n",
        "print(\"チェス盤の後半にある小麦の数は前半にある小麦の数の{}倍\".format(sum(second_half) / sum(first_half)))"
      ],
      "execution_count": 243,
      "outputs": [
        {
          "output_type": "stream",
          "text": [
            "チェス盤の後半にある小麦の数は前半にある小麦の数の16.0倍\n"
          ],
          "name": "stdout"
        }
      ]
    },
    {
      "cell_type": "markdown",
      "metadata": {
        "id": "STBuhpRHwkZe",
        "colab_type": "text"
      },
      "source": [
        "##【問題6】他の計算方法によるn×mマスへの拡張\n",
        "問題2と同様の「n×mマスのチェス盤の小麦の数を記したndarrayを返す関数」を、np.append()を使ったものと、ブロードキャストを使ったもので新たに作成してください。\n",
        "\n",
        "\n",
        "それらの関数を使い8×8マスのチェス盤の小麦の数を再び求めてください。"
      ]
    },
    {
      "cell_type": "code",
      "metadata": {
        "id": "tYOPx94ywlnF",
        "colab_type": "code",
        "colab": {}
      },
      "source": [
        "def ndarray_reshaper_npappend(n, m):\n",
        "  n_squares = n * m\n",
        "  board_ndarray = np.array([1])\n",
        "  for _ in range(n_squares - 1):\n",
        "    board_ndarray = np.append(board_ndarray, 2*board_ndarray[-1])\n",
        "  return np.uint64(board_ndarray), np.uint64(board_ndarray.reshape(n,m))"
      ],
      "execution_count": 244,
      "outputs": []
    },
    {
      "cell_type": "code",
      "metadata": {
        "id": "IVE5xTeVdg2X",
        "colab_type": "code",
        "colab": {}
      },
      "source": [
        "def ndarray_reshaper_broadcast(n, m):\n",
        "  n_squares = n * m\n",
        "  indices_of_squares = np.arange(n_squares) # 0~63のndarrayを作成\n",
        "  board_ndarray = 2**indices_of_squares\n",
        "  return np.uint64(board_ndarray), np.uint64(board_ndarray.reshape(n,m))"
      ],
      "execution_count": 245,
      "outputs": []
    },
    {
      "cell_type": "code",
      "metadata": {
        "id": "RwOry2HbbRsP",
        "colab_type": "code",
        "colab": {
          "base_uri": "https://localhost:8080/",
          "height": 459
        },
        "outputId": "a7c8d112-a9c1-4f3f-d79a-bfd84221853f"
      },
      "source": [
        "array8x8_1d_npappend, array8x8_npappend = ndarray_reshaper_npappend(8,8)\n",
        "print(array8x8_npappend)"
      ],
      "execution_count": 246,
      "outputs": [
        {
          "output_type": "stream",
          "text": [
            "[[                  1                   2                   4\n",
            "                    8                  16                  32\n",
            "                   64                 128]\n",
            " [                256                 512                1024\n",
            "                 2048                4096                8192\n",
            "                16384               32768]\n",
            " [              65536              131072              262144\n",
            "               524288             1048576             2097152\n",
            "              4194304             8388608]\n",
            " [           16777216            33554432            67108864\n",
            "            134217728           268435456           536870912\n",
            "           1073741824          2147483648]\n",
            " [         4294967296          8589934592         17179869184\n",
            "          34359738368         68719476736        137438953472\n",
            "         274877906944        549755813888]\n",
            " [      1099511627776       2199023255552       4398046511104\n",
            "        8796093022208      17592186044416      35184372088832\n",
            "       70368744177664     140737488355328]\n",
            " [    281474976710656     562949953421312    1125899906842624\n",
            "     2251799813685248    4503599627370496    9007199254740992\n",
            "    18014398509481984   36028797018963968]\n",
            " [  72057594037927936  144115188075855872  288230376151711744\n",
            "   576460752303423488 1152921504606846976 2305843009213693952\n",
            "  4611686018427387904 9223372036854775808]]\n"
          ],
          "name": "stdout"
        },
        {
          "output_type": "stream",
          "text": [
            "/usr/local/lib/python3.6/dist-packages/ipykernel_launcher.py:5: RuntimeWarning: overflow encountered in long_scalars\n",
            "  \"\"\"\n"
          ],
          "name": "stderr"
        }
      ]
    },
    {
      "cell_type": "code",
      "metadata": {
        "id": "AvvgGQdwfe6D",
        "colab_type": "code",
        "colab": {
          "base_uri": "https://localhost:8080/",
          "height": 425
        },
        "outputId": "8212917f-ecca-4f04-e8b4-64ed0d674b03"
      },
      "source": [
        "array8x8_1d_broadcast, array8x8_broadcast = ndarray_reshaper_broadcast(8,8)\n",
        "print(array8x8_broadcast)"
      ],
      "execution_count": 247,
      "outputs": [
        {
          "output_type": "stream",
          "text": [
            "[[                  1                   2                   4\n",
            "                    8                  16                  32\n",
            "                   64                 128]\n",
            " [                256                 512                1024\n",
            "                 2048                4096                8192\n",
            "                16384               32768]\n",
            " [              65536              131072              262144\n",
            "               524288             1048576             2097152\n",
            "              4194304             8388608]\n",
            " [           16777216            33554432            67108864\n",
            "            134217728           268435456           536870912\n",
            "           1073741824          2147483648]\n",
            " [         4294967296          8589934592         17179869184\n",
            "          34359738368         68719476736        137438953472\n",
            "         274877906944        549755813888]\n",
            " [      1099511627776       2199023255552       4398046511104\n",
            "        8796093022208      17592186044416      35184372088832\n",
            "       70368744177664     140737488355328]\n",
            " [    281474976710656     562949953421312    1125899906842624\n",
            "     2251799813685248    4503599627370496    9007199254740992\n",
            "    18014398509481984   36028797018963968]\n",
            " [  72057594037927936  144115188075855872  288230376151711744\n",
            "   576460752303423488 1152921504606846976 2305843009213693952\n",
            "  4611686018427387904 9223372036854775808]]\n"
          ],
          "name": "stdout"
        }
      ]
    },
    {
      "cell_type": "markdown",
      "metadata": {
        "id": "XprhYRunwndL",
        "colab_type": "text"
      },
      "source": [
        "## 【問題7】計算時間の比較\n",
        "3種類の方法を見てきました。それぞれの計算時間をJupyter Notebookの%%timeitを用いて計測し、比較と考察を行ってください。\n",
        "\n",
        "\n",
        "%%timeitはセル内のコードを複数回実行し、その平均実行時間を出力する働きをします。"
      ]
    },
    {
      "cell_type": "code",
      "metadata": {
        "id": "inPUAOAgwoQJ",
        "colab_type": "code",
        "colab": {
          "base_uri": "https://localhost:8080/",
          "height": 51
        },
        "outputId": "c1c0c07f-ce7e-416b-ff22-19cf157c6d4a"
      },
      "source": [
        "# appendのユーザ関数\n",
        "%%timeit\n",
        "array8x8_1d, array8x8 = ndarray_reshaper(8,8)"
      ],
      "execution_count": 251,
      "outputs": [
        {
          "output_type": "stream",
          "text": [
            "The slowest run took 8.21 times longer than the fastest. This could mean that an intermediate result is being cached.\n",
            "100000 loops, best of 3: 15.3 µs per loop\n"
          ],
          "name": "stdout"
        }
      ]
    },
    {
      "cell_type": "code",
      "metadata": {
        "id": "3f-N2p9Rg0Fm",
        "colab_type": "code",
        "colab": {
          "base_uri": "https://localhost:8080/",
          "height": 68
        },
        "outputId": "14f4cae6-8c7c-4bdd-9480-8dd27e78f3ce"
      },
      "source": [
        "# np.appendのユーザ関数\n",
        "%%timeit\n",
        "array8x8_1d_npappend, array8x8_npappend = ndarray_reshaper_npappend(8,8)"
      ],
      "execution_count": 252,
      "outputs": [
        {
          "output_type": "stream",
          "text": [
            "/usr/local/lib/python3.6/dist-packages/ipykernel_launcher.py:5: RuntimeWarning: overflow encountered in long_scalars\n",
            "  \"\"\"\n"
          ],
          "name": "stderr"
        },
        {
          "output_type": "stream",
          "text": [
            "1000 loops, best of 3: 425 µs per loop\n"
          ],
          "name": "stdout"
        }
      ]
    },
    {
      "cell_type": "code",
      "metadata": {
        "id": "3h5-M-vkhI0V",
        "colab_type": "code",
        "colab": {
          "base_uri": "https://localhost:8080/",
          "height": 51
        },
        "outputId": "d943ced6-b181-498f-f514-502555644829"
      },
      "source": [
        "# broadcastのユーザ関数\n",
        "%%timeit\n",
        "array8x8_1d_broadcast, array8x8_broadcast = ndarray_reshaper_broadcast(8,8)"
      ],
      "execution_count": 253,
      "outputs": [
        {
          "output_type": "stream",
          "text": [
            "The slowest run took 18.33 times longer than the fastest. This could mean that an intermediate result is being cached.\n",
            "100000 loops, best of 3: 4.69 µs per loop\n"
          ],
          "name": "stdout"
        }
      ]
    },
    {
      "cell_type": "markdown",
      "metadata": {
        "id": "VCWJR835hVmM",
        "colab_type": "text"
      },
      "source": [
        "###考察\n",
        "jupyter notebookのマジックコマンド`%%timeit`を用いて`append`, `np.append`, `broadcast`を使用したユーザ関数の処理時間の計測を行った。\n",
        "それぞれの平均処理時間は次の通りであった。\n",
        "- `append` : 15.3 µs\n",
        "- `np.append` : 425 µs\n",
        "- `broadcast` : 4.69 µs\n",
        "\n",
        "結果より、`np.append`の処理が最速の`broadcast`の処理より１００倍近く遅いことがわかった。そこで、`np.append`の記法に着目すると、ndarrayに新しい値を追加する時に、`append`のように新しい値をndarrayの最後に追加するだけでなく、追加した後に、新しいndarrayを元のndarrayに代入して更新していることがわかる。従い処理が遅くなったと考える、\n",
        "また、結果より`for`ループより`broadcast`の処理の方が早いことがわかった。"
      ]
    },
    {
      "cell_type": "code",
      "metadata": {
        "id": "GHhu5ut9ht2q",
        "colab_type": "code",
        "colab": {}
      },
      "source": [
        ""
      ],
      "execution_count": null,
      "outputs": []
    }
  ]
}