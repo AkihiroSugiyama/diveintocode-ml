{
 "cells": [
  {
   "cell_type": "markdown",
   "metadata": {},
   "source": [
    "# Sprint 機械学習スクラッチ 決定木"
   ]
  },
  {
   "cell_type": "markdown",
   "metadata": {},
   "source": [
    "## 決定木スクラッチ\n",
    "分類のための決定木のクラスをスクラッチで作成していきます。NumPyなど最低限のライブラリのみを使いアルゴリズムを実装していきます。\n",
    "\n",
    "決定木の学習には何回まで条件分岐を繰り返すかを表す（最大の）深さというハイパーパラメータが登場しますが、深さ1の実装を必須課題とします。深さが2以上のものはアドバンス課題とします。\n",
    "\n",
    "学習の仕方には様々な方法がありますが、ここではscikit-learnでも使用されているCART法をベースとした実装を行います。この方法では学習の複雑さを減らすために、分岐は2つに分かれるのみになります。\n",
    "\n",
    "分割の条件を学習で求める\n",
    "学習によって、ノードをどういった条件で分割すると、うまく分けられるかということを求めます。\n",
    "\n",
    "うまく分けられていることを判定するためにノードに対してジニ不純度と情報利得という値を計算します。"
   ]
  },
  {
   "cell_type": "code",
   "execution_count": 20,
   "metadata": {},
   "outputs": [],
   "source": [
    "import numpy as np\n",
    "import pandas as pd\n",
    "import scipy.stats as stats\n",
    "import matplotlib.pyplot as plt"
   ]
  },
  {
   "cell_type": "code",
   "execution_count": 21,
   "metadata": {},
   "outputs": [],
   "source": [
    "class ScratchDecisionTreeClassifierDepth1():\n",
    "    \"\"\"\n",
    "    深さ1の決定木分類器のスクラッチ実装\n",
    "\n",
    "    Attributes\n",
    "    ----------\n",
    "    self.threshold : number\n",
    "      決定木の閾値\n",
    "    self.threshold_id : 次の形のndarray, shape (1, 1) \n",
    "      閾値のインデックス\n",
    "    self.leaf_l : number or obj\n",
    "      左側の葉ノードの推定ラベル\n",
    "    self.leaf_r : number or obj\n",
    "      右側の葉ノードの推定ラベル\n",
    "    \"\"\"\n",
    "    \n",
    "    def __init__(self):\n",
    "        self.threshold = None\n",
    "        self.threshold_id = None\n",
    "        self.leaf_l = None\n",
    "        self.leaf_r = None\n",
    "        \n",
    "        \n",
    "    def gini_impurity(data):\n",
    "        \"\"\"\n",
    "        ジニ不純度を計算する\n",
    "\n",
    "        Parameters\n",
    "        ----------\n",
    "        data : 次の形のndarray, shape (n_samples,)\n",
    "    　　　　目的変数の配列\n",
    "\n",
    "        Returns\n",
    "        -------\n",
    "          float\n",
    "          計算されたジニ不純度\n",
    "\n",
    "        \"\"\"\n",
    "        gi = 0\n",
    "\n",
    "        labels, count = np.unique(data, return_counts=True)\n",
    "\n",
    "        for i in range(len(labels)):\n",
    "            gi += (count[i]/len(data))**2\n",
    "\n",
    "        return 1 - gi\n",
    "    \n",
    "    \n",
    "    def information_gain(node_root, node_l, node_r):\n",
    "        \"\"\"\n",
    "        利得情報を計算する\n",
    "\n",
    "        Parameters\n",
    "        ----------\n",
    "        node_root : 次の形のndarray, shape (n_samples,)\n",
    "          分割前の目的変数\n",
    "        node_l : 次の形のndarray, shape (n_samples,)\n",
    "          分割後に左ノードに格納された目的変数\n",
    "        node_r : 次の形のndarray, shape (n_samples,)\n",
    "          分割後に右ノードに格納された目的変数\n",
    "          \n",
    "        Returns\n",
    "        -------\n",
    "        ig : float\n",
    "          計算された利得情報\n",
    "\n",
    "        \"\"\"\n",
    "        ig = gini_impurity(node_root) \\\n",
    "             - len(node_l)/len(node_root) * gini_impurity(node_l) \\\n",
    "             - len(node_r)/len(node_root) * gini_impurity(node_r)\n",
    "\n",
    "        return ig\n",
    "    \n",
    "    \n",
    "    def fit(self, X, y):\n",
    "        \"\"\"\n",
    "        決定木分類器を学習する\n",
    "        \n",
    "        Parameters\n",
    "        ----------\n",
    "        X : 次の形のndarray, shape (n_samples, n_features)\n",
    "            訓練データの特徴量\n",
    "        y : 次の形のndarray, shape (n_samples, )\n",
    "            訓練データの正解値\n",
    "        \"\"\"\n",
    "            \n",
    "        node_root = y\n",
    "    \n",
    "        ig = np.empty(X.shape)\n",
    "\n",
    "        # 各特徴量に対して利得情報を計算\n",
    "        for j in range(len(X[0])):\n",
    "            # 各サンプルを決定境界とした場合の利得情報を計算\n",
    "            for i in range(len(X)):\n",
    "                threshold = X[i][j]\n",
    "                node_l = y[X[:,j] < threshold]\n",
    "                node_r = y[X[:,j] >= threshold]\n",
    "\n",
    "                ig[i][j] = information_gain(node_root, node_l, node_r)\n",
    "\n",
    "        # 最大利得情報のインデックスを２次元で抽出\n",
    "        self.threshold_id = np.unravel_index(np.argmax(ig), ig.shape)\n",
    "        self.threshold = X[self.threshold_id]\n",
    "\n",
    "        self.leaf_l = stats.mode(y[X[:, self.threshold_id[1]] < self.threshold])[0]\n",
    "        self.leaf_r = stats.mode(y[X[:, self.threshold_id[1]] >= self.threshold])[0]\n",
    "    \n",
    "    \n",
    "    def predict(self, X):\n",
    "        \"\"\"\n",
    "        決定木分類器を使いラベルを推定する\n",
    "        \n",
    "        Parameters\n",
    "        ----------\n",
    "        X : 次の形のndarray, shape (n_samples, n_features)\n",
    "            訓練データの特徴量\n",
    "            \n",
    "        Returns\n",
    "        -------\n",
    "        pred : 次の形のndarray, shape (n_samples, )\n",
    "          推定された値\n",
    "        \n",
    "        \"\"\"\n",
    "        \n",
    "        pred = np.where(X[:, self.threshold_id[1]] < self.threshold, self.leaf_l, self.leaf_r)\n",
    "    \n",
    "   \n",
    "        return pred"
   ]
  },
  {
   "cell_type": "markdown",
   "metadata": {},
   "source": [
    "## 【問題1】不純度を求める関数\n",
    "ノード の ジニ不純度 を計算する関数を作成してください。ノード$t$に対するジニ不純度$I(t)$は以下の数式で求まります。クラスが混じり合っているほどジニ不純度は高くなります。\n",
    "\n",
    "$$\n",
    "I(t) = 1-\\sum_{i=1}^{K}P^2(C_i|t) = 1-\\sum_{i=1}^{K}(\\frac{N_{t,i}}{N_{t,all}})^{2}\n",
    "$$\n",
    "まずは簡単な例を作り、手計算と関数の結果を比較してください。\n",
    "\n",
    "《例》\n",
    "\n",
    "- クラス1:サンプル数15, クラス2:サンプル数15 → ジニ不純度0.500\n",
    "- クラス1:サンプル数15, クラス2:サンプル数15, クラス3:サンプル数15 → ジニ不純度0.667\n",
    "- クラス1:サンプル数18, クラス2:サンプル数12 → ジニ不純度0.480\n",
    "- クラス1:サンプル数30, クラス2:サンプル数0 → ジニ不純度0.000"
   ]
  },
  {
   "cell_type": "code",
   "execution_count": 22,
   "metadata": {},
   "outputs": [],
   "source": [
    "def gini_impurity(data):\n",
    "    \"\"\"\n",
    "    ジニ不純度を計算する\n",
    "\n",
    "    Parameters\n",
    "    ----------\n",
    "    data : 次の形のndarray, shape (n_samples,)\n",
    "    目的変数の配列\n",
    "\n",
    "    Returns\n",
    "    -------\n",
    "      float\n",
    "      計算されたジニ不純度\n",
    "\n",
    "    \"\"\"\n",
    "    gi = 0\n",
    "    \n",
    "    labels, count = np.unique(data, return_counts=True)\n",
    "    \n",
    "    for i in range(len(labels)):\n",
    "        gi += (count[i]/len(data))**2\n",
    "    \n",
    "    return 1 - gi"
   ]
  },
  {
   "cell_type": "code",
   "execution_count": 23,
   "metadata": {},
   "outputs": [
    {
     "name": "stdout",
     "output_type": "stream",
     "text": [
      "0.5\n",
      "0.6666666666666667\n"
     ]
    }
   ],
   "source": [
    "data1 = np.concatenate((np.zeros(15), np.ones(15)))\n",
    "data2 = np.concatenate((np.concatenate((np.zeros(15), np.ones(15))),\n",
    "                        np.full(15, 2)))\n",
    "\n",
    "print(gini_impurity(data1))\n",
    "print(gini_impurity(data2))"
   ]
  },
  {
   "cell_type": "markdown",
   "metadata": {},
   "source": [
    "## 【問題2】情報利得を求める関数\n",
    "次に、ノード間の情報利得を計算する関数を作成してください。問題1で作成したジニ不純度$I(t)$を計算する関数を呼び出して使います。情報利得$IG$は以下の数式で求まります。うまく分けられている時ほど情報利得は大きくなります。\n",
    "\n",
    "ここで分岐は2つのみであるため、分岐先を「左側のノード・右側のノード」と呼びます。\n",
    "\n",
    "$$\n",
    "IG(p) = I(p)-\\frac{N_{left,all}}{N_{p,all}}I(left)-\\frac{N_{right,all}}{N_{p,all}}I(right)\n",
    "$$"
   ]
  },
  {
   "cell_type": "code",
   "execution_count": 24,
   "metadata": {},
   "outputs": [],
   "source": [
    "def information_gain(node_root, node_l, node_r):\n",
    "    \"\"\"\n",
    "    利得情報を計算する\n",
    "\n",
    "    Parameters\n",
    "    ----------\n",
    "    node_root : 次の形のndarray, shape (n_samples,)\n",
    "      分割前の目的変数\n",
    "    node_l : 次の形のndarray, shape (n_samples,)\n",
    "      分割後に左ノードに格納された目的変数\n",
    "    node_r : 次の形のndarray, shape (n_samples,)\n",
    "      分割後に右ノードに格納された目的変数\n",
    "\n",
    "    Returns\n",
    "    -------\n",
    "    ig : float\n",
    "      計算された利得情報\n",
    "\n",
    "    \"\"\"\n",
    "    ig = gini_impurity(node_root) \\\n",
    "         - len(node_l)/len(node_root) * gini_impurity(node_l) \\\n",
    "         - len(node_r)/len(node_root) * gini_impurity(node_r)\n",
    "    \n",
    "    return ig"
   ]
  },
  {
   "cell_type": "code",
   "execution_count": 25,
   "metadata": {},
   "outputs": [
    {
     "name": "stdout",
     "output_type": "stream",
     "text": [
      "0.14319526627218937\n"
     ]
    }
   ],
   "source": [
    "node_root = np.concatenate((np.zeros(30), np.ones(35)))\n",
    "node_l = np.concatenate((np.zeros(10), np.ones(30)))\n",
    "node_r = np.concatenate((np.zeros(20), np.ones(5)))\n",
    "\n",
    "print(information_gain(node_root, node_l, node_r))"
   ]
  },
  {
   "cell_type": "markdown",
   "metadata": {},
   "source": [
    "## 【問題3】学習\n",
    "空間の分割を行い、決定木のグラフを生成するコードを作成してください。今は深さ1の決定木なので、分割を1回だけ行います。ここでグラフを生成するとは、1回の分割の際の条件としてどの特徴量がいくつ以上の時とするかを求めるということです。\n",
    "\n",
    "訓練データに対して全ての組み合わせの分割を行い、その中でノード間の情報利得が最大となる分割をそのノードの分割基準として記録します。\n",
    "\n",
    "クラスが混ざらない不純度が0のノード、または指定された深さのノードが葉ノードとなります。葉ノードにはクラスを記録しておき、これを推定時に分類するクラスとします。クラスが混ざらない場合はそのままのクラスを記録し、混ざっている場合は多数決により決めます。\n",
    "\n",
    "\n",
    "《組み合わせの取り方》\n",
    "全ての組み合わせの取り方は、最も単純には各特徴量の値自体をしきい値にして分割を行う方法があります。片側の端は今回のスクラッチはこの方法で行なってください。\n",
    "\n",
    "他には中間の値をしきい値にする方法もあり、scikit-learnではこの方法が用いられています。\n",
    "\n",
    "\n",
    "《補足》\n",
    "問題2の情報利得を計算する関数はこの問題3で利用する上では、親ノードの不純度$I(p)$は固定されるため、左右のノードの不純度の合計を計算するだけでも同じ結果が得られることになります。しかし、ここでは親ノードを考慮した情報利得を計算する実装を行なってください。"
   ]
  },
  {
   "cell_type": "code",
   "execution_count": 26,
   "metadata": {},
   "outputs": [],
   "source": [
    "def fit(X, y):\n",
    "    \"\"\"\n",
    "    決定木分類器を学習する\n",
    "\n",
    "    Parameters\n",
    "    ----------\n",
    "    X : 次の形のndarray, shape (n_samples, n_features)\n",
    "        訓練データの特徴量\n",
    "    y : 次の形のndarray, shape (n_samples, )\n",
    "        訓練データの正解値\n",
    "    \"\"\"\n",
    "    \n",
    "    node_root = y\n",
    "    \n",
    "    ig = np.empty(X.shape)\n",
    "    \n",
    "    # 各特徴量に対して利得情報を計算\n",
    "    for j in range(len(X[0])):\n",
    "        # 各サンプルを決定境界とした場合の利得情報を計算\n",
    "        for i in range(len(X)):\n",
    "            threshold = X[i][j]\n",
    "            node_l = y[X[:,j] < threshold]\n",
    "            node_r = y[X[:,j] >= threshold]\n",
    "\n",
    "            ig[i][j] = information_gain(node_root, node_l, node_r)\n",
    "        \n",
    "    # 最大利得情報のインデックスを２次元で抽出\n",
    "    threshold_id = np.unravel_index(np.argmax(ig), ig.shape)\n",
    "    threshold = X[threshold_id]\n",
    "    \n",
    "    leaf_l = stats.mode(y[X[:, threshold_id[1]] < threshold])[0]\n",
    "    leaf_r = stats.mode(y[X[:, threshold_id[1]] >= threshold])[0]\n",
    "  \n",
    "    return threshold_id, threshold"
   ]
  },
  {
   "cell_type": "markdown",
   "metadata": {},
   "source": [
    "## 【問題4】推定\n",
    "推定する仕組みを実装してください。ScratchDecesionTreeClassifierDepth1クラスの雛形に含まれるpredictメソッドに書き加えてください。\n",
    "\n",
    "入力されたデータの値を学習した条件で判定していき、どの葉ノードに到達するかを見ます。葉ノードにはクラスが記録されているので、これが推定値となります。"
   ]
  },
  {
   "cell_type": "code",
   "execution_count": 27,
   "metadata": {},
   "outputs": [],
   "source": [
    "def predict(X):\n",
    "    \"\"\"\n",
    "    決定木分類器を使いラベルを推定する\n",
    "\n",
    "    Parameters\n",
    "    ----------\n",
    "    X : 次の形のndarray, shape (n_samples, n_features)\n",
    "        訓練データの特徴量\n",
    "\n",
    "    Returns\n",
    "    -------\n",
    "    pred : 次の形のndarray, shape (n_samples, )\n",
    "      推定された値\n",
    "\n",
    "    \"\"\"\n",
    "    \n",
    "    pred = np.where(X < threshold, leaf_l, leaf_r)\n",
    "    \n",
    "    return pred"
   ]
  },
  {
   "cell_type": "markdown",
   "metadata": {},
   "source": [
    "## 【問題5】学習と推定\n",
    "機械学習スクラッチ入門のSprintで用意したシンプルデータセット2の2値分類に対してスクラッチ実装の学習と推定を行なってください。\n",
    "\n",
    "scikit-learnによる実装と比べ、正しく動いているかを確認してください。\n",
    "\n",
    "AccuracyやPrecision、Recallなどの指標値はscikit-learnを使用してください。"
   ]
  },
  {
   "cell_type": "code",
   "execution_count": 28,
   "metadata": {},
   "outputs": [],
   "source": [
    "# シンプルデータセット2作成コード\n",
    "\n",
    "X = np.array([[-0.44699 , -2.8073  ],[-1.4621  , -2.4586  ],\n",
    "           [ 0.10645 ,  1.9242  ],[-3.5944  , -4.0112  ],\n",
    "           [-0.9888  ,  4.5718  ],[-3.1625  , -3.9606  ],\n",
    "           [ 0.56421 ,  0.72888 ],[-0.60216 ,  8.4636  ],\n",
    "           [-0.61251 , -0.75345 ],[-0.73535 , -2.2718  ],\n",
    "           [-0.80647 , -2.2135  ],[ 0.86291 ,  2.3946  ],\n",
    "           [-3.1108  ,  0.15394 ],[-2.9362  ,  2.5462  ],\n",
    "           [-0.57242 , -2.9915  ],[ 1.4771  ,  3.4896  ],\n",
    "           [ 0.58619 ,  0.37158 ],[ 0.6017  ,  4.3439  ],\n",
    "           [-2.1086  ,  8.3428  ],[-4.1013  , -4.353   ],\n",
    "           [-1.9948  , -1.3927  ],[ 0.35084 , -0.031994],\n",
    "           [ 0.96765 ,  7.8929  ],[-1.281   , 15.6824  ],\n",
    "           [ 0.96765 , 10.083   ],[ 1.3763  ,  1.3347  ],\n",
    "           [-2.234   , -2.5323  ],[-2.9452  , -1.8219  ],\n",
    "           [ 0.14654 , -0.28733 ],[ 0.5461  ,  5.8245  ],\n",
    "           [-0.65259 ,  9.3444  ],[ 0.59912 ,  5.3524  ],\n",
    "           [ 0.50214 , -0.31818 ],[-3.0603  , -3.6461  ],\n",
    "           [-6.6797  ,  0.67661 ],[-2.353   , -0.72261 ],\n",
    "           [ 1.1319  ,  2.4023  ],[-0.12243 ,  9.0162  ],\n",
    "           [-2.5677  , 13.1779  ],[ 0.057313,  5.4681  ]])\n",
    "y = np.array([0, 0, 0, 0, 0, 0, 0, 0, 0, 0, 0, 0, 0, 0, 0, 0, 0, 0, 0, 0, 1, 1,\n",
    "       1, 1, 1, 1, 1, 1, 1, 1, 1, 1, 1, 1, 1, 1, 1, 1, 1, 1])"
   ]
  },
  {
   "cell_type": "code",
   "execution_count": 29,
   "metadata": {},
   "outputs": [],
   "source": [
    "# sklearnの決定木を読み込み\n",
    "from sklearn.tree import DecisionTreeClassifier\n",
    "\n",
    "# 評価指標の読み込みおよび関数化\n",
    "from sklearn.metrics import accuracy_score\n",
    "from sklearn.metrics import precision_score\n",
    "from sklearn.metrics import recall_score\n",
    "from sklearn.metrics import f1_score\n",
    "\n",
    "def get_scores(y_true, y_pred):\n",
    "    print(\"-\"*20)\n",
    "    print(\"正解率：{:.2f}\".format(accuracy_score(y_true, y_pred)))\n",
    "    print(\"適合率：{:.2f}\".format(precision_score(y_true, y_pred)))\n",
    "    print(\"再現率：{:.2f}\".format(recall_score(y_true, y_pred)))\n",
    "    print(\"F1値：{:.2f}\".format(f1_score(y_true, y_pred)))\n",
    "    print(\"-\"*20)\n",
    "    print(\"\\n\")"
   ]
  },
  {
   "cell_type": "code",
   "execution_count": 30,
   "metadata": {},
   "outputs": [
    {
     "name": "stdout",
     "output_type": "stream",
     "text": [
      "(30, 2)\n",
      "(30,)\n"
     ]
    }
   ],
   "source": [
    "# データの分割（今回は7：3の割合）\n",
    "from sklearn.model_selection import train_test_split\n",
    "\n",
    "X_train, X_test, y_train, y_test = train_test_split(X, y, test_size=0.25, stratify=y)\n",
    "\n",
    "print(X_train.shape)\n",
    "print(y_train.shape)"
   ]
  },
  {
   "cell_type": "code",
   "execution_count": 31,
   "metadata": {},
   "outputs": [
    {
     "name": "stdout",
     "output_type": "stream",
     "text": [
      "スクラッチモデルの成績\n",
      "--------------------\n",
      "正解率：0.60\n",
      "適合率：0.67\n",
      "再現率：0.40\n",
      "F1値：0.50\n",
      "--------------------\n",
      "\n",
      "\n",
      "sklearnモデルの成績\n",
      "--------------------\n",
      "正解率：0.60\n",
      "適合率：0.67\n",
      "再現率：0.40\n",
      "F1値：0.50\n",
      "--------------------\n",
      "\n",
      "\n"
     ]
    }
   ],
   "source": [
    "# スクラッチモデルの学習と推定\n",
    "scratch_tree = ScratchDecisionTreeClassifierDepth1()\n",
    "\n",
    "scratch_tree.fit(X_train, y_train)\n",
    "\n",
    "scratch_pred = scratch_tree.predict(X_test)\n",
    "\n",
    "print(\"スクラッチモデルの成績\")\n",
    "get_scores(y_test, scratch_pred)\n",
    "\n",
    "# sklearnモデルの学習と推定\n",
    "sk_tree = DecisionTreeClassifier(max_depth=1)\n",
    "\n",
    "sk_tree.fit(X_train, y_train)\n",
    "\n",
    "sk_pred = sk_tree.predict(X_test)\n",
    "\n",
    "print(\"sklearnモデルの成績\")\n",
    "get_scores(y_test, sk_pred)"
   ]
  },
  {
   "cell_type": "markdown",
   "metadata": {},
   "source": [
    "## 【問題6】決定領域の可視化\n",
    "決定領域を可視化してください。"
   ]
  },
  {
   "cell_type": "code",
   "execution_count": 32,
   "metadata": {},
   "outputs": [],
   "source": [
    "import matplotlib.pyplot as plt\n",
    "from matplotlib.colors import ListedColormap\n",
    "import matplotlib.patches as mpatches\n",
    "def decision_region(X, y, model, target_names, step=0.01, title='decision region', xlabel='xlabel',\n",
    "                    ylabel='ylabel'):\n",
    "    \"\"\"\n",
    "    2値分類を2次元の特徴量で学習したモデルの決定領域を描く。\n",
    "    背景の色が学習したモデルによる推定値から描画される。\n",
    "    散布図の点は訓練データまたは検証データである。\n",
    "\n",
    "    Parameters\n",
    "    ----------------\n",
    "    X : ndarray, shape(n_samples, 2)\n",
    "        特徴量\n",
    "    y : ndarray, shape(n_samples,)\n",
    "        ラベル\n",
    "    model : object\n",
    "        学習したモデルのインスンタスを入れる\n",
    "    step : float, (default : 0.1)\n",
    "        推定値を計算する間隔を設定する\n",
    "    title : str\n",
    "        グラフのタイトルの文章を与える\n",
    "    xlabel, ylabel : str\n",
    "        軸ラベルの文章を与える\n",
    "    target_names= : list of str\n",
    "        凡例の一覧を与える\n",
    "    \"\"\"\n",
    "    # setting\n",
    "    scatter_color = ['red', 'blue']\n",
    "    contourf_color = ['pink', 'skyblue']\n",
    "    n_class = 2\n",
    "    # pred\n",
    "    mesh_f0, mesh_f1 = np.meshgrid(np.arange(np.min(X[:,0])-0.5, np.max(X[:,0])+0.5, step), np.arange(np.min(X[:,1])-0.5, np.max(X[:,1])+0.5, step))\n",
    "    mesh = np.c_[np.ravel(mesh_f0),np.ravel(mesh_f1)]\n",
    "    y_pred = model.predict(mesh).reshape(mesh_f0.shape)\n",
    "    # plot\n",
    "    plt.title(title)\n",
    "    plt.xlabel(xlabel)\n",
    "    plt.ylabel(ylabel)\n",
    "    plt.contourf(mesh_f0, mesh_f1, y_pred, n_class-1, cmap=ListedColormap(contourf_color))\n",
    "    plt.contour(mesh_f0, mesh_f1, y_pred, n_class-1, colors='y', linewidths=3, alpha=0.5)\n",
    "    for i, target in enumerate(set(y)):\n",
    "        plt.scatter(X[y==target][:, 0], X[y==target][:, 1], s=80, color=scatter_color[i], label=target_names[i], marker='o')\n",
    "    patches = [mpatches.Patch(color=scatter_color[i], label=target_names[i]) for i in range(n_class)]\n",
    "    plt.legend(handles=patches)\n",
    "    plt.legend()\n",
    "    plt.show()"
   ]
  },
  {
   "cell_type": "code",
   "execution_count": 33,
   "metadata": {},
   "outputs": [
    {
     "data": {
      "image/png": "[encoded data removed]",
      "text/plain": [
       "<Figure size 432x288 with 1 Axes>"
      ]
     },
     "metadata": {
      "needs_background": "light"
     },
     "output_type": "display_data"
    },
    {
     "data": {
      "image/png": "[encoded data removed]",
      "text/plain": [
       "<Figure size 432x288 with 1 Axes>"
      ]
     },
     "metadata": {
      "needs_background": "light"
     },
     "output_type": "display_data"
    }
   ],
   "source": [
    "# スクラッチモデルの可視化\n",
    "decision_region(X_train, y_train, scratch_tree, title='Scratch Model Decision Region',\n",
    "                xlabel='x1', ylabel='x2', target_names=['0', '1'])\n",
    "\n",
    "# sklearnモデルの可視化\n",
    "decision_region(X_train, y_train, sk_tree, title='SKlearn Model Decision Region',\n",
    "                xlabel='x1', ylabel='x2', target_names=['0', '1'])"
   ]
  },
  {
   "cell_type": "code",
   "execution_count": null,
   "metadata": {},
   "outputs": [],
   "source": []
  }
 ],
 "metadata": {
  "kernelspec": {
   "display_name": "Python 3",
   "language": "python",
   "name": "python3"
  },
  "language_info": {
   "codemirror_mode": {
    "name": "ipython",
    "version": 3
   },
   "file_extension": ".py",
   "mimetype": "text/x-python",
   "name": "python",
   "nbconvert_exporter": "python",
   "pygments_lexer": "ipython3",
   "version": "3.7.2"
  }
 },
 "nbformat": 4,
 "nbformat_minor": 4
}
