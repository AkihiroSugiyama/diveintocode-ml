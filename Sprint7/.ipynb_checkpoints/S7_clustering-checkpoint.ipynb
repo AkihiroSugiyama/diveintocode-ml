{
 "cells": [
  {
   "cell_type": "markdown",
   "metadata": {},
   "source": [
    "# Sprint 機械学習スクラッチ クラスタリング¶\n",
    "K-meansのクラスをスクラッチで作成していきます。NumPyなど最低限のライブラリのみを使いアルゴリズムを実装していきます。\n",
    "\n",
    "以下に雛形を用意してあります。このScratchKMeansクラスにコードを書き加えていってください。\n",
    "\n",
    "### クラスタリングのための人工データセット\n",
    "クラスタリングを実験するための人工データセットを作成するコードを用意しています。\n",
    "\n",
    "このmakeblobs関数は正解ラベルも出力してますが、今回は使用しません。使用しないことを明示するために、 （アンダースコア） で受け取っています。"
   ]
  },
  {
   "cell_type": "code",
   "execution_count": 11,
   "metadata": {},
   "outputs": [],
   "source": [
    "import numpy as np\n",
    "from numpy import linalg as LA\n",
    "import pandas as pd\n",
    "import random\n",
    "import matplotlib.pyplot as plt\n",
    "from scipy import stats"
   ]
  },
  {
   "cell_type": "code",
   "execution_count": 12,
   "metadata": {},
   "outputs": [],
   "source": [
    "# 《シンプルデータセット3》\n",
    "from sklearn.datasets import make_blobs\n",
    "X, _ = make_blobs(n_samples=100, n_features=2, centers=4, cluster_std=0.5, shuffle=True, random_state=0)"
   ]
  },
  {
   "cell_type": "code",
   "execution_count": 13,
   "metadata": {},
   "outputs": [],
   "source": [
    "class ScratchKMeans():\n",
    "    \"\"\"\n",
    "    K-meansのスクラッチ実装\n",
    "\n",
    "    Parameters\n",
    "    ----------\n",
    "    n_clusters : int\n",
    "      クラスタ数\n",
    "    n_init : int\n",
    "      中心点の初期値を何回変えて計算するか\n",
    "    max_iter : int\n",
    "      1回の計算で最大何イテレーションするか\n",
    "    tol : float\n",
    "      イテレーションを終了する基準となる中心点と重心の許容誤差\n",
    "    verbose : bool\n",
    "      学習過程を出力する場合はTrue\n",
    "    \"\"\"\n",
    "    \n",
    "    def __init__(self, n_clusters, n_init, max_iter=None, tol=0, verbose=False):\n",
    "        # ハイパーパラメータを属性として記録\n",
    "        self.n_clusters = n_clusters\n",
    "        self.n_init = n_init\n",
    "        self.max_iter = max_iter\n",
    "        self.tol = tol\n",
    "        self.verbose = verbose\n",
    "    \n",
    "    \n",
    "    def _mu_init(self, X):\n",
    "        \"\"\"\n",
    "        *Objective*\n",
    "\n",
    "        Parameters\n",
    "        ----------\n",
    "\n",
    "        Returns\n",
    "        -------\n",
    "        \"\"\"\n",
    "    \n",
    "        mu = np.random.choice(len(X), self.n_clusters)\n",
    "\n",
    "        return X[mu]\n",
    "    \n",
    "    \n",
    "    def label_cluster(self, X, mu):\n",
    "        \"\"\"\n",
    "        *Objective*\n",
    "\n",
    "        Parameters\n",
    "        ----------\n",
    "\n",
    "        Returns\n",
    "        -------\n",
    "        \"\"\"\n",
    "        r = np.empty(len(X))\n",
    "\n",
    "        for n in range(len(X)):\n",
    "            dist = LA.norm((X[n] - mu), axis=1)\n",
    "            label = np.argmin(dist)\n",
    "            r[n] = label\n",
    "\n",
    "        return r\n",
    "    \n",
    "    \n",
    "    def _shift_center_mean(self, X, r):\n",
    "        \"\"\"\n",
    "        *Objective*\n",
    "\n",
    "        Parameters\n",
    "        ----------\n",
    "\n",
    "        Returns\n",
    "        -------\n",
    "        \"\"\"\n",
    "        k = len(np.unique(r))\n",
    "\n",
    "        mu = np.empty((k, len(X[0])))\n",
    "\n",
    "        for i in range(k):\n",
    "            batch = X[np.where(r == i)]\n",
    "            mu[i] = np.mean(batch, axis=0)\n",
    "\n",
    "        return mu\n",
    "\n",
    "    \n",
    "    def fit(self, X, return_sse=False, verbose=False):\n",
    "        \"\"\"\n",
    "        K-meansによるクラスタリングを計算\n",
    "        Parameters\n",
    "        ----------\n",
    "        X : 次の形のndarray, shape (n_samples, n_features)\n",
    "            訓練データの特徴量\n",
    "        \"\"\"\n",
    "\n",
    "        sse = 0\n",
    "\n",
    "        for i in range(self.n_init):\n",
    "\n",
    "            mu = self._mu_init(X)\n",
    "            r = self.label_cluster(X, mu)\n",
    "            iter_ = 0\n",
    "\n",
    "            if verbose:\n",
    "                print(\"<Initialization {}>\".format(i+1))\n",
    "\n",
    "            while True:\n",
    "\n",
    "                mu = self._shift_center_mean(X, r)\n",
    "                r = self.label_cluster(X, mu)\n",
    "\n",
    "                iter_ += 1\n",
    "                center = self._shift_center_mean(X, r)\n",
    "\n",
    "                # 学習過程の出力\n",
    "                if verbose:\n",
    "                    print(\"Iteration {} mean/center diff: {:.4f}\".format(iter_, np.sum(np.abs(mu - center))))\n",
    "\n",
    "                # ループ解除式\n",
    "                if iter_ == self.max_iter:\n",
    "                    break\n",
    "                if np.sum(np.abs(mu - center)) <= self.tol:\n",
    "                    break\n",
    "\n",
    "            new_sse = 1/(1+SSE(X, mu, r))\n",
    "\n",
    "            if new_sse > sse:\n",
    "                self.mu = mu\n",
    "                sse = new_sse\n",
    "\n",
    "            if verbose:\n",
    "                print(\"----SSE {:.4f} after {} iterations\".format(1/new_sse-1, iter_))\n",
    "                clusters_plot(X, mu, r)\n",
    "                \n",
    "        if verbose:\n",
    "            print(\"\\n\")\n",
    "            print(\"Optimal SSE: {:.4f}\".format(SSE(X, self.mu, self.predict(X))))\n",
    "            print(\"Optimal Mu: {}\".format(self.mu))\n",
    "        \n",
    "        \n",
    "        if return_sse:\n",
    "            return self.mu, SSE(X, self.mu, self.predict(X))\n",
    "        else:\n",
    "            return self.mu\n",
    "    \n",
    "    \n",
    "    def predict(self, X):\n",
    "        \"\"\"\n",
    "        *Objective*\n",
    "\n",
    "        Parameters\n",
    "        ----------\n",
    "\n",
    "        Returns\n",
    "        -------\n",
    "        \"\"\"\n",
    "        r = np.empty(len(X))\n",
    "\n",
    "        for n in range(len(X)):\n",
    "            dist = LA.norm((X[n] - self.mu), axis=1)\n",
    "            label = np.argmin(dist)\n",
    "            r[n] = label\n",
    "\n",
    "        return r\n",
    "\n",
    "    \n",
    "def SSE(X, mu, r):\n",
    "    \"\"\"\n",
    "    *Objective*\n",
    "\n",
    "    Parameters\n",
    "    ----------\n",
    "\n",
    "    Returns\n",
    "    -------\n",
    "    \"\"\"\n",
    "    k = len(np.unique(r))\n",
    "    SSE = 0\n",
    "\n",
    "    for k in range(k):\n",
    "\n",
    "        # rクラスの判定\n",
    "        r_nk = np.where(r == k, 1, 0)\n",
    "        # ユークリッド距離を計算\n",
    "        dist = LA.norm((X - mu[k]), axis=1)\n",
    "\n",
    "        # ユークリッド距離とクラス判定を掛け合わせ、合計を計算\n",
    "        SSE += np.sum(r_nk * dist**2)\n",
    "\n",
    "    return SSE"
   ]
  },
  {
   "cell_type": "markdown",
   "metadata": {},
   "source": [
    "## 【問題1】中心点の初期値を決める\n",
    "入力されたデータから$K$個の中心点$\\mu_1$から$\\mu_K$の初期値を決めるコードを作成してください。$K$は指定したクラスタ数です。\n",
    "\n",
    "最もシンプルな初期値の決定方法は、データ点$X_n$の中からランダムに$K$個選ぶことです。今回はこれを実装してください。\n",
    "\n",
    "K-meansの学習結果は中心点$\\mu$の初期値に影響を受けます。そのため、学習時には複数個の初期値で計算を行います。"
   ]
  },
  {
   "cell_type": "code",
   "execution_count": 14,
   "metadata": {},
   "outputs": [],
   "source": [
    "def mu_init(X, n_clusters, seed=None):\n",
    "    \n",
    "    np.random.seed(seed)\n",
    "    mu = np.random.choice(len(X), n_clusters)\n",
    "    \n",
    "    return X[mu]"
   ]
  },
  {
   "cell_type": "code",
   "execution_count": 15,
   "metadata": {},
   "outputs": [
    {
     "data": {
      "text/plain": [
       "array([[ 1.85367905,  1.5088862 ],\n",
       "       [-1.26789718,  7.25141327],\n",
       "       [ 0.92466065,  4.50908658],\n",
       "       [-1.43284669,  7.71577043],\n",
       "       [ 1.40848818,  3.93270482]])"
      ]
     },
     "execution_count": 15,
     "metadata": {},
     "output_type": "execute_result"
    }
   ],
   "source": [
    "mu = mu_init(X, 5, seed=1)\n",
    "mu"
   ]
  },
  {
   "cell_type": "markdown",
   "metadata": {},
   "source": [
    "## 【問題2】SSEを求める関数の作成\n",
    "クラスタ内誤差平方和（SSE, Sum of Squared Errors）を計算する関数を作成してください。\n",
    "\n",
    "K-meansはこのSSEを最小化する$r_{nk}$と$\\mu_k$を求めることが目的となります。複数個の初期値で計算したクラスタリング結果から、どれを最終的に採用するかを決める際にこのSSEを求める関数を使用します。\n",
    "\n",
    "$$\n",
    "SSE = \\sum_{n=1}^N \\sum_{k=1}^K r_{nk} \\|X_n - \\mu_k\\|^2\n",
    "$$"
   ]
  },
  {
   "cell_type": "code",
   "execution_count": 16,
   "metadata": {},
   "outputs": [],
   "source": [
    "def SSE(X, mu, r):\n",
    "    \n",
    "    k = len(np.unique(r))\n",
    "    SSE = 0\n",
    "    \n",
    "    for k in range(k):\n",
    "        \n",
    "        # rクラスの判定\n",
    "        r_nk = np.where(r == k, 1, 0)\n",
    "        # ユークリッド距離を計算\n",
    "        dist = LA.norm((X - mu[k]), axis=1)\n",
    "    \n",
    "        # ユークリッド距離とクラス判定を掛け合わせ、合計を計算\n",
    "        SSE += np.sum(r_nk * dist**2)\n",
    "        \n",
    "    return SSE"
   ]
  },
  {
   "cell_type": "code",
   "execution_count": 19,
   "metadata": {},
   "outputs": [
    {
     "data": {
      "text/plain": [
       "244.41034189535236"
      ]
     },
     "execution_count": 19,
     "metadata": {},
     "output_type": "execute_result"
    }
   ],
   "source": [
    "r = np.empty(len(X))\n",
    "\n",
    "for n in range(len(X)):\n",
    "    dist = LA.norm((X[n] - mu), axis=1)\n",
    "    label = np.argmin(dist)\n",
    "    r[n] = label\n",
    "\n",
    "SSE(X, mu, r)"
   ]
  },
  {
   "cell_type": "markdown",
   "metadata": {},
   "source": [
    "### クラスタの割り当てと中心点の移動を繰り返す\n",
    "K-meansの学習の基本は以下の2つのフェーズを繰り返すことです。\n",
    "\n",
    "中心点$\\mu_k$を固定した上で$SSE$を最小化するクラスタの割り当て$r_{nk}$を選ぶ。\n",
    "クラスタの割り当て$r_{nk}$を固定した上で$SSE$を最小化する中心点$\\mu_k$を選ぶ。\n",
    "最初の中心点$\\mu_k$は問題1で作成した初期値です。\n",
    "\n",
    "順番に見ていきます。\n",
    "\n",
    "## 【問題3】クラスタへの割り当て\n",
    "全てのデータ点$X_n$を最も近い中心点$\\mu_k$に割り当てるコードを作成してください。\n",
    "\n",
    "K-meansにおける近いとは点と点のユークリッド距離が小さくなることです。ユークリッド距離とはピタゴラスの定理（三平方の定理）で求められるものですが、ベクトル$p,q$に対しては以下の数式で表現できます。\n",
    "\n",
    "$$\n",
    "\\|q-p\\| = \\sqrt{(q-p)\\cdot(q-p)}\n",
    "$$\n",
    "NumPyにはこの関数がnp.linalg.normとして用意されているため使用してください。\n",
    "\n",
    "numpy.linalg.norm — NumPy v1.17 Manual\n",
    "\n",
    "中心点$\\mu_k$を固定した上でSSEを最小化していることになりますが、SSE自体を求める必要はありません。"
   ]
  },
  {
   "cell_type": "code",
   "execution_count": 21,
   "metadata": {},
   "outputs": [],
   "source": [
    "def label_cluster(X, mu):\n",
    "    \n",
    "    r = np.empty(len(X))\n",
    "    \n",
    "    for n in range(len(X)):\n",
    "        dist = LA.norm((X[n] - mu), axis=1)\n",
    "        label = np.argmin(dist)\n",
    "        r[n] = label\n",
    "        \n",
    "    return r"
   ]
  },
  {
   "cell_type": "code",
   "execution_count": 22,
   "metadata": {},
   "outputs": [
    {
     "data": {
      "text/plain": [
       "array([4., 3., 4., 2., 2., 2., 2., 3., 2., 3., 1., 1., 1., 3., 1., 0., 0.,\n",
       "       2., 2., 0., 4., 3., 2., 0., 2., 2., 2., 2., 0., 0., 0., 1., 0., 0.,\n",
       "       2., 4., 3., 0., 3., 2., 2., 2., 1., 2., 2., 3., 0., 2., 2., 4., 2.,\n",
       "       0., 2., 2., 4., 1., 3., 0., 0., 3., 1., 0., 0., 2., 0., 3., 2., 2.,\n",
       "       0., 2., 3., 0., 2., 3., 2., 4., 2., 2., 0., 0., 0., 3., 2., 2., 0.,\n",
       "       2., 0., 0., 4., 2., 2., 2., 4., 2., 2., 3., 3., 2., 3., 2.])"
      ]
     },
     "execution_count": 22,
     "metadata": {},
     "output_type": "execute_result"
    }
   ],
   "source": [
    "mu = mu_init(X, 5, seed=1)\n",
    "r = label_cluster(X, mu)\n",
    "r"
   ]
  },
  {
   "cell_type": "markdown",
   "metadata": {},
   "source": [
    "## 【問題4】中心点の移動\n",
    "中心点$\\mu_k$を$k$番目のクラスタに割り当てられる全てのデータ点$X_n$の平均値（重心）に移動するコードを作成してください。\n",
    "\n",
    "クラスタの割り当て$r_{nk}$を固定した上でSSEを最小化していることになりますが、SSE自体を求める必要はありません。"
   ]
  },
  {
   "cell_type": "code",
   "execution_count": 23,
   "metadata": {},
   "outputs": [],
   "source": [
    "def shift_center_mean(X, r):\n",
    "    \n",
    "    k = len(np.unique(r))\n",
    "\n",
    "    mu = np.empty((k, len(X[0])))\n",
    "    \n",
    "    for i in range(k):\n",
    "        batch = X[np.where(r == i)]\n",
    "        mu[i] = np.mean(batch, axis=0)\n",
    "        \n",
    "    return mu"
   ]
  },
  {
   "cell_type": "code",
   "execution_count": 24,
   "metadata": {},
   "outputs": [
    {
     "data": {
      "text/plain": [
       "array([[ 1.99186903,  0.96561071],\n",
       "       [-1.24445846,  7.15300444],\n",
       "       [-0.54423167,  3.7340911 ],\n",
       "       [-1.27925091,  8.0512077 ],\n",
       "       [ 0.9415767 ,  3.66115967]])"
      ]
     },
     "execution_count": 24,
     "metadata": {},
     "output_type": "execute_result"
    }
   ],
   "source": [
    "shift_center_mean(X, r)"
   ]
  },
  {
   "cell_type": "markdown",
   "metadata": {},
   "source": [
    "## 【問題5】繰り返し\n",
    "クラスタへの割り当てと中心点の移動を繰り返すことで学習を行うコードを作成してください。\n",
    "\n",
    "次のどれかの条件を満たしたらこれを止めます。\n",
    "\n",
    "- 繰り返しが指定した回数に到達する。（雛形では引数max_iter）\n",
    "- 中心点$\\mu_k$と重心の差の合計が指定した許容値以下になる。（雛形では引数tol）"
   ]
  },
  {
   "cell_type": "code",
   "execution_count": 25,
   "metadata": {},
   "outputs": [],
   "source": [
    "def fit(X, n_clusters, tol=0, max_iter=None, verbose=None):\n",
    "    \"\"\"\n",
    "    K-meansによるクラスタリングを計算\n",
    "    Parameters\n",
    "    ----------\n",
    "    X : 次の形のndarray, shape (n_samples, n_features)\n",
    "        訓練データの特徴量\n",
    "    \"\"\"\n",
    "    \n",
    "    mu = mu_init(X, n_clusters)\n",
    "    r = label_cluster(X, mu)\n",
    "    iter_ = 0\n",
    "    \n",
    "    while True:\n",
    "        \n",
    "        mu = shift_center_mean(X, r)\n",
    "        r = label_cluster(X, mu)\n",
    "        \n",
    "        iter_ += 1\n",
    "        center = shift_center_mean(X, r)\n",
    "        \n",
    "        # 学習過程の出力\n",
    "        if verbose:\n",
    "            print(\"Iteration {} mean/center diff: {:.4f}\".format(iter_, np.sum(np.abs(mu - center))))\n",
    "            print(\"Iteration {} SSE: {:.4f}\".format(iter_, SSE(X, mu, r)))\n",
    "        \n",
    "        # ループ解除式\n",
    "        if iter_ == max_iter:\n",
    "            break\n",
    "        if np.sum(np.abs(mu - center)) <= tol:\n",
    "            break\n",
    "    \n",
    "    return r"
   ]
  },
  {
   "cell_type": "code",
   "execution_count": 26,
   "metadata": {},
   "outputs": [
    {
     "name": "stdout",
     "output_type": "stream",
     "text": [
      "Iteration 1 mean/center diff: 0.5296\n",
      "Iteration 1 SSE: 128.7626\n",
      "Iteration 2 mean/center diff: 0.2664\n",
      "Iteration 2 SSE: 127.8331\n",
      "Iteration 3 mean/center diff: 0.2038\n",
      "Iteration 3 SSE: 127.6375\n",
      "Iteration 4 mean/center diff: 0.0000\n",
      "Iteration 4 SSE: 127.4426\n"
     ]
    },
    {
     "data": {
      "text/plain": [
       "array([0., 3., 0., 0., 0., 0., 0., 3., 0., 3., 4., 4., 4., 3., 4., 1., 2.,\n",
       "       0., 0., 1., 2., 4., 0., 1., 0., 0., 0., 0., 2., 1., 1., 4., 1., 2.,\n",
       "       0., 0., 3., 2., 3., 0., 0., 0., 4., 0., 0., 3., 1., 0., 0., 0., 0.,\n",
       "       1., 0., 0., 0., 4., 3., 1., 2., 3., 4., 2., 1., 0., 2., 3., 0., 0.,\n",
       "       2., 0., 3., 2., 0., 3., 0., 0., 0., 0., 1., 2., 1., 3., 0., 0., 1.,\n",
       "       0., 1., 1., 0., 0., 0., 0., 0., 0., 0., 3., 4., 0., 3., 0.])"
      ]
     },
     "execution_count": 26,
     "metadata": {},
     "output_type": "execute_result"
    }
   ],
   "source": [
    "fit(X, 5, verbose=True)"
   ]
  },
  {
   "cell_type": "markdown",
   "metadata": {},
   "source": [
    "## 【問題6】異なる初期値で計算\n",
    "問題5の繰り返しを、指定した回数初期値を変更して計算するコードを作成してください。回数は雛形では引数n_initで指定します。\n",
    "\n",
    "複数計算した中でSSEが最小になったものが最終的な学習結果となるため、その時の中心点$\\mu_k$を保持しておきます。"
   ]
  },
  {
   "cell_type": "code",
   "execution_count": 28,
   "metadata": {},
   "outputs": [],
   "source": [
    "def fit(X, n_clusters, n_init, tol=0, max_iter=None, verbose=None):\n",
    "    \"\"\"\n",
    "    K-meansによるクラスタリングを計算\n",
    "    Parameters\n",
    "    ----------\n",
    "    X : 次の形のndarray, shape (n_samples, n_features)\n",
    "        訓練データの特徴量\n",
    "    \"\"\"\n",
    "    \n",
    "    sse = 0\n",
    "    \n",
    "    for i in range(n_init):\n",
    "    \n",
    "        mu = mu_init(X, n_clusters)\n",
    "        r = label_cluster(X, mu)\n",
    "        iter_ = 0\n",
    "        \n",
    "        if verbose:\n",
    "            print(\"<Initialization {}>\".format(i+1))\n",
    "\n",
    "        while True:\n",
    "\n",
    "            mu = shift_center_mean(X, r)\n",
    "            r = label_cluster(X, mu)\n",
    "\n",
    "            iter_ += 1\n",
    "            center = shift_center_mean(X, r)\n",
    "\n",
    "            # 学習過程の出力\n",
    "            if verbose:\n",
    "                print(\"Iteration {} mean/center diff: {:.4f}\".format(iter_, np.sum(np.abs(mu - center))))\n",
    "\n",
    "            # ループ解除式\n",
    "            if iter_ == max_iter:\n",
    "                break\n",
    "            if np.sum(np.abs(mu - center)) <= tol:\n",
    "                break\n",
    "            \n",
    "        new_sse = 1/(1+SSE(X, mu, r))\n",
    "        \n",
    "        if new_sse > sse:\n",
    "            mu_opt = mu\n",
    "            sse = new_sse\n",
    "        \n",
    "        if verbose:\n",
    "            print(\"----SSE {:.4f} after {} iterations\".format(1/new_sse-1, iter_))\n",
    "    return mu_opt"
   ]
  },
  {
   "cell_type": "code",
   "execution_count": 29,
   "metadata": {},
   "outputs": [
    {
     "name": "stdout",
     "output_type": "stream",
     "text": [
      "<Initialization 1>\n",
      "Iteration 1 mean/center diff: 0.4770\n",
      "Iteration 2 mean/center diff: 0.2107\n",
      "Iteration 3 mean/center diff: 0.0000\n",
      "----SSE 44.5859 after 3 iterations\n",
      "<Initialization 2>\n",
      "Iteration 1 mean/center diff: 0.5608\n",
      "Iteration 2 mean/center diff: 0.1123\n",
      "Iteration 3 mean/center diff: 0.0956\n",
      "Iteration 4 mean/center diff: 0.0000\n",
      "----SSE 43.3990 after 4 iterations\n",
      "<Initialization 3>\n",
      "Iteration 1 mean/center diff: nan\n",
      "Iteration 2 mean/center diff: nan\n",
      "Iteration 3 mean/center diff: 0.0000\n",
      "----SSE 870.2612 after 3 iterations\n",
      "<Initialization 4>\n",
      "Iteration 1 mean/center diff: 2.1913\n",
      "Iteration 2 mean/center diff: 0.3062\n",
      "Iteration 3 mean/center diff: 0.4686\n",
      "Iteration 4 mean/center diff: 0.2291\n",
      "Iteration 5 mean/center diff: 0.0000\n",
      "----SSE 44.2879 after 5 iterations\n",
      "<Initialization 5>\n",
      "Iteration 1 mean/center diff: 5.2666\n",
      "Iteration 2 mean/center diff: 2.6298\n",
      "Iteration 3 mean/center diff: 0.4855\n",
      "Iteration 4 mean/center diff: 0.2525\n",
      "Iteration 5 mean/center diff: 0.1270\n",
      "Iteration 6 mean/center diff: 0.0000\n",
      "----SSE 43.6488 after 6 iterations\n",
      "<Initialization 6>\n",
      "Iteration 1 mean/center diff: 4.5561\n",
      "Iteration 2 mean/center diff: 0.4658\n",
      "Iteration 3 mean/center diff: 0.0000\n",
      "----SSE 43.8477 after 3 iterations\n",
      "<Initialization 7>\n",
      "Iteration 1 mean/center diff: 0.4045\n",
      "Iteration 2 mean/center diff: 0.0946\n",
      "Iteration 3 mean/center diff: 0.1337\n",
      "Iteration 4 mean/center diff: 0.0000\n",
      "----SSE 43.7796 after 4 iterations\n",
      "<Initialization 8>\n",
      "Iteration 1 mean/center diff: 0.6782\n",
      "Iteration 2 mean/center diff: 0.1435\n",
      "Iteration 3 mean/center diff: 0.0000\n",
      "----SSE 43.8477 after 3 iterations\n",
      "<Initialization 9>\n",
      "Iteration 1 mean/center diff: 2.7755\n",
      "Iteration 2 mean/center diff: 3.6818\n",
      "Iteration 3 mean/center diff: 2.0056\n",
      "Iteration 4 mean/center diff: 0.9103\n",
      "Iteration 5 mean/center diff: 0.1015\n",
      "Iteration 6 mean/center diff: 0.2038\n",
      "Iteration 7 mean/center diff: 0.0000\n",
      "----SSE 127.9122 after 7 iterations\n",
      "<Initialization 10>\n",
      "Iteration 1 mean/center diff: 3.0807\n",
      "Iteration 2 mean/center diff: 0.4466\n",
      "Iteration 3 mean/center diff: 0.0000\n",
      "----SSE 43.6488 after 3 iterations\n"
     ]
    },
    {
     "name": "stderr",
     "output_type": "stream",
     "text": [
      "/usr/local/var/pyenv/versions/anaconda3-5.3.1/lib/python3.7/site-packages/numpy/core/fromnumeric.py:3373: RuntimeWarning: Mean of empty slice.\n",
      "  out=out, **kwargs)\n",
      "/usr/local/var/pyenv/versions/anaconda3-5.3.1/lib/python3.7/site-packages/numpy/core/_methods.py:163: RuntimeWarning: invalid value encountered in true_divide\n",
      "  ret, rcount, out=ret, casting='unsafe', subok=False)\n"
     ]
    }
   ],
   "source": [
    "mu = fit(X, 5, 10, verbose=True)"
   ]
  },
  {
   "cell_type": "markdown",
   "metadata": {},
   "source": [
    "## 【問題7】推定\n",
    "新たなデータに対してどのクラスタに所属するかの推定の際は、学習時の1つ目のフェーズと同じことを行います。\n",
    "\n",
    "データ点$X_n$と学習で決まった中心点$\\mu_k$に対し、SSEを最小化する$r_{nk}$を選ぶ。\n",
    "具体的には次のことです。\n",
    "\n",
    "データ点$X_n$を最も近い$\\mu_k$に割り当てる。"
   ]
  },
  {
   "cell_type": "code",
   "execution_count": 30,
   "metadata": {},
   "outputs": [],
   "source": [
    "def predict(X, mu):\n",
    "    \n",
    "    r = np.empty(len(X))\n",
    "    \n",
    "    for n in range(len(X)):\n",
    "        dist = LA.norm((X[n] - mu), axis=1)\n",
    "        label = np.argmin(dist)\n",
    "        r[n] = label\n",
    "        \n",
    "    return r"
   ]
  },
  {
   "cell_type": "code",
   "execution_count": 31,
   "metadata": {},
   "outputs": [
    {
     "data": {
      "text/plain": [
       "array([3., 1., 3., 3., 3., 3., 4., 1., 3., 1., 1., 1., 1., 1., 1., 2., 0.,\n",
       "       4., 4., 2., 3., 1., 4., 2., 3., 4., 4., 3., 0., 2., 2., 1., 2., 0.,\n",
       "       4., 3., 1., 0., 1., 4., 3., 4., 1., 4., 4., 1., 2., 4., 3., 3., 3.,\n",
       "       2., 4., 4., 4., 1., 1., 2., 0., 1., 1., 0., 0., 3., 0., 1., 4., 4.,\n",
       "       0., 3., 1., 0., 3., 1., 3., 3., 4., 4., 2., 0., 2., 1., 4., 3., 2.,\n",
       "       4., 0., 2., 3., 3., 3., 4., 3., 4., 4., 1., 1., 4., 1., 3.])"
      ]
     },
     "execution_count": 31,
     "metadata": {},
     "output_type": "execute_result"
    }
   ],
   "source": [
    "r = predict(X, mu)\n",
    "r"
   ]
  },
  {
   "cell_type": "code",
   "execution_count": 32,
   "metadata": {},
   "outputs": [],
   "source": [
    "def clusters_plot(X, mu, r, ax=None):\n",
    "    \n",
    "    if ax:\n",
    "        ax.set_title(\"KMeans Plot\")\n",
    "        ax.set_xlabel(\"x_1\")\n",
    "        ax.set_ylabel(\"x_2\")\n",
    "\n",
    "        for i in np.unique(r):\n",
    "            ax.scatter(X[r == i, 0], X[r == i, 1])\n",
    "\n",
    "        ax.scatter(mu[:, 0], mu[:, 1], marker='*', c='black', s=50, label='$\\mu_k$')\n",
    "\n",
    "        ax.legend()\n",
    "    \n",
    "    else:\n",
    "        plt.title(\"KMeans Plot\")\n",
    "        plt.xlabel(\"x_1\")\n",
    "        plt.ylabel(\"x_2\")\n",
    "\n",
    "        for i in np.unique(r):\n",
    "            plt.scatter(X[r == i, 0], X[r == i, 1])\n",
    "\n",
    "        plt.scatter(mu[:, 0], mu[:, 1], marker='*', c='black', s=50, label='$\\mu_k$')\n",
    "\n",
    "        plt.legend()\n",
    "        plt.show()"
   ]
  },
  {
   "cell_type": "code",
   "execution_count": 33,
   "metadata": {},
   "outputs": [
    {
     "name": "stdout",
     "output_type": "stream",
     "text": [
      "<Initialization 1>\n",
      "Iteration 1 mean/center diff: 0.0000\n",
      "----SSE 44.3172 after 1 iterations\n"
     ]
    },
    {
     "data": {
      "image/png": "[encoded data removed]",
      "text/plain": [
       "<Figure size 432x288 with 1 Axes>"
      ]
     },
     "metadata": {
      "needs_background": "light"
     },
     "output_type": "display_data"
    },
    {
     "name": "stdout",
     "output_type": "stream",
     "text": [
      "<Initialization 2>\n",
      "Iteration 1 mean/center diff: 1.3458\n",
      "Iteration 2 mean/center diff: 0.0995\n",
      "Iteration 3 mean/center diff: 0.0000\n",
      "----SSE 43.3138 after 3 iterations\n"
     ]
    },
    {
     "data": {
      "image/png": "[encoded data removed]",
      "text/plain": [
       "<Figure size 432x288 with 1 Axes>"
      ]
     },
     "metadata": {
      "needs_background": "light"
     },
     "output_type": "display_data"
    },
    {
     "name": "stdout",
     "output_type": "stream",
     "text": [
      "<Initialization 3>\n",
      "Iteration 1 mean/center diff: 0.8038\n",
      "Iteration 2 mean/center diff: 0.0000\n",
      "----SSE 44.5859 after 2 iterations\n"
     ]
    },
    {
     "data": {
      "image/png": "[encoded data removed]",
      "text/plain": [
       "<Figure size 432x288 with 1 Axes>"
      ]
     },
     "metadata": {
      "needs_background": "light"
     },
     "output_type": "display_data"
    },
    {
     "name": "stdout",
     "output_type": "stream",
     "text": [
      "<Initialization 4>\n",
      "Iteration 1 mean/center diff: 1.5649\n",
      "Iteration 2 mean/center diff: 0.6732\n",
      "Iteration 3 mean/center diff: 0.0000\n",
      "----SSE 44.5859 after 3 iterations\n"
     ]
    },
    {
     "data": {
      "image/png": "[encoded data removed]",
      "text/plain": [
       "<Figure size 432x288 with 1 Axes>"
      ]
     },
     "metadata": {
      "needs_background": "light"
     },
     "output_type": "display_data"
    },
    {
     "name": "stdout",
     "output_type": "stream",
     "text": [
      "<Initialization 5>\n",
      "Iteration 1 mean/center diff: 2.1362\n",
      "Iteration 2 mean/center diff: 2.4510\n",
      "Iteration 3 mean/center diff: 1.1397\n",
      "Iteration 4 mean/center diff: 0.2861\n",
      "Iteration 5 mean/center diff: 0.0000\n",
      "----SSE 43.4082 after 5 iterations\n"
     ]
    },
    {
     "data": {
      "image/png": "[encoded data removed]",
      "text/plain": [
       "<Figure size 432x288 with 1 Axes>"
      ]
     },
     "metadata": {
      "needs_background": "light"
     },
     "output_type": "display_data"
    },
    {
     "name": "stdout",
     "output_type": "stream",
     "text": [
      "\n",
      "\n",
      "Optimal SSE: 43.3138\n",
      "Optimal Mu: [[ 0.21786893  4.09551004]\n",
      " [-1.26811733  7.76378266]\n",
      " [-1.56883283  3.08178097]\n",
      " [ 1.99186903  0.96561071]\n",
      " [ 1.24045555  4.38228745]]\n"
     ]
    },
    {
     "data": {
      "text/plain": [
       "array([[ 0.21786893,  4.09551004],\n",
       "       [-1.26811733,  7.76378266],\n",
       "       [-1.56883283,  3.08178097],\n",
       "       [ 1.99186903,  0.96561071],\n",
       "       [ 1.24045555,  4.38228745]])"
      ]
     },
     "execution_count": 33,
     "metadata": {},
     "output_type": "execute_result"
    }
   ],
   "source": [
    "scratch_kmeans = ScratchKMeans(5, 5)\n",
    "scratch_kmeans.fit(X, verbose=True)"
   ]
  },
  {
   "cell_type": "markdown",
   "metadata": {},
   "source": [
    "## 【問題8】エルボー法の実装\n",
    "K-meansにおいて中心点の個数$k$は人為的に決める必要がありますが、その判断方法としてエルボー法があります。エルボー法により中心点の個数$k$を検討するためのコードを作成してください。\n",
    "\n",
    "SSEを縦軸、クラスタ数$k$を横軸にした折れ線グラフを表示します。このためにK-meansのインスタンスからはSSEを取得できるようにしてください。"
   ]
  },
  {
   "cell_type": "code",
   "execution_count": 34,
   "metadata": {},
   "outputs": [],
   "source": [
    "def elbow_plot(X, max_clusters, n_init=5):\n",
    "\n",
    "    x_values = np.arange(2, max_clusters)\n",
    "    y_values = np.zeros(len(x_values))\n",
    "\n",
    "    for i, n_clusters in enumerate(x_values):\n",
    "        _, sse = ScratchKMeans(n_clusters, n_init).fit(X, return_sse=True)\n",
    "        y_values[i] = sse\n",
    "\n",
    "    plt.plot(x_values, y_values)\n",
    "    plt.scatter(x_values, y_values)\n",
    "    plt.title(\"Elbow Chart\")\n",
    "    plt.xlabel(\"n_clusters\")\n",
    "    plt.ylabel(\"SSE\")\n",
    "    plt.show()"
   ]
  },
  {
   "cell_type": "code",
   "execution_count": 35,
   "metadata": {},
   "outputs": [
    {
     "data": {
      "image/png": "[encoded data removed]",
      "text/plain": [
       "<Figure size 432x288 with 1 Axes>"
      ]
     },
     "metadata": {
      "needs_background": "light"
     },
     "output_type": "display_data"
    }
   ],
   "source": [
    "elbow_plot(X, 15)"
   ]
  },
  {
   "cell_type": "markdown",
   "metadata": {},
   "source": [
    "## 【問題9】（アドバンス課題）シルエット図\n",
    "$k$を決める助けになるものとしてシルエット図もあります。シルエット図を表示するコードを作成してください。\n",
    "\n",
    "Matplotlibを使い図を表示するコードは用意しました。以下を与えてください。\n",
    "\n",
    "silhouette_vals : shape(n_samples,)のndarray、各データ点のシルエット係数\n",
    "\n",
    "silhouette_avg : float、シルエット係数の平均値\n",
    "\n",
    "y_km : shape(n_samples,)のndarray、各データ点のクラスタラベル名\n",
    "\n",
    "cluster_labels : list、クラスタのラベル名のリスト\n",
    "\n",
    "n_clusters : int、クラスタ数\n",
    "\n",
    "$n$番目のデータ点に対するシルエット係数$s_n$は以下の数式でを求められます。この数式を実装し、シルエット図を確認してください。\n",
    "\n",
    "$$\n",
    "s_n = \\frac{b_n-a_n}{max(b_n,a_n)}\n",
    "$$"
   ]
  },
  {
   "cell_type": "code",
   "execution_count": 36,
   "metadata": {},
   "outputs": [],
   "source": [
    "def calc_silhouette(X, mu, r, mean=False):\n",
    "    \n",
    "    silhouette_vals = np.zeros(len(X))\n",
    "\n",
    "    for i in range(len(X)):\n",
    "        cluster_self = np.delete(X, i, axis=0)\n",
    "        r_self = np.delete(r, i, axis=0)\n",
    "        r_label = r[i].astype(int)\n",
    "\n",
    "        cluster_self = cluster_self[r_self == r[i]]\n",
    "        a_dist = LA.norm((X[i] - cluster_self), axis=1)\n",
    "        a_mean = np.mean(a_dist)\n",
    "\n",
    "        mu_dist = LA.norm((mu[r_label] - mu), axis=1)\n",
    "        r_nearest = np.argmin(np.where(mu_dist == 0, np.inf, mu_dist))\n",
    "        cluster_nearest = X[r == r_nearest]\n",
    "        b_dist = LA.norm((X[i] - cluster_nearest), axis=1)\n",
    "        b_mean = np.mean(b_dist) \n",
    "\n",
    "        silhouette_vals[i] = (b_mean - a_mean) / np.max((b_mean, a_mean))\n",
    "    \n",
    "    silhouette_avg = np.mean(silhouette_vals)\n",
    "\n",
    "    if mean:\n",
    "        return silhouette_vals, silhouette_avg\n",
    "    else:\n",
    "        return silhouette_vals"
   ]
  },
  {
   "cell_type": "code",
   "execution_count": 38,
   "metadata": {},
   "outputs": [],
   "source": [
    "from matplotlib import cm\n",
    "\n",
    "def silhouette_plot(X, mu, r, ax=None):\n",
    "    silhouette_vals, silhouette_avg = calc_silhouette(X, mu, r, mean=True)\n",
    "    y_km = r\n",
    "    cluster_labels = np.unique(r)\n",
    "    n_clusters = len(cluster_labels)\n",
    "    \n",
    "    y_ax_lower, y_ax_upper = 0, 0\n",
    "    yticks = []\n",
    "    \n",
    "    if ax:\n",
    "        for i, c in enumerate(cluster_labels):\n",
    "            c_silhouette_vals = silhouette_vals[y_km == c]\n",
    "            c_silhouette_vals.sort()\n",
    "            y_ax_upper += len(c_silhouette_vals)\n",
    "            color = cm.jet(i / n_clusters)\n",
    "            ax.barh(range(y_ax_lower, y_ax_upper), c_silhouette_vals, height=1.0, edgecolor='none', color=color)\n",
    "            yticks.append((y_ax_lower + y_ax_upper) / 2)\n",
    "            y_ax_lower += len(c_silhouette_vals)\n",
    "        ax.axvline(silhouette_avg, color=\"red\", linestyle=\"--\")\n",
    "        ax.set_yticks(yticks)\n",
    "        ax.set_yticklabels(cluster_labels + 1)\n",
    "        ax.set_ylabel('Cluster')\n",
    "        ax.set_xlabel('Silhouette coefficient')\n",
    "    \n",
    "    else:\n",
    "        for i, c in enumerate(cluster_labels):\n",
    "            c_silhouette_vals = silhouette_vals[y_km == c]\n",
    "            c_silhouette_vals.sort()\n",
    "            y_ax_upper += len(c_silhouette_vals)\n",
    "            color = cm.jet(i / n_clusters)\n",
    "            plt.barh(range(y_ax_lower, y_ax_upper), c_silhouette_vals, height=1.0, edgecolor='none', color=color)\n",
    "            yticks.append((y_ax_lower + y_ax_upper) / 2)\n",
    "            y_ax_lower += len(c_silhouette_vals)\n",
    "        plt.axvline(silhouette_avg, color=\"red\", linestyle=\"--\")\n",
    "        plt.yticks(yticks, cluster_labels + 1)\n",
    "        plt.ylabel('Cluster')\n",
    "        plt.xlabel('Silhouette coefficient')\n",
    "        plt.show()"
   ]
  },
  {
   "cell_type": "code",
   "execution_count": 39,
   "metadata": {},
   "outputs": [
    {
     "data": {
      "image/png": "[encoded data removed]",
      "text/plain": [
       "<Figure size 432x288 with 1 Axes>"
      ]
     },
     "metadata": {
      "needs_background": "light"
     },
     "output_type": "display_data"
    }
   ],
   "source": [
    "model = ScratchKMeans(n_clusters=4, n_init=5)\n",
    "\n",
    "mu = model.fit(X)\n",
    "r = model.predict(X)\n",
    "\n",
    "silhouette_plot(X, mu, r)"
   ]
  },
  {
   "cell_type": "markdown",
   "metadata": {},
   "source": [
    "#### 卸売業者のデータ分析\n",
    "クラスタリングを利用法を学ぶために、Wholesale customers Data Setを使用します。\n",
    "\n",
    "UCI Machine Learning Repository: Wholesale customers Data Set\n",
    "\n",
    "Data Folderの中からWholesale customers data.csvをダウンロードしてください。これはポルトガルのリスボンにある卸売業者（wholesale）が顧客から集めたデータです。中身は各顧客が年間でミルクや食料品を何ユーロ購入しているかというデータになっています。顧客は小売店やレストランです。RegionとChannelは取り覗き、金額のデータでK-meansを利用します"
   ]
  },
  {
   "cell_type": "markdown",
   "metadata": {},
   "source": [
    "#### 次元削減\n",
    "金額に関する特徴量は6個ありますが、可視化するために次元削減を行います。これに関してはscikit-learnによるPCAのサンプルコードを用意したので利用してください。"
   ]
  },
  {
   "cell_type": "code",
   "execution_count": 53,
   "metadata": {},
   "outputs": [
    {
     "data": {
      "text/html": [
       "<div>\n",
       "<style scoped>\n",
       "    .dataframe tbody tr th:only-of-type {\n",
       "        vertical-align: middle;\n",
       "    }\n",
       "\n",
       "    .dataframe tbody tr th {\n",
       "        vertical-align: top;\n",
       "    }\n",
       "\n",
       "    .dataframe thead th {\n",
       "        text-align: right;\n",
       "    }\n",
       "</style>\n",
       "<table border=\"1\" class=\"dataframe\">\n",
       "  <thead>\n",
       "    <tr style=\"text-align: right;\">\n",
       "      <th></th>\n",
       "      <th>Channel</th>\n",
       "      <th>Region</th>\n",
       "      <th>Fresh</th>\n",
       "      <th>Milk</th>\n",
       "      <th>Grocery</th>\n",
       "      <th>Frozen</th>\n",
       "      <th>Detergents_Paper</th>\n",
       "      <th>Delicassen</th>\n",
       "    </tr>\n",
       "  </thead>\n",
       "  <tbody>\n",
       "    <tr>\n",
       "      <th>count</th>\n",
       "      <td>440.000000</td>\n",
       "      <td>440.000000</td>\n",
       "      <td>440.000000</td>\n",
       "      <td>440.000000</td>\n",
       "      <td>440.000000</td>\n",
       "      <td>440.000000</td>\n",
       "      <td>440.000000</td>\n",
       "      <td>440.000000</td>\n",
       "    </tr>\n",
       "    <tr>\n",
       "      <th>mean</th>\n",
       "      <td>1.322727</td>\n",
       "      <td>2.543182</td>\n",
       "      <td>12000.297727</td>\n",
       "      <td>5796.265909</td>\n",
       "      <td>7951.277273</td>\n",
       "      <td>3071.931818</td>\n",
       "      <td>2881.493182</td>\n",
       "      <td>1524.870455</td>\n",
       "    </tr>\n",
       "    <tr>\n",
       "      <th>std</th>\n",
       "      <td>0.468052</td>\n",
       "      <td>0.774272</td>\n",
       "      <td>12647.328865</td>\n",
       "      <td>7380.377175</td>\n",
       "      <td>9503.162829</td>\n",
       "      <td>4854.673333</td>\n",
       "      <td>4767.854448</td>\n",
       "      <td>2820.105937</td>\n",
       "    </tr>\n",
       "    <tr>\n",
       "      <th>min</th>\n",
       "      <td>1.000000</td>\n",
       "      <td>1.000000</td>\n",
       "      <td>3.000000</td>\n",
       "      <td>55.000000</td>\n",
       "      <td>3.000000</td>\n",
       "      <td>25.000000</td>\n",
       "      <td>3.000000</td>\n",
       "      <td>3.000000</td>\n",
       "    </tr>\n",
       "    <tr>\n",
       "      <th>25%</th>\n",
       "      <td>1.000000</td>\n",
       "      <td>2.000000</td>\n",
       "      <td>3127.750000</td>\n",
       "      <td>1533.000000</td>\n",
       "      <td>2153.000000</td>\n",
       "      <td>742.250000</td>\n",
       "      <td>256.750000</td>\n",
       "      <td>408.250000</td>\n",
       "    </tr>\n",
       "    <tr>\n",
       "      <th>50%</th>\n",
       "      <td>1.000000</td>\n",
       "      <td>3.000000</td>\n",
       "      <td>8504.000000</td>\n",
       "      <td>3627.000000</td>\n",
       "      <td>4755.500000</td>\n",
       "      <td>1526.000000</td>\n",
       "      <td>816.500000</td>\n",
       "      <td>965.500000</td>\n",
       "    </tr>\n",
       "    <tr>\n",
       "      <th>75%</th>\n",
       "      <td>2.000000</td>\n",
       "      <td>3.000000</td>\n",
       "      <td>16933.750000</td>\n",
       "      <td>7190.250000</td>\n",
       "      <td>10655.750000</td>\n",
       "      <td>3554.250000</td>\n",
       "      <td>3922.000000</td>\n",
       "      <td>1820.250000</td>\n",
       "    </tr>\n",
       "    <tr>\n",
       "      <th>max</th>\n",
       "      <td>2.000000</td>\n",
       "      <td>3.000000</td>\n",
       "      <td>112151.000000</td>\n",
       "      <td>73498.000000</td>\n",
       "      <td>92780.000000</td>\n",
       "      <td>60869.000000</td>\n",
       "      <td>40827.000000</td>\n",
       "      <td>47943.000000</td>\n",
       "    </tr>\n",
       "  </tbody>\n",
       "</table>\n",
       "</div>"
      ],
      "text/plain": [
       "          Channel      Region          Fresh          Milk       Grocery  \\\n",
       "count  440.000000  440.000000     440.000000    440.000000    440.000000   \n",
       "mean     1.322727    2.543182   12000.297727   5796.265909   7951.277273   \n",
       "std      0.468052    0.774272   12647.328865   7380.377175   9503.162829   \n",
       "min      1.000000    1.000000       3.000000     55.000000      3.000000   \n",
       "25%      1.000000    2.000000    3127.750000   1533.000000   2153.000000   \n",
       "50%      1.000000    3.000000    8504.000000   3627.000000   4755.500000   \n",
       "75%      2.000000    3.000000   16933.750000   7190.250000  10655.750000   \n",
       "max      2.000000    3.000000  112151.000000  73498.000000  92780.000000   \n",
       "\n",
       "             Frozen  Detergents_Paper    Delicassen  \n",
       "count    440.000000        440.000000    440.000000  \n",
       "mean    3071.931818       2881.493182   1524.870455  \n",
       "std     4854.673333       4767.854448   2820.105937  \n",
       "min       25.000000          3.000000      3.000000  \n",
       "25%      742.250000        256.750000    408.250000  \n",
       "50%     1526.000000        816.500000    965.500000  \n",
       "75%     3554.250000       3922.000000   1820.250000  \n",
       "max    60869.000000      40827.000000  47943.000000  "
      ]
     },
     "execution_count": 53,
     "metadata": {},
     "output_type": "execute_result"
    }
   ],
   "source": [
    "data_path = '/Users/akihiro/git/personal/diveintocode-ml/Sprint7/Wholesale_customers_data.csv'\n",
    "\n",
    "raw_data = pd.read_csv(data_path)\n",
    "np.set_printoptions(suppress=True)\n",
    "pd.set_option('display.max_columns', 100)\n",
    "pd.set_option('display.max_rows', 100)\n",
    "\n",
    "data = raw_data.drop(columns=['Channel', 'Region'])\n",
    "raw_data.describe()"
   ]
  },
  {
   "cell_type": "code",
   "execution_count": 54,
   "metadata": {},
   "outputs": [],
   "source": [
    "# 《PCAのサンプルコード》\n",
    "from sklearn.decomposition import PCA\n",
    "pca = PCA(n_components = 2)\n",
    "pca = pca.fit(data)\n",
    "data_pca = pca.transform(data)"
   ]
  },
  {
   "cell_type": "code",
   "execution_count": 55,
   "metadata": {},
   "outputs": [
    {
     "name": "stdout",
     "output_type": "stream",
     "text": [
      "[0.45961362 0.86478588 0.93481597 0.97883941 0.99386152 1.        ]\n"
     ]
    },
    {
     "data": {
      "image/png": "[encoded data removed]",
      "text/plain": [
       "<Figure size 432x288 with 1 Axes>"
      ]
     },
     "metadata": {
      "needs_background": "light"
     },
     "output_type": "display_data"
    }
   ],
   "source": [
    "# 《PCAの分散説明率を表示するコードサンプル》\n",
    "from sklearn.decomposition import PCA\n",
    "import matplotlib.pyplot as plt\n",
    "pca = PCA(n_components=None)\n",
    "pca = pca.fit(data)\n",
    "var_exp = pca.explained_variance_ratio_\n",
    "cum_var_exp = np.cumsum(var_exp)\n",
    "print(cum_var_exp)\n",
    "plt.bar(range(1,7), var_exp, alpha=0.5, align='center', label='individual explained variance')\n",
    "plt.step(range(1,7), cum_var_exp, where='mid', label='cumulative expalined variance')\n",
    "plt.ylabel('Explained variance ratio')\n",
    "plt.xlabel('Principal components')\n",
    "plt.hlines(0.7, 0, 6,  \"blue\", linestyles='dashed')\n",
    "plt.legend(loc='best')\n",
    "plt.grid()\n",
    "plt.show()"
   ]
  },
  {
   "cell_type": "markdown",
   "metadata": {},
   "source": [
    "## 【問題10】クラスタ数kの選択¶\n",
    "最適だと思われるクラスタ数$k$を選択してください。エルボー法やシルエット図を活用する他、人間が後々どう利用したいのかも選択に関わってきます。選択した上で、なぜそれを選んだか説明してください。\n",
    "\n"
   ]
  },
  {
   "cell_type": "code",
   "execution_count": 56,
   "metadata": {},
   "outputs": [
    {
     "name": "stderr",
     "output_type": "stream",
     "text": [
      "/usr/local/var/pyenv/versions/anaconda3-5.3.1/lib/python3.7/site-packages/numpy/core/fromnumeric.py:3373: RuntimeWarning: Mean of empty slice.\n",
      "  out=out, **kwargs)\n",
      "/usr/local/var/pyenv/versions/anaconda3-5.3.1/lib/python3.7/site-packages/numpy/core/_methods.py:163: RuntimeWarning: invalid value encountered in true_divide\n",
      "  ret, rcount, out=ret, casting='unsafe', subok=False)\n"
     ]
    },
    {
     "data": {
      "image/png": "[encoded data removed]",
      "text/plain": [
       "<Figure size 432x288 with 1 Axes>"
      ]
     },
     "metadata": {
      "needs_background": "light"
     },
     "output_type": "display_data"
    }
   ],
   "source": [
    "# エルボー図の確認\n",
    "elbow_plot(data_pca, 30)"
   ]
  },
  {
   "cell_type": "markdown",
   "metadata": {},
   "source": [
    "エルボー図の転換点が5から10の間にあるため、クラスタ数はこの間から選ぶのが最適と思われる。しかし、曲線がなだらかなため、的確に判断することは難しい。"
   ]
  },
  {
   "cell_type": "code",
   "execution_count": 57,
   "metadata": {},
   "outputs": [
    {
     "name": "stderr",
     "output_type": "stream",
     "text": [
      "/usr/local/var/pyenv/versions/anaconda3-5.3.1/lib/python3.7/site-packages/numpy/core/fromnumeric.py:3373: RuntimeWarning: Mean of empty slice.\n",
      "  out=out, **kwargs)\n",
      "/usr/local/var/pyenv/versions/anaconda3-5.3.1/lib/python3.7/site-packages/numpy/core/_methods.py:163: RuntimeWarning: invalid value encountered in true_divide\n",
      "  ret, rcount, out=ret, casting='unsafe', subok=False)\n",
      "/usr/local/var/pyenv/versions/anaconda3-5.3.1/lib/python3.7/site-packages/numpy/core/_methods.py:170: RuntimeWarning: invalid value encountered in double_scalars\n",
      "  ret = ret.dtype.type(ret / rcount)\n"
     ]
    },
    {
     "data": {
      "image/png": "[encoded data removed]",
      "text/plain": [
       "<Figure size 720x1440 with 10 Axes>"
      ]
     },
     "metadata": {
      "needs_background": "light"
     },
     "output_type": "display_data"
    }
   ],
   "source": [
    "# エルボー地点辺りから複数のクラスタ数でシルエット図を描画\n",
    "n_clusters = [5, 7, 10, 15, 20]\n",
    "fig, axs = plt.subplots(5, 2, figsize = (10, 20))\n",
    "\n",
    "for i, k in enumerate(n_clusters):\n",
    "\n",
    "    model = ScratchKMeans(k, n_init=10)\n",
    "    mu = model.fit(data_pca)\n",
    "    r = model.predict(data_pca)\n",
    "    \n",
    "    clusters_plot(data_pca, mu, r, ax=axs[i, 0])\n",
    "    silhouette_plot(data_pca, mu, r, ax=axs[i, 1])\n",
    "\n",
    "plt.tight_layout(h_pad=2.5, w_pad=2.5)"
   ]
  },
  {
   "cell_type": "markdown",
   "metadata": {},
   "source": [
    "シルエット図からでも最適なクラスタ数を判断するのは難しく、強いて数が多いほど良く、k = 20がベストといったところだろう。しかし、分散説明率図から判る通り、二つの軸（components）が全体の分散の7割以上を占めているため、そしてデータにChannel項目があるため、データ分析より本来最適なクラスタ数は2と考察する。"
   ]
  },
  {
   "cell_type": "markdown",
   "metadata": {},
   "source": [
    "## 【問題11】既知のグループとの比較\n",
    "RegionとChannelはK-meansに使用しなかったが、これらは既知のグループです。クラスタとこれら既知のグループがどう違うかを確認し、説明してください。まずはそれぞれを可視化してください。\n",
    "\n"
   ]
  },
  {
   "cell_type": "code",
   "execution_count": 58,
   "metadata": {},
   "outputs": [],
   "source": [
    "df = pd.concat([raw_data.loc[:, ['Channel', 'Region']],\n",
    "                pd.DataFrame(data_pca, columns=['x1', 'x2'])], axis='columns')"
   ]
  },
  {
   "cell_type": "code",
   "execution_count": 59,
   "metadata": {},
   "outputs": [
    {
     "ename": "ValueError",
     "evalue": "zero-size array to reduction operation minimum which has no identity",
     "output_type": "error",
     "traceback": [
      "\u001b[0;31m---------------------------------------------------------------------------\u001b[0m",
      "\u001b[0;31mValueError\u001b[0m                                Traceback (most recent call last)",
      "\u001b[0;32m/usr/local/var/pyenv/versions/anaconda3-5.3.1/lib/python3.7/site-packages/IPython/core/formatters.py\u001b[0m in \u001b[0;36m__call__\u001b[0;34m(self, obj)\u001b[0m\n\u001b[1;32m    339\u001b[0m                 \u001b[0;32mpass\u001b[0m\u001b[0;34m\u001b[0m\u001b[0;34m\u001b[0m\u001b[0m\n\u001b[1;32m    340\u001b[0m             \u001b[0;32melse\u001b[0m\u001b[0;34m:\u001b[0m\u001b[0;34m\u001b[0m\u001b[0;34m\u001b[0m\u001b[0m\n\u001b[0;32m--> 341\u001b[0;31m                 \u001b[0;32mreturn\u001b[0m \u001b[0mprinter\u001b[0m\u001b[0;34m(\u001b[0m\u001b[0mobj\u001b[0m\u001b[0;34m)\u001b[0m\u001b[0;34m\u001b[0m\u001b[0;34m\u001b[0m\u001b[0m\n\u001b[0m\u001b[1;32m    342\u001b[0m             \u001b[0;31m# Finally look for special method names\u001b[0m\u001b[0;34m\u001b[0m\u001b[0;34m\u001b[0m\u001b[0;34m\u001b[0m\u001b[0m\n\u001b[1;32m    343\u001b[0m             \u001b[0mmethod\u001b[0m \u001b[0;34m=\u001b[0m \u001b[0mget_real_method\u001b[0m\u001b[0;34m(\u001b[0m\u001b[0mobj\u001b[0m\u001b[0;34m,\u001b[0m \u001b[0mself\u001b[0m\u001b[0;34m.\u001b[0m\u001b[0mprint_method\u001b[0m\u001b[0;34m)\u001b[0m\u001b[0;34m\u001b[0m\u001b[0;34m\u001b[0m\u001b[0m\n",
      "\u001b[0;32m/usr/local/var/pyenv/versions/anaconda3-5.3.1/lib/python3.7/site-packages/IPython/core/pylabtools.py\u001b[0m in \u001b[0;36m<lambda>\u001b[0;34m(fig)\u001b[0m\n\u001b[1;32m    246\u001b[0m \u001b[0;34m\u001b[0m\u001b[0m\n\u001b[1;32m    247\u001b[0m     \u001b[0;32mif\u001b[0m \u001b[0;34m'png'\u001b[0m \u001b[0;32min\u001b[0m \u001b[0mformats\u001b[0m\u001b[0;34m:\u001b[0m\u001b[0;34m\u001b[0m\u001b[0;34m\u001b[0m\u001b[0m\n\u001b[0;32m--> 248\u001b[0;31m         \u001b[0mpng_formatter\u001b[0m\u001b[0;34m.\u001b[0m\u001b[0mfor_type\u001b[0m\u001b[0;34m(\u001b[0m\u001b[0mFigure\u001b[0m\u001b[0;34m,\u001b[0m \u001b[0;32mlambda\u001b[0m \u001b[0mfig\u001b[0m\u001b[0;34m:\u001b[0m \u001b[0mprint_figure\u001b[0m\u001b[0;34m(\u001b[0m\u001b[0mfig\u001b[0m\u001b[0;34m,\u001b[0m \u001b[0;34m'png'\u001b[0m\u001b[0;34m,\u001b[0m \u001b[0;34m**\u001b[0m\u001b[0mkwargs\u001b[0m\u001b[0;34m)\u001b[0m\u001b[0;34m)\u001b[0m\u001b[0;34m\u001b[0m\u001b[0;34m\u001b[0m\u001b[0m\n\u001b[0m\u001b[1;32m    249\u001b[0m     \u001b[0;32mif\u001b[0m \u001b[0;34m'retina'\u001b[0m \u001b[0;32min\u001b[0m \u001b[0mformats\u001b[0m \u001b[0;32mor\u001b[0m \u001b[0;34m'png2x'\u001b[0m \u001b[0;32min\u001b[0m \u001b[0mformats\u001b[0m\u001b[0;34m:\u001b[0m\u001b[0;34m\u001b[0m\u001b[0;34m\u001b[0m\u001b[0m\n\u001b[1;32m    250\u001b[0m         \u001b[0mpng_formatter\u001b[0m\u001b[0;34m.\u001b[0m\u001b[0mfor_type\u001b[0m\u001b[0;34m(\u001b[0m\u001b[0mFigure\u001b[0m\u001b[0;34m,\u001b[0m \u001b[0;32mlambda\u001b[0m \u001b[0mfig\u001b[0m\u001b[0;34m:\u001b[0m \u001b[0mretina_figure\u001b[0m\u001b[0;34m(\u001b[0m\u001b[0mfig\u001b[0m\u001b[0;34m,\u001b[0m \u001b[0;34m**\u001b[0m\u001b[0mkwargs\u001b[0m\u001b[0;34m)\u001b[0m\u001b[0;34m)\u001b[0m\u001b[0;34m\u001b[0m\u001b[0;34m\u001b[0m\u001b[0m\n",
      "\u001b[0;32m/usr/local/var/pyenv/versions/anaconda3-5.3.1/lib/python3.7/site-packages/IPython/core/pylabtools.py\u001b[0m in \u001b[0;36mprint_figure\u001b[0;34m(fig, fmt, bbox_inches, **kwargs)\u001b[0m\n\u001b[1;32m    130\u001b[0m         \u001b[0mFigureCanvasBase\u001b[0m\u001b[0;34m(\u001b[0m\u001b[0mfig\u001b[0m\u001b[0;34m)\u001b[0m\u001b[0;34m\u001b[0m\u001b[0;34m\u001b[0m\u001b[0m\n\u001b[1;32m    131\u001b[0m \u001b[0;34m\u001b[0m\u001b[0m\n\u001b[0;32m--> 132\u001b[0;31m     \u001b[0mfig\u001b[0m\u001b[0;34m.\u001b[0m\u001b[0mcanvas\u001b[0m\u001b[0;34m.\u001b[0m\u001b[0mprint_figure\u001b[0m\u001b[0;34m(\u001b[0m\u001b[0mbytes_io\u001b[0m\u001b[0;34m,\u001b[0m \u001b[0;34m**\u001b[0m\u001b[0mkw\u001b[0m\u001b[0;34m)\u001b[0m\u001b[0;34m\u001b[0m\u001b[0;34m\u001b[0m\u001b[0m\n\u001b[0m\u001b[1;32m    133\u001b[0m     \u001b[0mdata\u001b[0m \u001b[0;34m=\u001b[0m \u001b[0mbytes_io\u001b[0m\u001b[0;34m.\u001b[0m\u001b[0mgetvalue\u001b[0m\u001b[0;34m(\u001b[0m\u001b[0;34m)\u001b[0m\u001b[0;34m\u001b[0m\u001b[0;34m\u001b[0m\u001b[0m\n\u001b[1;32m    134\u001b[0m     \u001b[0;32mif\u001b[0m \u001b[0mfmt\u001b[0m \u001b[0;34m==\u001b[0m \u001b[0;34m'svg'\u001b[0m\u001b[0;34m:\u001b[0m\u001b[0;34m\u001b[0m\u001b[0;34m\u001b[0m\u001b[0m\n",
      "\u001b[0;32m/usr/local/var/pyenv/versions/anaconda3-5.3.1/lib/python3.7/site-packages/matplotlib/backend_bases.py\u001b[0m in \u001b[0;36mprint_figure\u001b[0;34m(self, filename, dpi, facecolor, edgecolor, orientation, format, bbox_inches, pad_inches, bbox_extra_artists, backend, **kwargs)\u001b[0m\n\u001b[1;32m   2191\u001b[0m                            else suppress())\n\u001b[1;32m   2192\u001b[0m                     \u001b[0;32mwith\u001b[0m \u001b[0mctx\u001b[0m\u001b[0;34m:\u001b[0m\u001b[0;34m\u001b[0m\u001b[0;34m\u001b[0m\u001b[0m\n\u001b[0;32m-> 2193\u001b[0;31m                         \u001b[0mself\u001b[0m\u001b[0;34m.\u001b[0m\u001b[0mfigure\u001b[0m\u001b[0;34m.\u001b[0m\u001b[0mdraw\u001b[0m\u001b[0;34m(\u001b[0m\u001b[0mrenderer\u001b[0m\u001b[0;34m)\u001b[0m\u001b[0;34m\u001b[0m\u001b[0;34m\u001b[0m\u001b[0m\n\u001b[0m\u001b[1;32m   2194\u001b[0m \u001b[0;34m\u001b[0m\u001b[0m\n\u001b[1;32m   2195\u001b[0m                     bbox_inches = self.figure.get_tightbbox(\n",
      "\u001b[0;32m/usr/local/var/pyenv/versions/anaconda3-5.3.1/lib/python3.7/site-packages/matplotlib/artist.py\u001b[0m in \u001b[0;36mdraw_wrapper\u001b[0;34m(artist, renderer, *args, **kwargs)\u001b[0m\n\u001b[1;32m     39\u001b[0m                 \u001b[0mrenderer\u001b[0m\u001b[0;34m.\u001b[0m\u001b[0mstart_filter\u001b[0m\u001b[0;34m(\u001b[0m\u001b[0;34m)\u001b[0m\u001b[0;34m\u001b[0m\u001b[0;34m\u001b[0m\u001b[0m\n\u001b[1;32m     40\u001b[0m \u001b[0;34m\u001b[0m\u001b[0m\n\u001b[0;32m---> 41\u001b[0;31m             \u001b[0;32mreturn\u001b[0m \u001b[0mdraw\u001b[0m\u001b[0;34m(\u001b[0m\u001b[0martist\u001b[0m\u001b[0;34m,\u001b[0m \u001b[0mrenderer\u001b[0m\u001b[0;34m,\u001b[0m \u001b[0;34m*\u001b[0m\u001b[0margs\u001b[0m\u001b[0;34m,\u001b[0m \u001b[0;34m**\u001b[0m\u001b[0mkwargs\u001b[0m\u001b[0;34m)\u001b[0m\u001b[0;34m\u001b[0m\u001b[0;34m\u001b[0m\u001b[0m\n\u001b[0m\u001b[1;32m     42\u001b[0m         \u001b[0;32mfinally\u001b[0m\u001b[0;34m:\u001b[0m\u001b[0;34m\u001b[0m\u001b[0;34m\u001b[0m\u001b[0m\n\u001b[1;32m     43\u001b[0m             \u001b[0;32mif\u001b[0m \u001b[0martist\u001b[0m\u001b[0;34m.\u001b[0m\u001b[0mget_agg_filter\u001b[0m\u001b[0;34m(\u001b[0m\u001b[0;34m)\u001b[0m \u001b[0;32mis\u001b[0m \u001b[0;32mnot\u001b[0m \u001b[0;32mNone\u001b[0m\u001b[0;34m:\u001b[0m\u001b[0;34m\u001b[0m\u001b[0;34m\u001b[0m\u001b[0m\n",
      "\u001b[0;32m/usr/local/var/pyenv/versions/anaconda3-5.3.1/lib/python3.7/site-packages/matplotlib/figure.py\u001b[0m in \u001b[0;36mdraw\u001b[0;34m(self, renderer)\u001b[0m\n\u001b[1;32m   1862\u001b[0m             \u001b[0mself\u001b[0m\u001b[0;34m.\u001b[0m\u001b[0mpatch\u001b[0m\u001b[0;34m.\u001b[0m\u001b[0mdraw\u001b[0m\u001b[0;34m(\u001b[0m\u001b[0mrenderer\u001b[0m\u001b[0;34m)\u001b[0m\u001b[0;34m\u001b[0m\u001b[0;34m\u001b[0m\u001b[0m\n\u001b[1;32m   1863\u001b[0m             mimage._draw_list_compositing_images(\n\u001b[0;32m-> 1864\u001b[0;31m                 renderer, self, artists, self.suppressComposite)\n\u001b[0m\u001b[1;32m   1865\u001b[0m \u001b[0;34m\u001b[0m\u001b[0m\n\u001b[1;32m   1866\u001b[0m             \u001b[0mrenderer\u001b[0m\u001b[0;34m.\u001b[0m\u001b[0mclose_group\u001b[0m\u001b[0;34m(\u001b[0m\u001b[0;34m'figure'\u001b[0m\u001b[0;34m)\u001b[0m\u001b[0;34m\u001b[0m\u001b[0;34m\u001b[0m\u001b[0m\n",
      "\u001b[0;32m/usr/local/var/pyenv/versions/anaconda3-5.3.1/lib/python3.7/site-packages/matplotlib/image.py\u001b[0m in \u001b[0;36m_draw_list_compositing_images\u001b[0;34m(renderer, parent, artists, suppress_composite)\u001b[0m\n\u001b[1;32m    129\u001b[0m     \u001b[0;32mif\u001b[0m \u001b[0mnot_composite\u001b[0m \u001b[0;32mor\u001b[0m \u001b[0;32mnot\u001b[0m \u001b[0mhas_images\u001b[0m\u001b[0;34m:\u001b[0m\u001b[0;34m\u001b[0m\u001b[0;34m\u001b[0m\u001b[0m\n\u001b[1;32m    130\u001b[0m         \u001b[0;32mfor\u001b[0m \u001b[0ma\u001b[0m \u001b[0;32min\u001b[0m \u001b[0martists\u001b[0m\u001b[0;34m:\u001b[0m\u001b[0;34m\u001b[0m\u001b[0;34m\u001b[0m\u001b[0m\n\u001b[0;32m--> 131\u001b[0;31m             \u001b[0ma\u001b[0m\u001b[0;34m.\u001b[0m\u001b[0mdraw\u001b[0m\u001b[0;34m(\u001b[0m\u001b[0mrenderer\u001b[0m\u001b[0;34m)\u001b[0m\u001b[0;34m\u001b[0m\u001b[0;34m\u001b[0m\u001b[0m\n\u001b[0m\u001b[1;32m    132\u001b[0m     \u001b[0;32melse\u001b[0m\u001b[0;34m:\u001b[0m\u001b[0;34m\u001b[0m\u001b[0;34m\u001b[0m\u001b[0m\n\u001b[1;32m    133\u001b[0m         \u001b[0;31m# Composite any adjacent images together\u001b[0m\u001b[0;34m\u001b[0m\u001b[0;34m\u001b[0m\u001b[0;34m\u001b[0m\u001b[0m\n",
      "\u001b[0;32m/usr/local/var/pyenv/versions/anaconda3-5.3.1/lib/python3.7/site-packages/matplotlib/artist.py\u001b[0m in \u001b[0;36mdraw_wrapper\u001b[0;34m(artist, renderer, *args, **kwargs)\u001b[0m\n\u001b[1;32m     39\u001b[0m                 \u001b[0mrenderer\u001b[0m\u001b[0;34m.\u001b[0m\u001b[0mstart_filter\u001b[0m\u001b[0;34m(\u001b[0m\u001b[0;34m)\u001b[0m\u001b[0;34m\u001b[0m\u001b[0;34m\u001b[0m\u001b[0m\n\u001b[1;32m     40\u001b[0m \u001b[0;34m\u001b[0m\u001b[0m\n\u001b[0;32m---> 41\u001b[0;31m             \u001b[0;32mreturn\u001b[0m \u001b[0mdraw\u001b[0m\u001b[0;34m(\u001b[0m\u001b[0martist\u001b[0m\u001b[0;34m,\u001b[0m \u001b[0mrenderer\u001b[0m\u001b[0;34m,\u001b[0m \u001b[0;34m*\u001b[0m\u001b[0margs\u001b[0m\u001b[0;34m,\u001b[0m \u001b[0;34m**\u001b[0m\u001b[0mkwargs\u001b[0m\u001b[0;34m)\u001b[0m\u001b[0;34m\u001b[0m\u001b[0;34m\u001b[0m\u001b[0m\n\u001b[0m\u001b[1;32m     42\u001b[0m         \u001b[0;32mfinally\u001b[0m\u001b[0;34m:\u001b[0m\u001b[0;34m\u001b[0m\u001b[0;34m\u001b[0m\u001b[0m\n\u001b[1;32m     43\u001b[0m             \u001b[0;32mif\u001b[0m \u001b[0martist\u001b[0m\u001b[0;34m.\u001b[0m\u001b[0mget_agg_filter\u001b[0m\u001b[0;34m(\u001b[0m\u001b[0;34m)\u001b[0m \u001b[0;32mis\u001b[0m \u001b[0;32mnot\u001b[0m \u001b[0;32mNone\u001b[0m\u001b[0;34m:\u001b[0m\u001b[0;34m\u001b[0m\u001b[0;34m\u001b[0m\u001b[0m\n",
      "\u001b[0;32m/usr/local/var/pyenv/versions/anaconda3-5.3.1/lib/python3.7/site-packages/matplotlib/cbook/deprecation.py\u001b[0m in \u001b[0;36mwrapper\u001b[0;34m(*inner_args, **inner_kwargs)\u001b[0m\n\u001b[1;32m    409\u001b[0m                          \u001b[0;32melse\u001b[0m \u001b[0mdeprecation_addendum\u001b[0m\u001b[0;34m,\u001b[0m\u001b[0;34m\u001b[0m\u001b[0;34m\u001b[0m\u001b[0m\n\u001b[1;32m    410\u001b[0m                 **kwargs)\n\u001b[0;32m--> 411\u001b[0;31m         \u001b[0;32mreturn\u001b[0m \u001b[0mfunc\u001b[0m\u001b[0;34m(\u001b[0m\u001b[0;34m*\u001b[0m\u001b[0minner_args\u001b[0m\u001b[0;34m,\u001b[0m \u001b[0;34m**\u001b[0m\u001b[0minner_kwargs\u001b[0m\u001b[0;34m)\u001b[0m\u001b[0;34m\u001b[0m\u001b[0;34m\u001b[0m\u001b[0m\n\u001b[0m\u001b[1;32m    412\u001b[0m \u001b[0;34m\u001b[0m\u001b[0m\n\u001b[1;32m    413\u001b[0m     \u001b[0;32mreturn\u001b[0m \u001b[0mwrapper\u001b[0m\u001b[0;34m\u001b[0m\u001b[0;34m\u001b[0m\u001b[0m\n",
      "\u001b[0;32m/usr/local/var/pyenv/versions/anaconda3-5.3.1/lib/python3.7/site-packages/matplotlib/axes/_base.py\u001b[0m in \u001b[0;36mdraw\u001b[0;34m(self, renderer, inframe)\u001b[0m\n\u001b[1;32m   2746\u001b[0m             \u001b[0mrenderer\u001b[0m\u001b[0;34m.\u001b[0m\u001b[0mstop_rasterizing\u001b[0m\u001b[0;34m(\u001b[0m\u001b[0;34m)\u001b[0m\u001b[0;34m\u001b[0m\u001b[0;34m\u001b[0m\u001b[0m\n\u001b[1;32m   2747\u001b[0m \u001b[0;34m\u001b[0m\u001b[0m\n\u001b[0;32m-> 2748\u001b[0;31m         \u001b[0mmimage\u001b[0m\u001b[0;34m.\u001b[0m\u001b[0m_draw_list_compositing_images\u001b[0m\u001b[0;34m(\u001b[0m\u001b[0mrenderer\u001b[0m\u001b[0;34m,\u001b[0m \u001b[0mself\u001b[0m\u001b[0;34m,\u001b[0m \u001b[0martists\u001b[0m\u001b[0;34m)\u001b[0m\u001b[0;34m\u001b[0m\u001b[0;34m\u001b[0m\u001b[0m\n\u001b[0m\u001b[1;32m   2749\u001b[0m \u001b[0;34m\u001b[0m\u001b[0m\n\u001b[1;32m   2750\u001b[0m         \u001b[0mrenderer\u001b[0m\u001b[0;34m.\u001b[0m\u001b[0mclose_group\u001b[0m\u001b[0;34m(\u001b[0m\u001b[0;34m'axes'\u001b[0m\u001b[0;34m)\u001b[0m\u001b[0;34m\u001b[0m\u001b[0;34m\u001b[0m\u001b[0m\n",
      "\u001b[0;32m/usr/local/var/pyenv/versions/anaconda3-5.3.1/lib/python3.7/site-packages/matplotlib/image.py\u001b[0m in \u001b[0;36m_draw_list_compositing_images\u001b[0;34m(renderer, parent, artists, suppress_composite)\u001b[0m\n\u001b[1;32m    129\u001b[0m     \u001b[0;32mif\u001b[0m \u001b[0mnot_composite\u001b[0m \u001b[0;32mor\u001b[0m \u001b[0;32mnot\u001b[0m \u001b[0mhas_images\u001b[0m\u001b[0;34m:\u001b[0m\u001b[0;34m\u001b[0m\u001b[0;34m\u001b[0m\u001b[0m\n\u001b[1;32m    130\u001b[0m         \u001b[0;32mfor\u001b[0m \u001b[0ma\u001b[0m \u001b[0;32min\u001b[0m \u001b[0martists\u001b[0m\u001b[0;34m:\u001b[0m\u001b[0;34m\u001b[0m\u001b[0;34m\u001b[0m\u001b[0m\n\u001b[0;32m--> 131\u001b[0;31m             \u001b[0ma\u001b[0m\u001b[0;34m.\u001b[0m\u001b[0mdraw\u001b[0m\u001b[0;34m(\u001b[0m\u001b[0mrenderer\u001b[0m\u001b[0;34m)\u001b[0m\u001b[0;34m\u001b[0m\u001b[0;34m\u001b[0m\u001b[0m\n\u001b[0m\u001b[1;32m    132\u001b[0m     \u001b[0;32melse\u001b[0m\u001b[0;34m:\u001b[0m\u001b[0;34m\u001b[0m\u001b[0;34m\u001b[0m\u001b[0m\n\u001b[1;32m    133\u001b[0m         \u001b[0;31m# Composite any adjacent images together\u001b[0m\u001b[0;34m\u001b[0m\u001b[0;34m\u001b[0m\u001b[0;34m\u001b[0m\u001b[0m\n",
      "\u001b[0;32m/usr/local/var/pyenv/versions/anaconda3-5.3.1/lib/python3.7/site-packages/matplotlib/artist.py\u001b[0m in \u001b[0;36mdraw_wrapper\u001b[0;34m(artist, renderer, *args, **kwargs)\u001b[0m\n\u001b[1;32m     39\u001b[0m                 \u001b[0mrenderer\u001b[0m\u001b[0;34m.\u001b[0m\u001b[0mstart_filter\u001b[0m\u001b[0;34m(\u001b[0m\u001b[0;34m)\u001b[0m\u001b[0;34m\u001b[0m\u001b[0;34m\u001b[0m\u001b[0m\n\u001b[1;32m     40\u001b[0m \u001b[0;34m\u001b[0m\u001b[0m\n\u001b[0;32m---> 41\u001b[0;31m             \u001b[0;32mreturn\u001b[0m \u001b[0mdraw\u001b[0m\u001b[0;34m(\u001b[0m\u001b[0martist\u001b[0m\u001b[0;34m,\u001b[0m \u001b[0mrenderer\u001b[0m\u001b[0;34m,\u001b[0m \u001b[0;34m*\u001b[0m\u001b[0margs\u001b[0m\u001b[0;34m,\u001b[0m \u001b[0;34m**\u001b[0m\u001b[0mkwargs\u001b[0m\u001b[0;34m)\u001b[0m\u001b[0;34m\u001b[0m\u001b[0;34m\u001b[0m\u001b[0m\n\u001b[0m\u001b[1;32m     42\u001b[0m         \u001b[0;32mfinally\u001b[0m\u001b[0;34m:\u001b[0m\u001b[0;34m\u001b[0m\u001b[0;34m\u001b[0m\u001b[0m\n\u001b[1;32m     43\u001b[0m             \u001b[0;32mif\u001b[0m \u001b[0martist\u001b[0m\u001b[0;34m.\u001b[0m\u001b[0mget_agg_filter\u001b[0m\u001b[0;34m(\u001b[0m\u001b[0;34m)\u001b[0m \u001b[0;32mis\u001b[0m \u001b[0;32mnot\u001b[0m \u001b[0;32mNone\u001b[0m\u001b[0;34m:\u001b[0m\u001b[0;34m\u001b[0m\u001b[0;34m\u001b[0m\u001b[0m\n",
      "\u001b[0;32m/usr/local/var/pyenv/versions/anaconda3-5.3.1/lib/python3.7/site-packages/matplotlib/collections.py\u001b[0m in \u001b[0;36mdraw\u001b[0;34m(self, renderer)\u001b[0m\n\u001b[1;32m    929\u001b[0m     \u001b[0;32mdef\u001b[0m \u001b[0mdraw\u001b[0m\u001b[0;34m(\u001b[0m\u001b[0mself\u001b[0m\u001b[0;34m,\u001b[0m \u001b[0mrenderer\u001b[0m\u001b[0;34m)\u001b[0m\u001b[0;34m:\u001b[0m\u001b[0;34m\u001b[0m\u001b[0;34m\u001b[0m\u001b[0m\n\u001b[1;32m    930\u001b[0m         \u001b[0mself\u001b[0m\u001b[0;34m.\u001b[0m\u001b[0mset_sizes\u001b[0m\u001b[0;34m(\u001b[0m\u001b[0mself\u001b[0m\u001b[0;34m.\u001b[0m\u001b[0m_sizes\u001b[0m\u001b[0;34m,\u001b[0m \u001b[0mself\u001b[0m\u001b[0;34m.\u001b[0m\u001b[0mfigure\u001b[0m\u001b[0;34m.\u001b[0m\u001b[0mdpi\u001b[0m\u001b[0;34m)\u001b[0m\u001b[0;34m\u001b[0m\u001b[0;34m\u001b[0m\u001b[0m\n\u001b[0;32m--> 931\u001b[0;31m         \u001b[0mCollection\u001b[0m\u001b[0;34m.\u001b[0m\u001b[0mdraw\u001b[0m\u001b[0;34m(\u001b[0m\u001b[0mself\u001b[0m\u001b[0;34m,\u001b[0m \u001b[0mrenderer\u001b[0m\u001b[0;34m)\u001b[0m\u001b[0;34m\u001b[0m\u001b[0;34m\u001b[0m\u001b[0m\n\u001b[0m\u001b[1;32m    932\u001b[0m \u001b[0;34m\u001b[0m\u001b[0m\n\u001b[1;32m    933\u001b[0m \u001b[0;34m\u001b[0m\u001b[0m\n",
      "\u001b[0;32m/usr/local/var/pyenv/versions/anaconda3-5.3.1/lib/python3.7/site-packages/matplotlib/artist.py\u001b[0m in \u001b[0;36mdraw_wrapper\u001b[0;34m(artist, renderer, *args, **kwargs)\u001b[0m\n\u001b[1;32m     39\u001b[0m                 \u001b[0mrenderer\u001b[0m\u001b[0;34m.\u001b[0m\u001b[0mstart_filter\u001b[0m\u001b[0;34m(\u001b[0m\u001b[0;34m)\u001b[0m\u001b[0;34m\u001b[0m\u001b[0;34m\u001b[0m\u001b[0m\n\u001b[1;32m     40\u001b[0m \u001b[0;34m\u001b[0m\u001b[0m\n\u001b[0;32m---> 41\u001b[0;31m             \u001b[0;32mreturn\u001b[0m \u001b[0mdraw\u001b[0m\u001b[0;34m(\u001b[0m\u001b[0martist\u001b[0m\u001b[0;34m,\u001b[0m \u001b[0mrenderer\u001b[0m\u001b[0;34m,\u001b[0m \u001b[0;34m*\u001b[0m\u001b[0margs\u001b[0m\u001b[0;34m,\u001b[0m \u001b[0;34m**\u001b[0m\u001b[0mkwargs\u001b[0m\u001b[0;34m)\u001b[0m\u001b[0;34m\u001b[0m\u001b[0;34m\u001b[0m\u001b[0m\n\u001b[0m\u001b[1;32m     42\u001b[0m         \u001b[0;32mfinally\u001b[0m\u001b[0;34m:\u001b[0m\u001b[0;34m\u001b[0m\u001b[0;34m\u001b[0m\u001b[0m\n\u001b[1;32m     43\u001b[0m             \u001b[0;32mif\u001b[0m \u001b[0martist\u001b[0m\u001b[0;34m.\u001b[0m\u001b[0mget_agg_filter\u001b[0m\u001b[0;34m(\u001b[0m\u001b[0;34m)\u001b[0m \u001b[0;32mis\u001b[0m \u001b[0;32mnot\u001b[0m \u001b[0;32mNone\u001b[0m\u001b[0;34m:\u001b[0m\u001b[0;34m\u001b[0m\u001b[0;34m\u001b[0m\u001b[0m\n",
      "\u001b[0;32m/usr/local/var/pyenv/versions/anaconda3-5.3.1/lib/python3.7/site-packages/matplotlib/collections.py\u001b[0m in \u001b[0;36mdraw\u001b[0;34m(self, renderer)\u001b[0m\n\u001b[1;32m    383\u001b[0m             \u001b[0;32melse\u001b[0m\u001b[0;34m:\u001b[0m\u001b[0;34m\u001b[0m\u001b[0;34m\u001b[0m\u001b[0m\n\u001b[1;32m    384\u001b[0m                 \u001b[0mcombined_transform\u001b[0m \u001b[0;34m=\u001b[0m \u001b[0mtransform\u001b[0m\u001b[0;34m\u001b[0m\u001b[0;34m\u001b[0m\u001b[0m\n\u001b[0;32m--> 385\u001b[0;31m             \u001b[0mextents\u001b[0m \u001b[0;34m=\u001b[0m \u001b[0mpaths\u001b[0m\u001b[0;34m[\u001b[0m\u001b[0;36m0\u001b[0m\u001b[0;34m]\u001b[0m\u001b[0;34m.\u001b[0m\u001b[0mget_extents\u001b[0m\u001b[0;34m(\u001b[0m\u001b[0mcombined_transform\u001b[0m\u001b[0;34m)\u001b[0m\u001b[0;34m\u001b[0m\u001b[0;34m\u001b[0m\u001b[0m\n\u001b[0m\u001b[1;32m    386\u001b[0m             if (extents.width < self.figure.bbox.width\n\u001b[1;32m    387\u001b[0m                     and extents.height < self.figure.bbox.height):\n",
      "\u001b[0;32m/usr/local/var/pyenv/versions/anaconda3-5.3.1/lib/python3.7/site-packages/matplotlib/path.py\u001b[0m in \u001b[0;36mget_extents\u001b[0;34m(self, transform, **kwargs)\u001b[0m\n\u001b[1;32m    601\u001b[0m                 \u001b[0mxys\u001b[0m\u001b[0;34m.\u001b[0m\u001b[0mappend\u001b[0m\u001b[0;34m(\u001b[0m\u001b[0mcurve\u001b[0m\u001b[0;34m(\u001b[0m\u001b[0;34m[\u001b[0m\u001b[0;36m0\u001b[0m\u001b[0;34m,\u001b[0m \u001b[0;34m*\u001b[0m\u001b[0mdzeros\u001b[0m\u001b[0;34m,\u001b[0m \u001b[0;36m1\u001b[0m\u001b[0;34m]\u001b[0m\u001b[0;34m)\u001b[0m\u001b[0;34m)\u001b[0m\u001b[0;34m\u001b[0m\u001b[0;34m\u001b[0m\u001b[0m\n\u001b[1;32m    602\u001b[0m             \u001b[0mxys\u001b[0m \u001b[0;34m=\u001b[0m \u001b[0mnp\u001b[0m\u001b[0;34m.\u001b[0m\u001b[0mconcatenate\u001b[0m\u001b[0;34m(\u001b[0m\u001b[0mxys\u001b[0m\u001b[0;34m)\u001b[0m\u001b[0;34m\u001b[0m\u001b[0;34m\u001b[0m\u001b[0m\n\u001b[0;32m--> 603\u001b[0;31m         \u001b[0;32mreturn\u001b[0m \u001b[0mBbox\u001b[0m\u001b[0;34m(\u001b[0m\u001b[0;34m[\u001b[0m\u001b[0mxys\u001b[0m\u001b[0;34m.\u001b[0m\u001b[0mmin\u001b[0m\u001b[0;34m(\u001b[0m\u001b[0maxis\u001b[0m\u001b[0;34m=\u001b[0m\u001b[0;36m0\u001b[0m\u001b[0;34m)\u001b[0m\u001b[0;34m,\u001b[0m \u001b[0mxys\u001b[0m\u001b[0;34m.\u001b[0m\u001b[0mmax\u001b[0m\u001b[0;34m(\u001b[0m\u001b[0maxis\u001b[0m\u001b[0;34m=\u001b[0m\u001b[0;36m0\u001b[0m\u001b[0;34m)\u001b[0m\u001b[0;34m]\u001b[0m\u001b[0;34m)\u001b[0m\u001b[0;34m\u001b[0m\u001b[0;34m\u001b[0m\u001b[0m\n\u001b[0m\u001b[1;32m    604\u001b[0m \u001b[0;34m\u001b[0m\u001b[0m\n\u001b[1;32m    605\u001b[0m     \u001b[0;32mdef\u001b[0m \u001b[0mintersects_path\u001b[0m\u001b[0;34m(\u001b[0m\u001b[0mself\u001b[0m\u001b[0;34m,\u001b[0m \u001b[0mother\u001b[0m\u001b[0;34m,\u001b[0m \u001b[0mfilled\u001b[0m\u001b[0;34m=\u001b[0m\u001b[0;32mTrue\u001b[0m\u001b[0;34m)\u001b[0m\u001b[0;34m:\u001b[0m\u001b[0;34m\u001b[0m\u001b[0;34m\u001b[0m\u001b[0m\n",
      "\u001b[0;32m/usr/local/var/pyenv/versions/anaconda3-5.3.1/lib/python3.7/site-packages/numpy/core/_methods.py\u001b[0m in \u001b[0;36m_amin\u001b[0;34m(a, axis, out, keepdims, initial, where)\u001b[0m\n\u001b[1;32m     41\u001b[0m def _amin(a, axis=None, out=None, keepdims=False,\n\u001b[1;32m     42\u001b[0m           initial=_NoValue, where=True):\n\u001b[0;32m---> 43\u001b[0;31m     \u001b[0;32mreturn\u001b[0m \u001b[0mumr_minimum\u001b[0m\u001b[0;34m(\u001b[0m\u001b[0ma\u001b[0m\u001b[0;34m,\u001b[0m \u001b[0maxis\u001b[0m\u001b[0;34m,\u001b[0m \u001b[0;32mNone\u001b[0m\u001b[0;34m,\u001b[0m \u001b[0mout\u001b[0m\u001b[0;34m,\u001b[0m \u001b[0mkeepdims\u001b[0m\u001b[0;34m,\u001b[0m \u001b[0minitial\u001b[0m\u001b[0;34m,\u001b[0m \u001b[0mwhere\u001b[0m\u001b[0;34m)\u001b[0m\u001b[0;34m\u001b[0m\u001b[0;34m\u001b[0m\u001b[0m\n\u001b[0m\u001b[1;32m     44\u001b[0m \u001b[0;34m\u001b[0m\u001b[0m\n\u001b[1;32m     45\u001b[0m def _sum(a, axis=None, dtype=None, out=None, keepdims=False,\n",
      "\u001b[0;31mValueError\u001b[0m: zero-size array to reduction operation minimum which has no identity"
     ]
    },
    {
     "data": {
      "text/plain": [
       "<Figure size 864x288 with 2 Axes>"
      ]
     },
     "metadata": {
      "needs_background": "light"
     },
     "output_type": "display_data"
    }
   ],
   "source": [
    "# Region毎のサンプル分布\n",
    "\n",
    "import seaborn as sns\n",
    "\n",
    "fig, axs = plt.subplots(1, 2, figsize=(12, 4))\n",
    "\n",
    "sns.scatterplot(data=df, x='x1', y='x2', hue='Region', palette='Set2', alpha=0.5, ax=axs[0])\n",
    "sns.kdeplot(df.loc[df.Region==1, 'x1'], df.loc[df.Region==1, 'x2'], label='1', ax=axs[1])\n",
    "sns.kdeplot(df.loc[df.Region==2, 'x1'], df.loc[df.Region==2, 'x2'], label='2', ax=axs[1])\n",
    "sns.kdeplot(df.loc[df.Region==3, 'x1'], df.loc[df.Region==3, 'x2'], label='3', ax=axs[1])\n",
    "\n",
    "axs[1].set_xlim(-20000, 40000)\n",
    "axs[1].set_ylim(-20000, 40000)\n",
    "axs[1].legend()\n",
    "\n",
    "plt.tight_layout(w_pad=2.5)\n",
    "plt.show()"
   ]
  },
  {
   "cell_type": "code",
   "execution_count": null,
   "metadata": {},
   "outputs": [],
   "source": []
  },
  {
   "cell_type": "markdown",
   "metadata": {},
   "source": [
    "## 【問題12】卸売業者にとって有益な情報\n",
    "卸売業者にとって有益な情報を探し出し文章にまとめてください。\n",
    "\n",
    "\n",
    "《ヒント》\n",
    "\n",
    "\n",
    "前処理を行う前のデータを使い、各クラスタの要約統計量を見るなどしてみましょう。また、PCAで次元削減したデータに対してK-meansを使用しましたが、6個の特徴量をそのまま使ったり、一部の特徴量のみを使ったりということも試してみてください。既知のグループとの比較結果も参考にしてください。\n",
    "\n",
    "\n",
    "条件ごとにデータを見る際にはPandasのgroupbyが便利です。\n",
    "\n",
    "\n",
    "pandas.DataFrame.groupby — pandas 0.23.4 documentation"
   ]
  },
  {
   "cell_type": "code",
   "execution_count": null,
   "metadata": {},
   "outputs": [],
   "source": []
  }
 ],
 "metadata": {
  "kernelspec": {
   "display_name": "Python 3",
   "language": "python",
   "name": "python3"
  },
  "language_info": {
   "codemirror_mode": {
    "name": "ipython",
    "version": 3
   },
   "file_extension": ".py",
   "mimetype": "text/x-python",
   "name": "python",
   "nbconvert_exporter": "python",
   "pygments_lexer": "ipython3",
   "version": "3.7.2"
  }
 },
 "nbformat": 4,
 "nbformat_minor": 4
}
