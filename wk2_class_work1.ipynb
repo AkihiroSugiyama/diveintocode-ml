{
  "nbformat": 4,
  "nbformat_minor": 0,
  "metadata": {
    "colab": {
      "name": "wk2_class_work1.ipynb",
      "provenance": [],
      "collapsed_sections": []
    },
    "kernelspec": {
      "name": "python3",
      "display_name": "Python 3"
    }
  },
  "cells": [
    {
      "cell_type": "code",
      "metadata": {
        "id": "dFffDCLH0vg-",
        "colab_type": "code",
        "colab": {}
      },
      "source": [
        "import numpy as np\n",
        "import matplotlib.pyplot as plt"
      ],
      "execution_count": 183,
      "outputs": []
    },
    {
      "cell_type": "markdown",
      "metadata": {
        "id": "AQ9SMLApzHkT",
        "colab_type": "text"
      },
      "source": [
        "##【問題1】1次関数\n",
        "x\n",
        " が-50から50の範囲で次の式を考えます。\n",
        "\n",
        "\n",
        "$$\n",
        "y = 12x +1\n",
        "$$\n",
        "-50から50まで0.1間隔のxを表すndarrayと、各要素に対するyを表すndarrayを作成してください。"
      ]
    },
    {
      "cell_type": "code",
      "metadata": {
        "id": "AUOrGTy_JNV6",
        "colab_type": "code",
        "colab": {
          "base_uri": "https://localhost:8080/",
          "height": 51
        },
        "outputId": "c2d22701-1899-4d53-a9ad-53d654c14d22"
      },
      "source": [
        "x_ndarray = np.arange(-50, 50.1, 0.1)\n",
        "def function1():\n",
        "  return 1/2 * x_ndarray[:] + 1\n",
        "\n",
        "y_ndarray = function1()\n",
        "print(y_ndarray)\n",
        "print(y_ndarray.shape)"
      ],
      "execution_count": 184,
      "outputs": [
        {
          "output_type": "stream",
          "text": [
            "[-24.   -23.95 -23.9  ...  25.9   25.95  26.  ]\n",
            "(1001,)\n"
          ],
          "name": "stdout"
        }
      ]
    },
    {
      "cell_type": "markdown",
      "metadata": {
        "id": "6NM_g3Ez1Qfk",
        "colab_type": "text"
      },
      "source": [
        "##【問題2】配列の結合\n",
        "問題1で作成したndarrayを結合し、(1001, 2)の形の配列にしてください。0列目にx、1列目にyが来るようにします。"
      ]
    },
    {
      "cell_type": "code",
      "metadata": {
        "id": "nhs8YOXU0g9q",
        "colab_type": "code",
        "colab": {
          "base_uri": "https://localhost:8080/",
          "height": 34
        },
        "outputId": "8b8447c4-cab5-4cc9-9607-e43409bd1614"
      },
      "source": [
        "x = np.reshape(x_ndarray,([1001,1]))\n",
        "y = np.reshape(y_ndarray,([1001,1]))\n",
        "xy = np.concatenate([x,y],axis=1)\n",
        "\n",
        "print(xy.shape)"
      ],
      "execution_count": 185,
      "outputs": [
        {
          "output_type": "stream",
          "text": [
            "(1001, 2)\n"
          ],
          "name": "stdout"
        }
      ]
    },
    {
      "cell_type": "markdown",
      "metadata": {
        "id": "ySaD2V-b1Z2s",
        "colab_type": "text"
      },
      "source": [
        "##【問題3】勾配を求める\n",
        "各x座標における勾配を求めます。ここで勾配はyの変化量をxの変化量で割ることで計算します。"
      ]
    },
    {
      "cell_type": "code",
      "metadata": {
        "id": "kHTThH4w1aqC",
        "colab_type": "code",
        "colab": {
          "base_uri": "https://localhost:8080/",
          "height": 986
        },
        "outputId": "93c5e29f-d614-4d2e-9aec-557b8e390ffe"
      },
      "source": [
        "grad = np.array([])\n",
        "grad = np.append(grad, ((y[1:] - y[:-1]) / (x[1:] - x[:-1])))\n",
        "print(len(grad))\n",
        "print(grad)"
      ],
      "execution_count": 186,
      "outputs": [
        {
          "output_type": "stream",
          "text": [
            "1000\n",
            "[0.5 0.5 0.5 0.5 0.5 0.5 0.5 0.5 0.5 0.5 0.5 0.5 0.5 0.5 0.5 0.5 0.5 0.5\n",
            " 0.5 0.5 0.5 0.5 0.5 0.5 0.5 0.5 0.5 0.5 0.5 0.5 0.5 0.5 0.5 0.5 0.5 0.5\n",
            " 0.5 0.5 0.5 0.5 0.5 0.5 0.5 0.5 0.5 0.5 0.5 0.5 0.5 0.5 0.5 0.5 0.5 0.5\n",
            " 0.5 0.5 0.5 0.5 0.5 0.5 0.5 0.5 0.5 0.5 0.5 0.5 0.5 0.5 0.5 0.5 0.5 0.5\n",
            " 0.5 0.5 0.5 0.5 0.5 0.5 0.5 0.5 0.5 0.5 0.5 0.5 0.5 0.5 0.5 0.5 0.5 0.5\n",
            " 0.5 0.5 0.5 0.5 0.5 0.5 0.5 0.5 0.5 0.5 0.5 0.5 0.5 0.5 0.5 0.5 0.5 0.5\n",
            " 0.5 0.5 0.5 0.5 0.5 0.5 0.5 0.5 0.5 0.5 0.5 0.5 0.5 0.5 0.5 0.5 0.5 0.5\n",
            " 0.5 0.5 0.5 0.5 0.5 0.5 0.5 0.5 0.5 0.5 0.5 0.5 0.5 0.5 0.5 0.5 0.5 0.5\n",
            " 0.5 0.5 0.5 0.5 0.5 0.5 0.5 0.5 0.5 0.5 0.5 0.5 0.5 0.5 0.5 0.5 0.5 0.5\n",
            " 0.5 0.5 0.5 0.5 0.5 0.5 0.5 0.5 0.5 0.5 0.5 0.5 0.5 0.5 0.5 0.5 0.5 0.5\n",
            " 0.5 0.5 0.5 0.5 0.5 0.5 0.5 0.5 0.5 0.5 0.5 0.5 0.5 0.5 0.5 0.5 0.5 0.5\n",
            " 0.5 0.5 0.5 0.5 0.5 0.5 0.5 0.5 0.5 0.5 0.5 0.5 0.5 0.5 0.5 0.5 0.5 0.5\n",
            " 0.5 0.5 0.5 0.5 0.5 0.5 0.5 0.5 0.5 0.5 0.5 0.5 0.5 0.5 0.5 0.5 0.5 0.5\n",
            " 0.5 0.5 0.5 0.5 0.5 0.5 0.5 0.5 0.5 0.5 0.5 0.5 0.5 0.5 0.5 0.5 0.5 0.5\n",
            " 0.5 0.5 0.5 0.5 0.5 0.5 0.5 0.5 0.5 0.5 0.5 0.5 0.5 0.5 0.5 0.5 0.5 0.5\n",
            " 0.5 0.5 0.5 0.5 0.5 0.5 0.5 0.5 0.5 0.5 0.5 0.5 0.5 0.5 0.5 0.5 0.5 0.5\n",
            " 0.5 0.5 0.5 0.5 0.5 0.5 0.5 0.5 0.5 0.5 0.5 0.5 0.5 0.5 0.5 0.5 0.5 0.5\n",
            " 0.5 0.5 0.5 0.5 0.5 0.5 0.5 0.5 0.5 0.5 0.5 0.5 0.5 0.5 0.5 0.5 0.5 0.5\n",
            " 0.5 0.5 0.5 0.5 0.5 0.5 0.5 0.5 0.5 0.5 0.5 0.5 0.5 0.5 0.5 0.5 0.5 0.5\n",
            " 0.5 0.5 0.5 0.5 0.5 0.5 0.5 0.5 0.5 0.5 0.5 0.5 0.5 0.5 0.5 0.5 0.5 0.5\n",
            " 0.5 0.5 0.5 0.5 0.5 0.5 0.5 0.5 0.5 0.5 0.5 0.5 0.5 0.5 0.5 0.5 0.5 0.5\n",
            " 0.5 0.5 0.5 0.5 0.5 0.5 0.5 0.5 0.5 0.5 0.5 0.5 0.5 0.5 0.5 0.5 0.5 0.5\n",
            " 0.5 0.5 0.5 0.5 0.5 0.5 0.5 0.5 0.5 0.5 0.5 0.5 0.5 0.5 0.5 0.5 0.5 0.5\n",
            " 0.5 0.5 0.5 0.5 0.5 0.5 0.5 0.5 0.5 0.5 0.5 0.5 0.5 0.5 0.5 0.5 0.5 0.5\n",
            " 0.5 0.5 0.5 0.5 0.5 0.5 0.5 0.5 0.5 0.5 0.5 0.5 0.5 0.5 0.5 0.5 0.5 0.5\n",
            " 0.5 0.5 0.5 0.5 0.5 0.5 0.5 0.5 0.5 0.5 0.5 0.5 0.5 0.5 0.5 0.5 0.5 0.5\n",
            " 0.5 0.5 0.5 0.5 0.5 0.5 0.5 0.5 0.5 0.5 0.5 0.5 0.5 0.5 0.5 0.5 0.5 0.5\n",
            " 0.5 0.5 0.5 0.5 0.5 0.5 0.5 0.5 0.5 0.5 0.5 0.5 0.5 0.5 0.5 0.5 0.5 0.5\n",
            " 0.5 0.5 0.5 0.5 0.5 0.5 0.5 0.5 0.5 0.5 0.5 0.5 0.5 0.5 0.5 0.5 0.5 0.5\n",
            " 0.5 0.5 0.5 0.5 0.5 0.5 0.5 0.5 0.5 0.5 0.5 0.5 0.5 0.5 0.5 0.5 0.5 0.5\n",
            " 0.5 0.5 0.5 0.5 0.5 0.5 0.5 0.5 0.5 0.5 0.5 0.5 0.5 0.5 0.5 0.5 0.5 0.5\n",
            " 0.5 0.5 0.5 0.5 0.5 0.5 0.5 0.5 0.5 0.5 0.5 0.5 0.5 0.5 0.5 0.5 0.5 0.5\n",
            " 0.5 0.5 0.5 0.5 0.5 0.5 0.5 0.5 0.5 0.5 0.5 0.5 0.5 0.5 0.5 0.5 0.5 0.5\n",
            " 0.5 0.5 0.5 0.5 0.5 0.5 0.5 0.5 0.5 0.5 0.5 0.5 0.5 0.5 0.5 0.5 0.5 0.5\n",
            " 0.5 0.5 0.5 0.5 0.5 0.5 0.5 0.5 0.5 0.5 0.5 0.5 0.5 0.5 0.5 0.5 0.5 0.5\n",
            " 0.5 0.5 0.5 0.5 0.5 0.5 0.5 0.5 0.5 0.5 0.5 0.5 0.5 0.5 0.5 0.5 0.5 0.5\n",
            " 0.5 0.5 0.5 0.5 0.5 0.5 0.5 0.5 0.5 0.5 0.5 0.5 0.5 0.5 0.5 0.5 0.5 0.5\n",
            " 0.5 0.5 0.5 0.5 0.5 0.5 0.5 0.5 0.5 0.5 0.5 0.5 0.5 0.5 0.5 0.5 0.5 0.5\n",
            " 0.5 0.5 0.5 0.5 0.5 0.5 0.5 0.5 0.5 0.5 0.5 0.5 0.5 0.5 0.5 0.5 0.5 0.5\n",
            " 0.5 0.5 0.5 0.5 0.5 0.5 0.5 0.5 0.5 0.5 0.5 0.5 0.5 0.5 0.5 0.5 0.5 0.5\n",
            " 0.5 0.5 0.5 0.5 0.5 0.5 0.5 0.5 0.5 0.5 0.5 0.5 0.5 0.5 0.5 0.5 0.5 0.5\n",
            " 0.5 0.5 0.5 0.5 0.5 0.5 0.5 0.5 0.5 0.5 0.5 0.5 0.5 0.5 0.5 0.5 0.5 0.5\n",
            " 0.5 0.5 0.5 0.5 0.5 0.5 0.5 0.5 0.5 0.5 0.5 0.5 0.5 0.5 0.5 0.5 0.5 0.5\n",
            " 0.5 0.5 0.5 0.5 0.5 0.5 0.5 0.5 0.5 0.5 0.5 0.5 0.5 0.5 0.5 0.5 0.5 0.5\n",
            " 0.5 0.5 0.5 0.5 0.5 0.5 0.5 0.5 0.5 0.5 0.5 0.5 0.5 0.5 0.5 0.5 0.5 0.5\n",
            " 0.5 0.5 0.5 0.5 0.5 0.5 0.5 0.5 0.5 0.5 0.5 0.5 0.5 0.5 0.5 0.5 0.5 0.5\n",
            " 0.5 0.5 0.5 0.5 0.5 0.5 0.5 0.5 0.5 0.5 0.5 0.5 0.5 0.5 0.5 0.5 0.5 0.5\n",
            " 0.5 0.5 0.5 0.5 0.5 0.5 0.5 0.5 0.5 0.5 0.5 0.5 0.5 0.5 0.5 0.5 0.5 0.5\n",
            " 0.5 0.5 0.5 0.5 0.5 0.5 0.5 0.5 0.5 0.5 0.5 0.5 0.5 0.5 0.5 0.5 0.5 0.5\n",
            " 0.5 0.5 0.5 0.5 0.5 0.5 0.5 0.5 0.5 0.5 0.5 0.5 0.5 0.5 0.5 0.5 0.5 0.5\n",
            " 0.5 0.5 0.5 0.5 0.5 0.5 0.5 0.5 0.5 0.5 0.5 0.5 0.5 0.5 0.5 0.5 0.5 0.5\n",
            " 0.5 0.5 0.5 0.5 0.5 0.5 0.5 0.5 0.5 0.5 0.5 0.5 0.5 0.5 0.5 0.5 0.5 0.5\n",
            " 0.5 0.5 0.5 0.5 0.5 0.5 0.5 0.5 0.5 0.5 0.5 0.5 0.5 0.5 0.5 0.5 0.5 0.5\n",
            " 0.5 0.5 0.5 0.5 0.5 0.5 0.5 0.5 0.5 0.5 0.5 0.5 0.5 0.5 0.5 0.5 0.5 0.5\n",
            " 0.5 0.5 0.5 0.5 0.5 0.5 0.5 0.5 0.5 0.5 0.5 0.5 0.5 0.5 0.5 0.5 0.5 0.5\n",
            " 0.5 0.5 0.5 0.5 0.5 0.5 0.5 0.5 0.5 0.5]\n"
          ],
          "name": "stdout"
        }
      ]
    },
    {
      "cell_type": "markdown",
      "metadata": {
        "id": "kvVGwk4o9oYv",
        "colab_type": "text"
      },
      "source": [
        "##【問題4】グラフを描く\n",
        "1次関数のグラフをMatplotlibを用いて描いてください。また、それとは別に横軸をx、縦軸を勾配としたグラフも描いてください。"
      ]
    },
    {
      "cell_type": "code",
      "metadata": {
        "id": "VQfaSpyD7m2k",
        "colab_type": "code",
        "colab": {
          "base_uri": "https://localhost:8080/",
          "height": 530
        },
        "outputId": "98cb9dc9-5be4-4c45-f3d7-a0e9e85b35be"
      },
      "source": [
        "fig1 = plt.figure(facecolor=\"lightgreen\")\n",
        "plt.plot(x_ndarray,y_ndarray)\n",
        "plt.figure()\n",
        "\n",
        "fig2 = plt.figure(facecolor='lightgreen')\n",
        "plt.plot(x_ndarray[1:],grad)\n",
        "plt.show()"
      ],
      "execution_count": 187,
      "outputs": [
        {
          "output_type": "display_data",
          "data": {
            "image/png": "[encoded data removed]",
            "text/plain": [
              "<Figure size 432x288 with 1 Axes>"
            ]
          },
          "metadata": {
            "tags": []
          }
        },
        {
          "output_type": "display_data",
          "data": {
            "text/plain": [
              "<Figure size 432x288 with 0 Axes>"
            ]
          },
          "metadata": {
            "tags": []
          }
        },
        {
          "output_type": "display_data",
          "data": {
            "image/png": "[encoded data removed]",
            "text/plain": [
              "<Figure size 432x288 with 1 Axes>"
            ]
          },
          "metadata": {
            "tags": []
          }
        }
      ]
    },
    {
      "cell_type": "markdown",
      "metadata": {
        "id": "fNMJ84Nw-_VQ",
        "colab_type": "text"
      },
      "source": [
        "##【問題5】Pythonの関数化\n",
        "問題1から問題3までの範囲をまとめて行うPythonの関数を雛形を参考に作成してください。\n",
        "\n",
        "\n",
        "そして、以下の3式の勾配を0.1間隔で求めてndarrayで出力してください。\n",
        "\n",
        "$y = x^{2} \\quad (-50\\leq x \\leq 50)\\\\\n",
        "y = 2x^{2}+2^{x} \\quad (-50\\leq x \\leq 50)\\\\\n",
        "y = sin(x^{\\frac{1}{2}}) \\quad (0\\leq x \\leq 50)$\n",
        "\n",
        "また、問題4と同様にグラフを描いてください。\n",
        "\n",
        "\n",
        "ndarrayに対して三角関数のsinの計算を行うには np.sin()を用います。"
      ]
    },
    {
      "cell_type": "code",
      "metadata": {
        "id": "x_TQfHZj0-AN",
        "colab_type": "code",
        "colab": {}
      },
      "source": [
        "def function2(x_ndarray, x_range=(-50, 50.1, 0.1)):\n",
        "  return x_ndarray ** 2\n",
        "\n",
        "def function3(x_ndarray, x_range=(-50, 50.1, 0.1)):\n",
        "  return 2 * x_ndarray[:]**2 + 2**x_ndarray[:]\n",
        "\n",
        "def function4(x_ndarray, x_range=(0, 50.1, 0.1)):\n",
        "  return np.sin(x_ndarray[:]**(1/2))"
      ],
      "execution_count": 188,
      "outputs": []
    },
    {
      "cell_type": "code",
      "metadata": {
        "id": "9yvHnvD8_QyT",
        "colab_type": "code",
        "colab": {}
      },
      "source": [
        "def compute_gradient(function, x_range=(-50, 50.1, 0.1)):\n",
        "  \"\"\"\n",
        "  変化量を使い勾配を計算する。\n",
        "\n",
        "  Parameters\n",
        "  ----------------\n",
        "  function : function\n",
        "    求めたい関数、xのndarrayを入れるとyのndarrayを返すもの。\n",
        "  x_range : tuple\n",
        "    np.arange()の引数と同じ方法で範囲を指定する。\n",
        "\n",
        "  Returns\n",
        "  ----------------\n",
        "  array_xy : ndarray, shape(n, 2)\n",
        "    xとyを結合したもの。nはx_rangeに依存する。\n",
        "  gradient : ndarray, shape(n-1,)\n",
        "    関数の勾配。差をとるため要素は1つ減る\n",
        "  \"\"\"\n",
        "  \n",
        "  x_ndarray = np.arange(x_range[0], x_range[1], x_range[2])\n",
        "  y_ndarray = function(x_ndarray)\n",
        "\n",
        "  x_trans = np.reshape(x_ndarray,([x_ndarray.shape[0], 1]))\n",
        "  y_trans = np.reshape(y_ndarray,([y_ndarray.shape[0], 1]))\n",
        "  array_xy = np.concatenate([x_trans, y_trans], axis=1)\n",
        "\n",
        "  gradient = np.array([])\n",
        "  gradient = np.append(gradient, ((y_trans[1:] - y_trans[:-1]) / (x_trans[1:] - x_trans[:-1])))\n",
        "\n",
        "  fig1 = plt.figure(facecolor=\"lightgreen\")\n",
        "  plt.plot(x_ndarray,y_ndarray)\n",
        "  plt.figure()\n",
        "\n",
        "  fig2 = plt.figure(facecolor='lightblue')\n",
        "  plt.plot(x_ndarray[1:],gradient)\n",
        "  plt.show()\n",
        "\n",
        "  return array_xy, gradient"
      ],
      "execution_count": 189,
      "outputs": []
    },
    {
      "cell_type": "code",
      "metadata": {
        "id": "y7oiriqE_RVL",
        "colab_type": "code",
        "colab": {
          "base_uri": "https://localhost:8080/",
          "height": 530
        },
        "outputId": "60287db7-cfc8-4fe6-b1dd-18f18045557d"
      },
      "source": [
        "## function2\n",
        "array_xy2, gradient2 = compute_gradient(function2)"
      ],
      "execution_count": 190,
      "outputs": [
        {
          "output_type": "display_data",
          "data": {
            "image/png": "[encoded data removed]",
            "text/plain": [
              "<Figure size 432x288 with 1 Axes>"
            ]
          },
          "metadata": {
            "tags": []
          }
        },
        {
          "output_type": "display_data",
          "data": {
            "text/plain": [
              "<Figure size 432x288 with 0 Axes>"
            ]
          },
          "metadata": {
            "tags": []
          }
        },
        {
          "output_type": "display_data",
          "data": {
            "image/png": "[encoded data removed]",
            "text/plain": [
              "<Figure size 432x288 with 1 Axes>"
            ]
          },
          "metadata": {
            "tags": []
          }
        }
      ]
    },
    {
      "cell_type": "code",
      "metadata": {
        "id": "DveJtWE7mOFR",
        "colab_type": "code",
        "colab": {
          "base_uri": "https://localhost:8080/",
          "height": 552
        },
        "outputId": "0f8ca45f-bb89-401f-dc8d-d73bb41873fb"
      },
      "source": [
        "## function3\n",
        "array_xy3, gradient3 = compute_gradient(function3)"
      ],
      "execution_count": 191,
      "outputs": [
        {
          "output_type": "display_data",
          "data": {
            "image/png": "[encoded data removed]",
            "text/plain": [
              "<Figure size 432x288 with 1 Axes>"
            ]
          },
          "metadata": {
            "tags": []
          }
        },
        {
          "output_type": "display_data",
          "data": {
            "text/plain": [
              "<Figure size 432x288 with 0 Axes>"
            ]
          },
          "metadata": {
            "tags": []
          }
        },
        {
          "output_type": "display_data",
          "data": {
            "image/png": "[encoded data removed]",
            "text/plain": [
              "<Figure size 432x288 with 1 Axes>"
            ]
          },
          "metadata": {
            "tags": []
          }
        }
      ]
    },
    {
      "cell_type": "code",
      "metadata": {
        "id": "nZQgyKkZpRzh",
        "colab_type": "code",
        "colab": {
          "base_uri": "https://localhost:8080/",
          "height": 564
        },
        "outputId": "38535a78-036f-4e0a-e907-e5e492ef2e34"
      },
      "source": [
        "## function4\n",
        "array_xy4, gradient4 = compute_gradient(function4)"
      ],
      "execution_count": 192,
      "outputs": [
        {
          "output_type": "stream",
          "text": [
            "/usr/local/lib/python3.6/dist-packages/ipykernel_launcher.py:8: RuntimeWarning: invalid value encountered in sqrt\n",
            "  \n"
          ],
          "name": "stderr"
        },
        {
          "output_type": "display_data",
          "data": {
            "image/png": "[encoded data removed]",
            "text/plain": [
              "<Figure size 432x288 with 1 Axes>"
            ]
          },
          "metadata": {
            "tags": []
          }
        },
        {
          "output_type": "display_data",
          "data": {
            "text/plain": [
              "<Figure size 432x288 with 0 Axes>"
            ]
          },
          "metadata": {
            "tags": []
          }
        },
        {
          "output_type": "display_data",
          "data": {
            "image/png": "[encoded data removed]",
            "text/plain": [
              "<Figure size 432x288 with 1 Axes>"
            ]
          },
          "metadata": {
            "tags": []
          }
        }
      ]
    },
    {
      "cell_type": "markdown",
      "metadata": {
        "id": "O9JdRgMKxJqh",
        "colab_type": "text"
      },
      "source": [
        "## 【問題6】最小値を求める\n",
        "問題5で扱った関数のyの最小値を求めます。xの範囲も問題5と同様とします。\n",
        "\n",
        "\n",
        "今回は勾配降下法ではなく、ndarrayのminメソッド、argminメソッドを用いてください。minメソッドは最小値を、argminメソッドは最小値のインデックスを取得することができます。\n",
        "\n",
        "\n",
        "また、最小のyをとる前後の勾配を表示してください。"
      ]
    },
    {
      "cell_type": "code",
      "metadata": {
        "id": "cD0DyqZqpXP6",
        "colab_type": "code",
        "colab": {
          "base_uri": "https://localhost:8080/",
          "height": 255
        },
        "outputId": "66e88925-3692-4ba7-8409-934554209dcb"
      },
      "source": [
        "## function2\n",
        "print('==Function2==\\nminimum value: \\t{}\\nprevious gradient: {}\\nnext gradient: \\t{}\\n'\\\n",
        "      .format(np.min(array_xy2[:,1]), gradient2[np.argmin(np.min(array_xy2[:,1]))-1], \\\n",
        "              gradient2[np.argmin(np.min(array_xy2[:,1]))+1]))\n",
        "## function3\n",
        "print('==Function3==\\nminimum value: \\t{}\\nprevious gradient: {}\\nnext gradient: \\t{}\\n'\\\n",
        "      .format(np.min(array_xy3[:,1]), gradient3[np.argmin(np.min(array_xy3[:,1]))-1], \\\n",
        "              gradient3[np.argmin(np.min(array_xy3[:,1]))+1]))\n",
        "## function4\n",
        "gradient4nan = gradient4[~np.isnan(gradient4)]\n",
        "print('==Function4==\\nminimum value: \\t{}\\nprevious gradient: {}\\nnext gradient: \\t{}'\\\n",
        "      .format(np.nanmin(array_xy4[:,1]), gradient4nan[np.argmin(np.min(array_xy4[:,1]))-1],\\\n",
        "              gradient4nan[np.argmin(np.min(array_xy4[:,1]))+1]))"
      ],
      "execution_count": 216,
      "outputs": [
        {
          "output_type": "stream",
          "text": [
            "==Function2==\n",
            "minimum value: \t5.048709793414476e-25\n",
            "previous gradient: 99.9000000000035\n",
            "next gradient: \t-99.70000000000113\n",
            "\n",
            "==Function3==\n",
            "minimum value: \t0.9505505632959851\n",
            "previous gradient: 753981485903321.6\n",
            "next gradient: \t-199.40000000000225\n",
            "\n",
            "==Function4==\n",
            "minimum value: \t-0.9999997540298114\n",
            "previous gradient: 0.05007756731470754\n",
            "next gradient: \t1.214712460463318\n"
          ],
          "name": "stdout"
        }
      ]
    },
    {
      "cell_type": "code",
      "metadata": {
        "id": "LTLymFsb8A29",
        "colab_type": "code",
        "colab": {}
      },
      "source": [
        ""
      ],
      "execution_count": null,
      "outputs": []
    }
  ]
}