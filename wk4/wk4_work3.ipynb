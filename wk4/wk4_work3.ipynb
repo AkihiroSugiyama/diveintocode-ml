{
 "cells": [
  {
   "cell_type": "markdown",
   "metadata": {},
   "source": [
    "**Week4授業前課題3 オブジェクト指向の活用**"
   ]
  },
  {
   "cell_type": "markdown",
   "metadata": {},
   "source": [
    "# このテキストについて\n",
    "\n",
    "**テキストの目的**\n",
    "\n",
    "クラスを利用したコードを読み書きできるようにする\n",
    "<br>\n",
    "<br>\n",
    "\n",
    "**どのように学ぶか**\n",
    "\n",
    "これまで使用してきたクラスを元にしてオブジェクト指向を理解していきます。"
   ]
  },
  {
   "cell_type": "markdown",
   "metadata": {},
   "source": [
    "# オブジェクト指向\n",
    "\n",
    "これまでの課題では触れてきませんでしたが、StandardScalerやLinearRegressionのような クラス と呼ばれるものがPythonなどのプログラム言語では利用できます。\n",
    "\n",
    "\n",
    "クラスの構文は、オブジェクト指向と呼ばれる考え方を利用したプログラミングの基本的な道具になります。\n",
    "\n",
    "\n",
    "この課題ではこれまでに既に登場していたクラスを例に、クラスを活用することでどのようなことができるのかを見て学んでいきます。そして課題の後半ではStandardScalerのクラスをスクラッチで自作します"
   ]
  },
  {
   "cell_type": "markdown",
   "metadata": {},
   "source": [
    "# scikit-learnの標準化クラス\n",
    "\n",
    "scikit-learnに用意されている標準化を行うためのクラスStandardScalerを例に見ていきます。サンプルコードを用意しましたので、これを利用しながら理解していきます。\n",
    "\n",
    "\n",
    "[sklearn.preprocessing.StandardScaler — scikit-learn 0.21.3 documentation](http://scikit-learn.org/stable/modules/generated/sklearn.preprocessing.StandardScaler.html)\n",
    "\n"
   ]
  },
  {
   "cell_type": "code",
   "execution_count": 2,
   "metadata": {},
   "outputs": [
    {
     "name": "stdout",
     "output_type": "stream",
     "text": [
      "平均 : [4.86 3.31 1.45 0.22]\n",
      "分散 : [0.0764 0.0849 0.0105 0.0056]\n"
     ]
    }
   ],
   "source": [
    "import numpy as np\n",
    "from sklearn.preprocessing import StandardScaler\n",
    "from sklearn.datasets import load_iris\n",
    "data = load_iris()\n",
    "X = data.data[:10]\n",
    "scaler = StandardScaler()\n",
    "scaler.fit(X)\n",
    "print(\"平均 :\", scaler.mean_)\n",
    "print(\"分散 :\", scaler.var_)\n",
    "X_std = scaler.transform(X)"
   ]
  },
  {
   "cell_type": "markdown",
   "metadata": {},
   "source": [
    "**インスタンス化**\n",
    "\n",
    "クラスを使う際はまず以下のようなコードを書きますが、これを インスタンス化 と呼びます。\n",
    "\n",
    "``scaler = StandardScaler()``\n",
    "\n",
    "\n",
    "StandardScalerというクラスオブジェクトから、scalerと名前をつけたインスタンスオブジェクトが作られました。\n",
    "\n",
    "<br><br>\n",
    "《クラスの命名法》\n",
    "\n",
    "\n",
    "Pythonではクラス名は頭文字が大文字、他は小文字という命名法がPEP8により定められています。単語間にアンダースコアは入れません。これを CapWords 方式と呼びます。\n",
    "\n",
    "\n",
    "[はじめに — pep8-ja 1.0 ドキュメント クラスの名前](https://pep8-ja.readthedocs.io/ja/latest/#id31)\n",
    "\n",
    "\n",
    "こういった形式のものはクラスだと判断することができます。\n",
    "\n",
    "<br><br>\n",
    "《インスタンスは複数作れる》\n",
    "\n",
    "\n",
    "あるクラスオブジェクトからは複数のインスタンスオブジェクトを作成することが可能です。"
   ]
  },
  {
   "cell_type": "code",
   "execution_count": 3,
   "metadata": {},
   "outputs": [],
   "source": [
    "scaler0 = StandardScaler()\n",
    "scaler1 = StandardScaler()\n",
    "scaler2 = StandardScaler()"
   ]
  },
  {
   "cell_type": "markdown",
   "metadata": {},
   "source": [
    "## 【問題1】これまで利用してきたクラスの列挙\n",
    "クラスを使う際はインスタンス化を行うことと、クラスの命名法がわかりました。この情報を元に、これまでの課題で利用してきたコードの中でどのようなクラスがあったかを答えてください。\n",
    "\n",
    "\n",
    "Pandas、matplotlib、scikit-learnからそれぞれ1つ以上見つけてください。\n",
    "<br><br>\n",
    "**メソッド**\n",
    "\n",
    "インスタンス化を行った後には、``scaler.fit(X)``のような メソッド の実行ができます。``StandardScaler``の``fit``メソッドは後でスケーリングに使われる平均と標準偏差を計算する機能があります。\n",
    "\n",
    "<br><br>\n",
    "**インスタンス変数（アトリビュート）**\n",
    "\n",
    "``fit``メソッドにより平均と標準偏差が計算されましたが、見た目には変化があるわけではありません。しかし、scalerインスタンスの内部では計算結果が保存されています。こういったインスタンスの中で値を保存するものを インスタンス変数 や アトリビュート（属性） と呼びます。ここで平均が**scaler.mean_**、標準偏差の2乗した値である分散が**scaler.var_**に保存されています。\n",
    "\n",
    "\n",
    "以下のようにprint文で出力させることができます。"
   ]
  },
  {
   "cell_type": "code",
   "execution_count": 3,
   "metadata": {},
   "outputs": [
    {
     "name": "stdout",
     "output_type": "stream",
     "text": [
      "平均 : [4.86 3.31 1.45 0.22]\n",
      "分散 : [0.0764 0.0849 0.0105 0.0056]\n"
     ]
    }
   ],
   "source": [
    "print(\"平均 : {}\".format(scaler.mean_)) # 平均 : [4.86 3.31 1.45 0.22]\n",
    "print(\"分散 : {}\".format(scaler.var_)) # 分散 : [0.0764 0.0849 0.0105 0.0056]"
   ]
  },
  {
   "cell_type": "markdown",
   "metadata": {},
   "source": [
    "Pandas: pd.DataFrame, pd.Series\n",
    "\n",
    "matplotlib: matplotlib.figure.Fifure, matplotlib.axes.Axes\n",
    "\n",
    "sckit-learn: sklearn.linear_model.LogisticRegression, sklearn.preprocessing.StandardScaler"
   ]
  },
  {
   "cell_type": "markdown",
   "metadata": {},
   "source": [
    "《メソッドとインスタンス変数の命名法》\n",
    "\n",
    "\n",
    "メソッドやインスタンス変数の命名は関数と同様に、全て小文字で行います。単語をつなぐときにはアンダースコアを入れます。\n",
    "\n",
    "\n",
    "[はじめに — pep8-ja 1.0 ドキュメント メソッド名とインスタンス変数](https://pep8-ja.readthedocs.io/ja/latest/#id37)"
   ]
  },
  {
   "cell_type": "markdown",
   "metadata": {},
   "source": [
    "## 【問題2】これまで利用してきたメソッドやインスタンス変数の列挙\n",
    "これまでの課題で利用してきたコードの中でどのようなメソッドやインスタンス変数があったかを答えてください。\n",
    "\n",
    "\n",
    "最低でもそれぞれ5つ以上答えてください。\n",
    "\n",
    "\n",
    "<br><br>\n",
    "**《ndarrayやstrもインスタンス》**\n",
    "\n",
    "\n",
    "ドットをつけるというと、NumPyのndarrayに対して``ndarray.shape``や``ndarray.sum()``のような使い方は何度も利用してきたかと思います。これは、ndarrayもインスタンスオブジェクトであり、``shape``はインスタンス変数、``sum``はメソッドだったということです。\n",
    "\n",
    "\n",
    "Pythonのコードに登場するデータはどれもインスタンスオブジェクトであり、listやstrもメソッドを持ちます。\n",
    "\n",
    "\n",
    "（例）\n",
    "\n",
    "\n",
    "[5. データ構造 — Python 3.7.4 ドキュメント 5.1. リスト型についてもう少し](https://docs.python.jp/3/tutorial/datastructures.html#more-on-lists)"
   ]
  },
  {
   "cell_type": "code",
   "execution_count": 5,
   "metadata": {},
   "outputs": [],
   "source": [
    "l = ['a']\n",
    "l.append('b') # listのappendメソッド"
   ]
  },
  {
   "cell_type": "markdown",
   "metadata": {},
   "source": [
    "[4. 組み込み型 — Python 3.7.4 ドキュメント 文字列メソッド](https://docs.python.jp/3/library/stdtypes.html#string-methods)"
   ]
  },
  {
   "cell_type": "code",
   "execution_count": null,
   "metadata": {},
   "outputs": [],
   "source": [
    "s = 'Hello, World!'\n",
    "s.find('W') # strのfindメソッド"
   ]
  },
  {
   "cell_type": "markdown",
   "metadata": {},
   "source": [
    "**インスタンス変数をメソッドが利用**\n",
    "最終的に以下のようにして標準化を行います。\n",
    "\n",
    "\n",
    "``X_std = scaler.transform(X)``\n",
    "\n",
    "\n",
    "これは``fit``メソッドで計算したことでインスタンス変数``mean_``や``var_``に保存されていた値を使い、Xを変換したということです。\n",
    "\n",
    "\n",
    "このようにクラスには複数のメソッドやインスタンス変数が存在し、これらを組み合わせていろいろな機能を実現します。\n",
    "\n"
   ]
  },
  {
   "cell_type": "markdown",
   "metadata": {},
   "source": [
    "メソッド： class の中で関数として def 定義されている処理。  \n",
    "インスタンス変数：モデルをインスタンス化して、それぞれに別の値を保持することのできる変数。同じクラス内のメソッドからのみアクセス可能と指定出来る。"
   ]
  },
  {
   "cell_type": "code",
   "execution_count": 17,
   "metadata": {},
   "outputs": [
    {
     "name": "stdout",
     "output_type": "stream",
     "text": [
      "<class 'method'>\n",
      "<class 'method'>\n",
      "<class 'method'>\n",
      "<class 'method'>\n",
      "<class 'method'>\n",
      "<class 'method'>\n",
      "<class 'method'>\n",
      "<class 'pandas.core.indexes.range.RangeIndex'>\n",
      "<class 'pandas.core.indexing._LocIndexer'>\n",
      "<class 'pandas.core.indexing._iLocIndexer'>\n",
      "<class 'pandas.core.indexes.range.RangeIndex'>\n",
      "<class 'pandas.io.formats.style.Styler'>\n",
      "<class 'pandas.core.series.Series'>\n",
      "<class 'numpy.ndarray'>\n"
     ]
    }
   ],
   "source": [
    "import pandas as pd\n",
    "\n",
    "df = pd.DataFrame([0, 1, 2])\n",
    "print(type(df.head)) # メソッド\n",
    "print(type(df.describe)) # メソッド\n",
    "print(type(df.sum)) # メソッド\n",
    "print(type(df.info)) #メソッド\n",
    "print(type(df.tail)) # メソッド\n",
    "print(type(df.sort_values)) # メソッド\n",
    "print(type(df.drop)) # メソッド\n",
    "\n",
    "\n",
    "print(type(df.columns)) # pandas.core.indexes.range.RangeIndexクラスのインスタンスを返すインスタンス変数\n",
    "print(type(df.loc)) # pandas.core.indexing._LocIndexerクラスのインスタンスを返すインスタンス変数\n",
    "print(type(df.iloc)) # pandas.core.indexing._iLocIndexerクラスのインスタンスを返すインスタンス変数\n",
    "print(type(df.index)) # pandas.core.indexes.range.RangeIndexクラスのインスタンスを返すインスタンス変数\n",
    "print(type(df.style)) # pandas.io.formats.style.Styler'クラスのインスタンスを返す変数。HTML形式でDataFrameを表示する際に用いるStylerを表示します。\n",
    "print(type(df.dtypes)) # pandas.core.series.Series'クラスのインスタンスを返す変数\n",
    "print(type(df.values)) # numpy.ndarrayクラスのインスタンスを返す変数"
   ]
  },
  {
   "cell_type": "markdown",
   "metadata": {},
   "source": [
    "## 【問題3】標準化クラスをスクラッチで作成\n",
    "理解をより深めるため、``StandardScaler``をスクラッチで作成しましょう。scikit-learnは使わず、NumPyなどを活用して標準化の計算を記述します。具体的には``fit``メソッドと``transform``メソッドを作ります。\n",
    "\n",
    "\n",
    "今回は雛形を用意しました。クラスの作成方法は関数に近いです。メソッドはクラスの中にさらにインデントを一段下げて記述します。\n",
    "\n",
    "\n",
    "インスタンス変数を作成する際はself.mean_のようにselfを付けます。クラスの外からscaler.mean_と書いていたscalerの部分が自分自身を表すselfになっています。\n",
    "\n",
    "\n",
    "《雛形》"
   ]
  },
  {
   "cell_type": "code",
   "execution_count": 24,
   "metadata": {},
   "outputs": [],
   "source": [
    "class ScratchStandardScaler():\n",
    "    \"\"\"\n",
    "    標準化のためのクラス\n",
    "\n",
    "    Attributes\n",
    "    ----------\n",
    "    mean_ : 次の形のndarray, shape(n_features,)\n",
    "        平均\n",
    "    var_ : 次の形のndarray, shape(n_features,)\n",
    "        分散\n",
    "    \"\"\"\n",
    "    \n",
    "    def fit(self, X):\n",
    "        \"\"\"\n",
    "        標準化のために平均と標準偏差を計算する。\n",
    "        クラスScratchStandardScalerのメソッド\n",
    "        \n",
    "        Parameters\n",
    "        ----------\n",
    "        X : 次の形のndarray, shape (n_samples, n_features)\n",
    "            訓練データ\n",
    "        \"\"\"\n",
    "        # インスタンス変数\n",
    "        self.mean_ = X.mean(axis=0)\n",
    "        self.var_ = X.var(axis=0)\n",
    "        pass\n",
    "    \n",
    "    def transform(self, X):\n",
    "        \"\"\"\n",
    "        fitで求めた値を使い標準化を行う。\n",
    "        クラスScratchStandardScalerのメソッド\n",
    "        \n",
    "        Parameters\n",
    "        ----------\n",
    "        X : 次の形のndarray, shape (n_samples, n_features)\n",
    "            特徴量\n",
    "\n",
    "        Returns\n",
    "        ----------\n",
    "        X_scaled : 次の形のndarray, shape (n_samples, n_features)\n",
    "            標準化された特緒量\n",
    "        \"\"\"\n",
    "        X_scaled = (X-self.mean_) / np.sqrt(self.var_)\n",
    "        pass\n",
    "        return X_scaled"
   ]
  },
  {
   "cell_type": "code",
   "execution_count": 25,
   "metadata": {},
   "outputs": [
    {
     "name": "stdout",
     "output_type": "stream",
     "text": [
      "平均 : [4.86 3.31 1.45 0.22]\n",
      "分散 : [0.0764 0.0849 0.0105 0.0056]\n",
      "[[ 0.86828953  0.65207831 -0.48795004 -0.26726124]\n",
      " [ 0.14471492 -1.06391725 -0.48795004 -0.26726124]\n",
      " [-0.57885968 -0.37751902 -1.46385011 -0.26726124]\n",
      " [-0.94064699 -0.72071813  0.48795004 -0.26726124]\n",
      " [ 0.50650222  0.99527742 -0.48795004 -0.26726124]\n",
      " [ 1.95365143  2.02487476  2.43975018  2.40535118]\n",
      " [-0.94064699  0.3088792  -0.48795004  1.06904497]\n",
      " [ 0.50650222  0.3088792   0.48795004 -0.26726124]\n",
      " [-1.66422159 -1.40711636 -0.48795004 -0.26726124]\n",
      " [ 0.14471492 -0.72071813  0.48795004 -1.60356745]]\n"
     ]
    }
   ],
   "source": [
    "import numpy as np\n",
    "from sklearn.datasets import load_iris\n",
    "data = load_iris()\n",
    "X = data.data[:10]\n",
    "scratch_scaler = ScratchStandardScaler()\n",
    "scratch_scaler.fit(X)\n",
    "print(\"平均 : {}\".format(scratch_scaler.mean_))\n",
    "print(\"分散 : {}\".format(scratch_scaler.var_))\n",
    "X_std = scratch_scaler.transform(X)\n",
    "print(X_std)"
   ]
  },
  {
   "cell_type": "code",
   "execution_count": 26,
   "metadata": {},
   "outputs": [
    {
     "name": "stdout",
     "output_type": "stream",
     "text": [
      "平均 : [4.86 3.31 1.45 0.22]\n",
      "分散 : [0.0764 0.0849 0.0105 0.0056]\n",
      "[[ 0.86828953  0.65207831 -0.48795004 -0.26726124]\n",
      " [ 0.14471492 -1.06391725 -0.48795004 -0.26726124]\n",
      " [-0.57885968 -0.37751902 -1.46385011 -0.26726124]\n",
      " [-0.94064699 -0.72071813  0.48795004 -0.26726124]\n",
      " [ 0.50650222  0.99527742 -0.48795004 -0.26726124]\n",
      " [ 1.95365143  2.02487476  2.43975018  2.40535118]\n",
      " [-0.94064699  0.3088792  -0.48795004  1.06904497]\n",
      " [ 0.50650222  0.3088792   0.48795004 -0.26726124]\n",
      " [-1.66422159 -1.40711636 -0.48795004 -0.26726124]\n",
      " [ 0.14471492 -0.72071813  0.48795004 -1.60356745]]\n"
     ]
    }
   ],
   "source": [
    "# scikit-learnの標準化と同じになっているかを確認\n",
    "\n",
    "data = load_iris()\n",
    "X = data.data[:10]\n",
    "\n",
    "scaler = StandardScaler()\n",
    "scaler.fit(X)\n",
    "print(\"平均 :\", scaler.mean_)\n",
    "print(\"分散 :\", scaler.var_)\n",
    "X_std = scaler.transform(X)\n",
    "print(X_std)"
   ]
  },
  {
   "cell_type": "markdown",
   "metadata": {},
   "source": [
    "**ライブラリのソースコードを確認**\n",
    "\n",
    "scikit-learnの場合は公式ドキュメントの右上にソースコードへのリンクがあります。\n",
    "\n",
    "どのようなコードになっていたかを確認してみましょう。（問題3に取り組んだ後に見ることを推奨します）スクラッチで作成したものよりも全体的にコードが長いのではないかと思います。``inverse_transform``メソッドのように作成しなかったものもありますが、それだけではありません。例えば以下のように、warning文が記述されているなどします。"
   ]
  },
  {
   "cell_type": "code",
   "execution_count": 27,
   "metadata": {},
   "outputs": [
    {
     "ename": "NameError",
     "evalue": "name 'y' is not defined",
     "output_type": "error",
     "traceback": [
      "\u001b[0;31m---------------------------------------------------------------------------\u001b[0m",
      "\u001b[0;31mNameError\u001b[0m                                 Traceback (most recent call last)",
      "\u001b[0;32m<ipython-input-27-fac8d2ff7090>\u001b[0m in \u001b[0;36m<module>\u001b[0;34m\u001b[0m\n\u001b[0;32m----> 1\u001b[0;31m \u001b[0;32mif\u001b[0m \u001b[0;32mnot\u001b[0m \u001b[0misinstance\u001b[0m\u001b[0;34m(\u001b[0m\u001b[0my\u001b[0m\u001b[0;34m,\u001b[0m \u001b[0mstring_types\u001b[0m\u001b[0;34m)\u001b[0m \u001b[0;32mor\u001b[0m \u001b[0my\u001b[0m \u001b[0;34m!=\u001b[0m \u001b[0;34m'deprecated'\u001b[0m\u001b[0;34m:\u001b[0m\u001b[0;34m\u001b[0m\u001b[0;34m\u001b[0m\u001b[0m\n\u001b[0m\u001b[1;32m      2\u001b[0m     warnings.warn(\"The parameter y on transform() is \"\n\u001b[1;32m      3\u001b[0m                   \u001b[0;34m\"deprecated since 0.19 and will be removed in 0.21\"\u001b[0m\u001b[0;34m,\u001b[0m\u001b[0;34m\u001b[0m\u001b[0;34m\u001b[0m\u001b[0m\n\u001b[1;32m      4\u001b[0m                   DeprecationWarning)\n",
      "\u001b[0;31mNameError\u001b[0m: name 'y' is not defined"
     ]
    }
   ],
   "source": [
    "if not isinstance(y, string_types) or y != 'deprecated':\n",
    "    warnings.warn(\"The parameter y on transform() is \"\n",
    "                  \"deprecated since 0.19 and will be removed in 0.21\",\n",
    "                  DeprecationWarning)"
   ]
  },
  {
   "cell_type": "markdown",
   "metadata": {},
   "source": [
    "**特殊メソッド**\n",
    "\n",
    "ソースコードの中に含まれる、まだ説明していない重要な部分が以下です。\n",
    "\n",
    "\n",
    "このような``__init__``というメソッドは、どのクラスにも共通して置かれる コンストラクタ と呼ばれるメソッドです。"
   ]
  },
  {
   "cell_type": "code",
   "execution_count": 10,
   "metadata": {},
   "outputs": [],
   "source": [
    "def __init__(self, copy=True, with_mean=True, with_std=True):\n",
    "    self.with_mean = with_mean\n",
    "    self.with_std = with_std\n",
    "    self.copy = copy"
   ]
  },
  {
   "cell_type": "markdown",
   "metadata": {},
   "source": [
    "今回のスクラッチでは``copy``、``with_mean``,`` with_std``などのパラメータを省略しましたが、このようにインスタンス化の際にパラメータを指定して保存しておくということはよくある使い方です。\n",
    "\n",
    "\n",
    "コンストラクタの動作を確認するためのサンプルコードを用意しました。コンストラクタは、インスタンス化が行われる時に自動的に実行されるという働きがあります。こういった特殊な動作をするメソッドを、 特殊メソッド と呼びます。\n",
    "\n"
   ]
  },
  {
   "cell_type": "markdown",
   "metadata": {},
   "source": [
    "## 【問題4】 四則演算を行うクラスの作成\n",
    "上記ExampleClassは足し算のメソッドを持っていますが、これに引き算、掛け算、割り算のメソッドを加えてください。\n",
    "\n",
    "\n",
    "コンストラクタに入力されたvalueが文字列や配列など数値以外だった場合にはエラーを出すようにしてください。\n",
    "\n",
    "\n",
    "クラス名や説明文も適切に書き換えてください。"
   ]
  },
  {
   "cell_type": "code",
   "execution_count": 32,
   "metadata": {},
   "outputs": [
    {
     "name": "stdout",
     "output_type": "stream",
     "text": [
      "初期値5が設定されました\n",
      "value : 5\n",
      "value : 8\n",
      "value : 5\n",
      "value : 15\n",
      "value : 5.0\n"
     ]
    },
    {
     "ename": "AssertionError",
     "evalue": "only int or float",
     "output_type": "error",
     "traceback": [
      "\u001b[0;31m---------------------------------------------------------------------------\u001b[0m",
      "\u001b[0;31mAssertionError\u001b[0m                            Traceback (most recent call last)",
      "\u001b[0;32m<ipython-input-32-84210379c8b2>\u001b[0m in \u001b[0;36m<module>\u001b[0;34m\u001b[0m\n\u001b[1;32m     48\u001b[0m \u001b[0mprint\u001b[0m\u001b[0;34m(\u001b[0m\u001b[0;34m\"value : {}\"\u001b[0m\u001b[0;34m.\u001b[0m\u001b[0mformat\u001b[0m\u001b[0;34m(\u001b[0m\u001b[0mexample\u001b[0m\u001b[0;34m.\u001b[0m\u001b[0mvalue\u001b[0m\u001b[0;34m)\u001b[0m\u001b[0;34m)\u001b[0m\u001b[0;34m\u001b[0m\u001b[0;34m\u001b[0m\u001b[0m\n\u001b[1;32m     49\u001b[0m \u001b[0;34m\u001b[0m\u001b[0m\n\u001b[0;32m---> 50\u001b[0;31m \u001b[0mexample2\u001b[0m \u001b[0;34m=\u001b[0m \u001b[0mExampleClass\u001b[0m\u001b[0;34m(\u001b[0m\u001b[0;34m[\u001b[0m\u001b[0;36m1\u001b[0m\u001b[0;34m]\u001b[0m\u001b[0;34m)\u001b[0m\u001b[0;34m\u001b[0m\u001b[0;34m\u001b[0m\u001b[0m\n\u001b[0m",
      "\u001b[0;32m<ipython-input-32-84210379c8b2>\u001b[0m in \u001b[0;36m__init__\u001b[0;34m(self, value)\u001b[0m\n\u001b[1;32m     14\u001b[0m     \"\"\"\n\u001b[1;32m     15\u001b[0m     \u001b[0;32mdef\u001b[0m \u001b[0m__init__\u001b[0m\u001b[0;34m(\u001b[0m\u001b[0mself\u001b[0m\u001b[0;34m,\u001b[0m \u001b[0mvalue\u001b[0m\u001b[0;34m)\u001b[0m\u001b[0;34m:\u001b[0m\u001b[0;34m\u001b[0m\u001b[0;34m\u001b[0m\u001b[0m\n\u001b[0;32m---> 16\u001b[0;31m         \u001b[0;32massert\u001b[0m \u001b[0mtype\u001b[0m\u001b[0;34m(\u001b[0m\u001b[0mvalue\u001b[0m\u001b[0;34m)\u001b[0m \u001b[0;32min\u001b[0m \u001b[0;34m[\u001b[0m\u001b[0mint\u001b[0m\u001b[0;34m,\u001b[0m \u001b[0mfloat\u001b[0m\u001b[0;34m]\u001b[0m\u001b[0;34m,\u001b[0m \u001b[0;34m\"only int or float\"\u001b[0m\u001b[0;34m\u001b[0m\u001b[0;34m\u001b[0m\u001b[0m\n\u001b[0m\u001b[1;32m     17\u001b[0m         \u001b[0mself\u001b[0m\u001b[0;34m.\u001b[0m\u001b[0mvalue\u001b[0m \u001b[0;34m=\u001b[0m \u001b[0mvalue\u001b[0m\u001b[0;34m\u001b[0m\u001b[0;34m\u001b[0m\u001b[0m\n\u001b[1;32m     18\u001b[0m         \u001b[0mprint\u001b[0m\u001b[0;34m(\u001b[0m\u001b[0;34m\"初期値{}が設定されました\"\u001b[0m\u001b[0;34m.\u001b[0m\u001b[0mformat\u001b[0m\u001b[0;34m(\u001b[0m\u001b[0mself\u001b[0m\u001b[0;34m.\u001b[0m\u001b[0mvalue\u001b[0m\u001b[0;34m)\u001b[0m\u001b[0;34m)\u001b[0m\u001b[0;34m\u001b[0m\u001b[0;34m\u001b[0m\u001b[0m\n",
      "\u001b[0;31mAssertionError\u001b[0m: only int or float"
     ]
    }
   ],
   "source": [
    "class ExampleClass():\n",
    "    \"\"\"\n",
    "    説明用の簡単なクラス\n",
    "\n",
    "    Parameters\n",
    "    ----------\n",
    "    value : float or int\n",
    "        初期値\n",
    "\n",
    "    Attributes\n",
    "    ----------\n",
    "    value : float or int\n",
    "        計算結果\n",
    "    \"\"\"\n",
    "    def __init__(self, value):\n",
    "        assert type(value) in [int, float], \"only int or float\"\n",
    "        self.value = value\n",
    "        print(\"初期値{}が設定されました\".format(self.value))\n",
    "    \n",
    "    # 足し算\n",
    "    def add(self, value2):\n",
    "        \"\"\"\n",
    "        受け取った引数をself.valueに加える\n",
    "        \"\"\"\n",
    "        self.value += value2\n",
    "        \n",
    "    # 引き算\n",
    "    def sub(self, value2):\n",
    "        self.value -= value2\n",
    "        \n",
    "    # 掛け算\n",
    "    def mul(self, value2):\n",
    "        self.value *= value2\n",
    "        \n",
    "    # 割り算\n",
    "    def div(self, value2):\n",
    "        self.value /= value2\n",
    "        \n",
    "example = ExampleClass(5)\n",
    "print(\"value : {}\".format(example.value))\n",
    "example.add(3)\n",
    "print(\"value : {}\".format(example.value))\n",
    "example.sub(3)\n",
    "print(\"value : {}\".format(example.value))\n",
    "example.mul(3)\n",
    "print(\"value : {}\".format(example.value))\n",
    "example.div(3)\n",
    "print(\"value : {}\".format(example.value))\n",
    "\n",
    "example2 = ExampleClass([1])"
   ]
  },
  {
   "cell_type": "markdown",
   "metadata": {},
   "source": [
    "##### assertとは？ (コンストラクタに入力されたvalueが文字列や配列など数値以外だった場合にはエラーを出す処理で使用)\n",
    "assert文は以下の書式で用います。\n",
    "\n",
    "assert bool値\n",
    "bool値がFalseの場合、AssertionError例外が発生します。Trueの場合には、何も起きません。\n",
    "\n",
    "プログラムが仕様に合致しているか確認するためのテストを記述するために用います。\n",
    " \n",
    "\n",
    "##### assertの使い方\n",
    "一般にはテスト用途でassert文を用いるため、以下のような使い方をします。\n",
    "\n",
    "assert <期待される値>==<実際の値>\n",
    "テストを別のメソッドに分離し、以下のように記述することもできます。\n",
    "```\n",
    "def test_method():\n",
    "    テスト結果をbool値で返す。\n",
    "    成功の場合はTrue、失敗の場合はFalse。\n",
    "\n",
    "assert test_method()\n",
    "```"
   ]
  }
 ],
 "metadata": {
  "kernelspec": {
   "display_name": "Python 3",
   "language": "python",
   "name": "python3"
  },
  "language_info": {
   "codemirror_mode": {
    "name": "ipython",
    "version": 3
   },
   "file_extension": ".py",
   "mimetype": "text/x-python",
   "name": "python",
   "nbconvert_exporter": "python",
   "pygments_lexer": "ipython3",
   "version": "3.7.4"
  },
  "toc": {
   "base_numbering": 1,
   "nav_menu": {},
   "number_sections": true,
   "sideBar": true,
   "skip_h1_title": false,
   "title_cell": "Table of Contents",
   "title_sidebar": "Contents",
   "toc_cell": false,
   "toc_position": {},
   "toc_section_display": true,
   "toc_window_display": true
  }
 },
 "nbformat": 4,
 "nbformat_minor": 2
}
