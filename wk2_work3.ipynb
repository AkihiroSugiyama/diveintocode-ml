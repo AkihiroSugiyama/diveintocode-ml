{
  "nbformat": 4,
  "nbformat_minor": 0,
  "metadata": {
    "colab": {
      "name": "wk2_work3.ipynb",
      "provenance": [],
      "collapsed_sections": []
    },
    "kernelspec": {
      "name": "python3",
      "display_name": "Python 3"
    }
  },
  "cells": [
    {
      "cell_type": "markdown",
      "metadata": {
        "id": "zzdwBJ3wCRb0",
        "colab_type": "text"
      },
      "source": [
        "# 2.行列積"
      ]
    },
    {
      "cell_type": "code",
      "metadata": {
        "id": "osJ3MzGaCBBn",
        "colab_type": "code",
        "colab": {}
      },
      "source": [
        "import numpy as np\n",
        "a_ndarray = np.array([[-1, 2, 3], [4, -5, 6], [7, 8, -9]])\n",
        "b_ndarray = np.array([[0, 2, 1], [0, 2, -8], [2, 9, -1]])"
      ],
      "execution_count": 146,
      "outputs": []
    },
    {
      "cell_type": "markdown",
      "metadata": {
        "id": "jDJIqCKcDAyr",
        "colab_type": "text"
      },
      "source": [
        "## 【問題1】行列積を手計算する\n",
        "AとBの行列積を手計算で解いてください。\n",
        "\n",
        "\n",
        "計算過程もマークダウンテキストを用いて説明してください。"
      ]
    },
    {
      "cell_type": "markdown",
      "metadata": {
        "id": "KBz1zfrWDAn6",
        "colab_type": "text"
      },
      "source": [
        "$$\n",
        "  \\boldsymbol{ab} = \n",
        "  \\left[\\begin{array}{c}\n",
        "    a_{11}b_{11}+a_{12}b_{21}+a_{13}b_{31} & a_{11}b_{12}+a_{12}b_{22}+a_{13}b_{32} & a_{11}b_{13}+a_{12}b_{23}+a_{13}b_{33} \\\\\n",
        "    a_{21}b_{11}+a_{22}b_{21}+a_{23}b_{31} & a_{21}b_{12}+a_{22}b_{22}+a_{23}b_{32} & a_{21}b_{13}+a_{22}b_{23}+a_{23}b_{33} \\\\\n",
        "    a_{31}b_{11}+a_{32}b_{21}+a_{33}b_{31} & a_{31}b_{12}+a_{32}b_{22}+a_{33}b_{32} & a_{31}b_{13}+a_{32}b_{23}+a_{33}b_{33} \\\\\n",
        "  \\end{array}\\right] \\quad\n",
        "$$ \\\\\n",
        "$$\n",
        "  \\boldsymbol{ab} = \n",
        "  \\left[\\begin{array}{c}\n",
        "    (-1)\\times0+2\\times0+3\\times2 & (-1)\\times2+2\\times2+3\\times9 & (-1)\\times1+2\\times(-8)+3\\times(-1) \\\\\n",
        "    4\\times0+(-5)\\times0+6\\times2 & 4\\times2+(-5)\\times2+6\\times9 & 4\\times1+(-5)\\times(-8)+6\\times(-1) \\\\\n",
        "    7\\times0+8\\times0+(-9)\\times2 & 7\\times2+8\\times2+(-9)\\times9 & 7\\times1+8\\times(-8)+(-9)\\times(-1) \\\\\n",
        "  \\end{array}\\right] \\quad\n",
        "$$\\\\\n",
        "$$\n",
        "  \\boldsymbol{ab} = \n",
        "  \\left[\\begin{array}{c}\n",
        "    6 & 29 & -20 \\\\\n",
        "    12 & 52 & 38 \\\\\n",
        "    -18 & -51 & -48 \\\\\n",
        "  \\end{array}\\right] \\quad\n",
        "$$\n"
      ]
    },
    {
      "cell_type": "markdown",
      "metadata": {
        "id": "XLrWJFBH5FjV",
        "colab_type": "text"
      },
      "source": [
        "##【問題２】NumPyの関数による計算\n",
        "\n",
        "この行列積はNumPyのnm.matmul()やnp.dot()、または@演算子を使うことで簡単に計算できます。\n",
        "これらを使い行列積を計算してください。\n",
        "\n",
        "《3種類の違い》\n",
        "\n",
        "np.matmul()とnp.dot()は3次元以上の配列で挙動が変わります。@演算子はnp.matmul()と同じ働きをします。\n",
        "今回のような2次元配列の行列積ではnp.matmul()や@演算子が公式に推奨されています。以下はnp.dot()の説明からの引用です。\n",
        "If both a and b are 2-D arrays, it is matrix multiplication, but using matmul or a @ b is preferred.\n",
        "\n"
      ]
    },
    {
      "cell_type": "code",
      "metadata": {
        "id": "ji-E31s3CW-l",
        "colab_type": "code",
        "colab": {
          "base_uri": "https://localhost:8080/",
          "height": 221
        },
        "outputId": "8f636c9e-5f5d-428d-93e5-38ed0e34b791"
      },
      "source": [
        "ab_ndarray_matmul = np.matmul(a_ndarray, b_ndarray)\n",
        "ab_ndarray_dot = np.dot(a_ndarray, b_ndarray)\n",
        "ab_ndarray3 = a_ndarray @ b_ndarray\n",
        "print('{}\\n'.format(ab_ndarray_matmul))\n",
        "print('{}\\n'.format(ab_ndarray_dot))\n",
        "print('{}\\n'.format(ab_ndarray3))"
      ],
      "execution_count": 147,
      "outputs": [
        {
          "output_type": "stream",
          "text": [
            "[[  6  29 -20]\n",
            " [ 12  52  38]\n",
            " [-18 -51 -48]]\n",
            "\n",
            "[[  6  29 -20]\n",
            " [ 12  52  38]\n",
            " [-18 -51 -48]]\n",
            "\n",
            "[[  6  29 -20]\n",
            " [ 12  52  38]\n",
            " [-18 -51 -48]]\n",
            "\n"
          ],
          "name": "stdout"
        }
      ]
    },
    {
      "cell_type": "markdown",
      "metadata": {
        "id": "pdXM8P4aBYWC",
        "colab_type": "text"
      },
      "source": [
        "#3.行列積のスクラッチ実装"
      ]
    },
    {
      "cell_type": "markdown",
      "metadata": {
        "id": "xe8aDojBBjOM",
        "colab_type": "text"
      },
      "source": [
        "##【問題3】ある要素の計算を実装\n",
        "手計算をする際はまず行列Aの0行目と行列Bの0列目に注目し、以下の計算を行ったかと思います。\n",
        "\n",
        "1. 行列Aの(0,0)の要素 $a_{0,0}$と行列Bの(0,0)の要素 $b_{0,0}$を掛け合わせる\n",
        "2. 行列Aの(0,1)の要素 $a_{0,1}$と行列Bの(1,0)の要素 $b_{1,0}$を掛け合わせる\n",
        "3. 行列Aの(0,2)の要素 $a_{0,2}$と行列Bの(2,0)の要素 $b_{2,0}$を掛け合わせる\n",
        "4. それらの値を全て足し合わせる\n",
        "\n",
        "数式で表すと\n",
        "$$\n",
        "\\sum_{k=0}^{2} a_{0,k} b_{k,0}\n",
        "$$\n",
        "です。\n",
        "\n",
        "\n",
        "この計算をnp.matmul()やnp.dot()、または@演算子を使わずに行うコードを書いてください。"
      ]
    },
    {
      "cell_type": "markdown",
      "metadata": {
        "id": "QM4I33282T-n",
        "colab_type": "text"
      },
      "source": [
        "$a_{i,j}$\\\n",
        "$b_{j,k}$"
      ]
    },
    {
      "cell_type": "code",
      "metadata": {
        "id": "ecYfdlTc-Zwg",
        "colab_type": "code",
        "colab": {}
      },
      "source": [
        "def get_matrix_product1(matrix1, matrix2):\n",
        "  list1 = matrix1.tolist()\n",
        "  list2 = matrix2.tolist()\n",
        "  result = [[sum([list1[i][j]*list2[j][k] for j in range(matrix1.shape[1])]) for k in range(matrix2.shape[1])] for i in range(matrix1.shape[0])]\n",
        "  result = np.array(result).reshape(matrix1.shape[0], matrix2.shape[1])\n",
        "  return result"
      ],
      "execution_count": 148,
      "outputs": []
    },
    {
      "cell_type": "markdown",
      "metadata": {
        "id": "BRMS8egL3WZw",
        "colab_type": "text"
      },
      "source": [
        "### 計算前にリスト化しなくても計算できた↓"
      ]
    },
    {
      "cell_type": "code",
      "metadata": {
        "id": "Ta69iL3p29TD",
        "colab_type": "code",
        "colab": {}
      },
      "source": [
        "def get_matrix_product2(matrix1, matrix2):\n",
        "  result = [[sum([matrix1[i,j]*matrix2[j,k] for j in range(matrix1.shape[1])]) for k in range(matrix2.shape[1])] for i in range(matrix1.shape[0])]\n",
        "  result = np.array(result).reshape(matrix1.shape[0], matrix2.shape[1])\n",
        "  return result"
      ],
      "execution_count": 149,
      "outputs": []
    },
    {
      "cell_type": "code",
      "metadata": {
        "id": "Kln9qraDl65f",
        "colab_type": "code",
        "colab": {
          "base_uri": "https://localhost:8080/",
          "height": 68
        },
        "outputId": "aa0dd2cb-eead-4bd9-86c9-f085a899e4c2"
      },
      "source": [
        "c = get_matrix_product2(a_ndarray, b_ndarray)\n",
        "print(result)"
      ],
      "execution_count": 150,
      "outputs": [
        {
          "output_type": "stream",
          "text": [
            "[[  6  29 -20]\n",
            " [ 12  52  38]\n",
            " [-18 -51 -48]]\n"
          ],
          "name": "stdout"
        }
      ]
    },
    {
      "cell_type": "markdown",
      "metadata": {
        "id": "M5vPjyg8FIXt",
        "colab_type": "text"
      },
      "source": [
        "##【問題4】行列積を行う関数の作成\n",
        "問題3のコードを拡張し、行列積のスクラッチ実装を完成させてください。行列AとBを引数に受け取り、行列積を返す関数としてください。\n",
        "\n",
        "\n",
        "行列積を計算する場合は、問題3の計算を異なる行や列に対して繰り返していくことになります。\n",
        "\n",
        "\n",
        "計算結果である 3 × 3 の行列Cの各要素 $c_{i,j}$ は数式で表すと次のようになります。\n",
        "\n",
        "$$\n",
        "c_{i,j} = \\sum_{k=0}^{2} a_{i,k} b_{k,j}\n",
        "$$\n",
        "\n",
        "for文を使い、ndarrayのインデックスを動かしていくことで、合計9つの要素が計算できます。インデックス $i$や $j$ を1増やすと、次の行や列に移ることができます。\n",
        "\n"
      ]
    },
    {
      "cell_type": "markdown",
      "metadata": {
        "id": "ClQusD9t4_fL",
        "colab_type": "text"
      },
      "source": [
        "###【解答】問題３でユーザ関数を定義済み"
      ]
    },
    {
      "cell_type": "markdown",
      "metadata": {
        "id": "ngCmIw0-Fy5C",
        "colab_type": "text"
      },
      "source": [
        "#4.行列積が定義されない組み合わせの行列\n"
      ]
    },
    {
      "cell_type": "markdown",
      "metadata": {
        "id": "72Vi3m54F57Q",
        "colab_type": "text"
      },
      "source": [
        "次に以下のような例を考えます。\n",
        "\n",
        "$$\n",
        "  \\boldsymbol{D} = \n",
        "  \\left[\\begin{array}{c}\n",
        "    -1 & 2 & 3 \\\\\n",
        "    4 & -5 & 6 \\\\\n",
        "  \\end{array}\\right] \\quad,\n",
        "  \\boldsymbol{E} = \n",
        "  \\left[\\begin{array}{c}\n",
        "    -9 & 8 & 7 \\\\\n",
        "    6 & -5 & 4 \\\\\n",
        "  \\end{array}\\right] \\quad\n",
        "$$\n",
        "``d_ndarray_ = np.array([[-1, 2, 3], [4, -5, 6]])``\n",
        "\n",
        "``e_ndarray = np.array([[-9, 8, 7], [6, -5, 4]])``\n",
        "\n",
        "行列積DEはDの列数とEの行数が等しい場合に定義されていますから、この例では計算ができません。\n",
        "\n"
      ]
    },
    {
      "cell_type": "markdown",
      "metadata": {
        "id": "qIBEBHd5F9xM",
        "colab_type": "text"
      },
      "source": [
        "##【問題5】計算が定義されない入力を判定する\n",
        "問題4で作成した関数は、実装方法によってはこのDとEの配列を入力しても動いてしまう可能性があります。この場合、不適切な計算が行われることになります。また、途中でエラーになる場合でも、なぜエラーになったかが直接的には分かりづらいメッセージが表示されます。\n",
        "\n",
        "\n",
        "if文などによってこれを防ぎ、入力される形に問題があることをprint()を使い表示するコードを書き加えてください。"
      ]
    },
    {
      "cell_type": "code",
      "metadata": {
        "id": "c8_8vJLU4t-Q",
        "colab_type": "code",
        "colab": {}
      },
      "source": [
        "d_ndarray = np.array([[-1, 2, 3], [4, -5, 6]])\n",
        "e_ndarray = np.array([[-9, 8, 7], [6, -5, 4]])"
      ],
      "execution_count": 151,
      "outputs": []
    },
    {
      "cell_type": "code",
      "metadata": {
        "id": "XESVVHQQF0AT",
        "colab_type": "code",
        "colab": {}
      },
      "source": [
        "def get_matrix_product(matrix1, matrix2):\n",
        "  try:\n",
        "    result = [[sum([matrix1[i,j]*matrix2[j,k] for j in range(matrix1.shape[1])]) for k in range(matrix2.shape[1])] for i in range(matrix1.shape[0])]\n",
        "    result = np.array(result).reshape(matrix1.shape[0], matrix2.shape[1])\n",
        "  except IndexError:\n",
        "    print('Error: cannot calculate matrix product by the matrix combination you inputted.')\n",
        "    print('matrix1: {} rows {} columns'.format(matrix1.shape[0], matrix1.shape[1]))\n",
        "    print('matrix2: {} rows {} columns'.format(matrix2.shape[0], matrix2.shape[1]))\n",
        "  return result"
      ],
      "execution_count": 152,
      "outputs": []
    },
    {
      "cell_type": "code",
      "metadata": {
        "id": "JAvo3vk55SmH",
        "colab_type": "code",
        "colab": {
          "base_uri": "https://localhost:8080/",
          "height": 304
        },
        "outputId": "c4286047-ba03-4fa3-aabb-1787b8bbcefa"
      },
      "source": [
        "f = get_matrix_product(d_ndarray, e_ndarray)"
      ],
      "execution_count": 153,
      "outputs": [
        {
          "output_type": "stream",
          "text": [
            "Error: cannot calculate matrix product by the matrix combination you inputted.\n",
            "matrix1: 2 rows 3 columns\n",
            "matrix2: 2 rows 3 columns\n"
          ],
          "name": "stdout"
        },
        {
          "output_type": "error",
          "ename": "UnboundLocalError",
          "evalue": "ignored",
          "traceback": [
            "\u001b[0;31m---------------------------------------------------------------------------\u001b[0m",
            "\u001b[0;31mUnboundLocalError\u001b[0m                         Traceback (most recent call last)",
            "\u001b[0;32m<ipython-input-153-a5de8291181e>\u001b[0m in \u001b[0;36m<module>\u001b[0;34m()\u001b[0m\n\u001b[0;32m----> 1\u001b[0;31m \u001b[0mf\u001b[0m \u001b[0;34m=\u001b[0m \u001b[0mget_matrix_product\u001b[0m\u001b[0;34m(\u001b[0m\u001b[0md_ndarray\u001b[0m\u001b[0;34m,\u001b[0m \u001b[0me_ndarray\u001b[0m\u001b[0;34m)\u001b[0m\u001b[0;34m\u001b[0m\u001b[0;34m\u001b[0m\u001b[0m\n\u001b[0m",
            "\u001b[0;32m<ipython-input-152-177015b8517d>\u001b[0m in \u001b[0;36mget_matrix_product\u001b[0;34m(matrix1, matrix2)\u001b[0m\n\u001b[1;32m      7\u001b[0m     \u001b[0mprint\u001b[0m\u001b[0;34m(\u001b[0m\u001b[0;34m'matrix1: {} rows {} columns'\u001b[0m\u001b[0;34m.\u001b[0m\u001b[0mformat\u001b[0m\u001b[0;34m(\u001b[0m\u001b[0mmatrix1\u001b[0m\u001b[0;34m.\u001b[0m\u001b[0mshape\u001b[0m\u001b[0;34m[\u001b[0m\u001b[0;36m0\u001b[0m\u001b[0;34m]\u001b[0m\u001b[0;34m,\u001b[0m \u001b[0mmatrix1\u001b[0m\u001b[0;34m.\u001b[0m\u001b[0mshape\u001b[0m\u001b[0;34m[\u001b[0m\u001b[0;36m1\u001b[0m\u001b[0;34m]\u001b[0m\u001b[0;34m)\u001b[0m\u001b[0;34m)\u001b[0m\u001b[0;34m\u001b[0m\u001b[0;34m\u001b[0m\u001b[0m\n\u001b[1;32m      8\u001b[0m     \u001b[0mprint\u001b[0m\u001b[0;34m(\u001b[0m\u001b[0;34m'matrix2: {} rows {} columns'\u001b[0m\u001b[0;34m.\u001b[0m\u001b[0mformat\u001b[0m\u001b[0;34m(\u001b[0m\u001b[0mmatrix2\u001b[0m\u001b[0;34m.\u001b[0m\u001b[0mshape\u001b[0m\u001b[0;34m[\u001b[0m\u001b[0;36m0\u001b[0m\u001b[0;34m]\u001b[0m\u001b[0;34m,\u001b[0m \u001b[0mmatrix2\u001b[0m\u001b[0;34m.\u001b[0m\u001b[0mshape\u001b[0m\u001b[0;34m[\u001b[0m\u001b[0;36m1\u001b[0m\u001b[0;34m]\u001b[0m\u001b[0;34m)\u001b[0m\u001b[0;34m)\u001b[0m\u001b[0;34m\u001b[0m\u001b[0;34m\u001b[0m\u001b[0m\n\u001b[0;32m----> 9\u001b[0;31m   \u001b[0;32mreturn\u001b[0m \u001b[0mresult\u001b[0m\u001b[0;34m\u001b[0m\u001b[0;34m\u001b[0m\u001b[0m\n\u001b[0m",
            "\u001b[0;31mUnboundLocalError\u001b[0m: local variable 'result' referenced before assignment"
          ]
        }
      ]
    },
    {
      "cell_type": "markdown",
      "metadata": {
        "id": "Y-wUH0xWGBzP",
        "colab_type": "text"
      },
      "source": [
        "##【問題6】転置\n",
        "片方の行列を転置することで、行列積が計算できるようになります。\n",
        "\n",
        "\n",
        "np.transpose()や.Tアトリビュートを用いて転置し、行列積を計算してください。"
      ]
    },
    {
      "cell_type": "code",
      "metadata": {
        "id": "tdtoHlmiGDbL",
        "colab_type": "code",
        "colab": {}
      },
      "source": [
        "def get_matrix_product_t(matrix1, matrix2):\n",
        "  try:\n",
        "    matrix1 = matrix1.T\n",
        "    result = [[sum([matrix1[i,j]*matrix2[j,k] for j in range(matrix1.shape[1])]) for k in range(matrix2.shape[1])] for i in range(matrix1.shape[0])]\n",
        "    result = np.array(result).reshape(matrix1.shape[0], matrix2.shape[1])\n",
        "  except IndexError:\n",
        "    print('Error: cannot calculate matrix product by the matrix combination you inputted.')\n",
        "    print('matrix1: {} rows {} columns'.format(matrix1.shape[0], matrix1.shape[1]))\n",
        "    print('matrix2: {} rows {} columns'.format(matrix2.shape[0], matrix2.shape[1]))\n",
        "  return result"
      ],
      "execution_count": 154,
      "outputs": []
    },
    {
      "cell_type": "code",
      "metadata": {
        "id": "zcv1J9yGAEDn",
        "colab_type": "code",
        "colab": {
          "base_uri": "https://localhost:8080/",
          "height": 153
        },
        "outputId": "9c3b121c-7f1a-4fde-8997-16ec4160fa1c"
      },
      "source": [
        "g = get_matrix_product_t(e_ndarray, e_ndarray)\n",
        "print(g)\n",
        "print('\\n')\n",
        "g2 = get_matrix_product_t(d_ndarray, e_ndarray)\n",
        "print(g2)"
      ],
      "execution_count": 155,
      "outputs": [
        {
          "output_type": "stream",
          "text": [
            "[[ 117 -102  -39]\n",
            " [-102   89   36]\n",
            " [ -39   36   65]]\n",
            "\n",
            "\n",
            "[[ 33 -28   9]\n",
            " [-48  41  -6]\n",
            " [  9  -6  45]]\n"
          ],
          "name": "stdout"
        }
      ]
    },
    {
      "cell_type": "code",
      "metadata": {
        "id": "TOdkfpLeAM3T",
        "colab_type": "code",
        "colab": {}
      },
      "source": [
        "def get_matrix_product_tran(matrix1, matrix2):\n",
        "  try:\n",
        "    matrix1 = np.transpose(matrix1)\n",
        "    result = [[sum([matrix1[i,j]*matrix2[j,k] for j in range(matrix1.shape[1])]) for k in range(matrix2.shape[1])] for i in range(matrix1.shape[0])]\n",
        "    result = np.array(result).reshape(matrix1.shape[0], matrix2.shape[1])\n",
        "  except IndexError:\n",
        "    print('Error: cannot calculate matrix product by the matrix combination you inputted.')\n",
        "    print('matrix1: {} rows {} columns'.format(matrix1.shape[0], matrix1.shape[1]))\n",
        "    print('matrix2: {} rows {} columns'.format(matrix2.shape[0], matrix2.shape[1]))\n",
        "  return result"
      ],
      "execution_count": 156,
      "outputs": []
    },
    {
      "cell_type": "code",
      "metadata": {
        "id": "LqTTyIiOA4ur",
        "colab_type": "code",
        "colab": {
          "base_uri": "https://localhost:8080/",
          "height": 153
        },
        "outputId": "245a1087-5020-41a7-e81c-7d21fdd49461"
      },
      "source": [
        "h = get_matrix_product_t(e_ndarray, e_ndarray)\n",
        "print(h)\n",
        "print('\\n')\n",
        "h2 = get_matrix_product_t(d_ndarray, e_ndarray)\n",
        "print(h2)"
      ],
      "execution_count": 157,
      "outputs": [
        {
          "output_type": "stream",
          "text": [
            "[[ 117 -102  -39]\n",
            " [-102   89   36]\n",
            " [ -39   36   65]]\n",
            "\n",
            "\n",
            "[[ 33 -28   9]\n",
            " [-48  41  -6]\n",
            " [  9  -6  45]]\n"
          ],
          "name": "stdout"
        }
      ]
    },
    {
      "cell_type": "markdown",
      "metadata": {
        "id": "TlkmQ8QgED8a",
        "colab_type": "text"
      },
      "source": [
        "## いろいろな正誤判定方法"
      ]
    },
    {
      "cell_type": "code",
      "metadata": {
        "id": "tIwdlhCgBA32",
        "colab_type": "code",
        "colab": {
          "base_uri": "https://localhost:8080/",
          "height": 34
        },
        "outputId": "6389b8fc-a054-4cfc-e337-89d81ad20f57"
      },
      "source": [
        "print(np.array_equal(g,h))"
      ],
      "execution_count": 159,
      "outputs": [
        {
          "output_type": "stream",
          "text": [
            "True\n"
          ],
          "name": "stdout"
        }
      ]
    },
    {
      "cell_type": "code",
      "metadata": {
        "id": "vvu8HTrND1eQ",
        "colab_type": "code",
        "colab": {
          "base_uri": "https://localhost:8080/",
          "height": 34
        },
        "outputId": "c6eace32-0e36-4992-f9cd-df3629ae4ec9"
      },
      "source": [
        "print(np.allclose(g,h))"
      ],
      "execution_count": 160,
      "outputs": [
        {
          "output_type": "stream",
          "text": [
            "True\n"
          ],
          "name": "stdout"
        }
      ]
    },
    {
      "cell_type": "code",
      "metadata": {
        "id": "IQL2xbizEPqM",
        "colab_type": "code",
        "colab": {
          "base_uri": "https://localhost:8080/",
          "height": 68
        },
        "outputId": "debe0cac-6b13-4ee8-be0f-8c696295ea1d"
      },
      "source": [
        "print(np.isclose(g,h))"
      ],
      "execution_count": 165,
      "outputs": [
        {
          "output_type": "stream",
          "text": [
            "[[ True  True  True]\n",
            " [ True  True  True]\n",
            " [ True  True  True]]\n"
          ],
          "name": "stdout"
        }
      ]
    },
    {
      "cell_type": "code",
      "metadata": {
        "id": "_j0GhGmGFRkN",
        "colab_type": "code",
        "colab": {
          "base_uri": "https://localhost:8080/",
          "height": 68
        },
        "outputId": "e94dc1b0-d68c-4014-c4df-d623a5160606"
      },
      "source": [
        "print(g==h)"
      ],
      "execution_count": 167,
      "outputs": [
        {
          "output_type": "stream",
          "text": [
            "[[ True  True  True]\n",
            " [ True  True  True]\n",
            " [ True  True  True]]\n"
          ],
          "name": "stdout"
        }
      ]
    },
    {
      "cell_type": "markdown",
      "metadata": {
        "id": "OMVjlmxzEicB",
        "colab_type": "text"
      },
      "source": [
        "[リファレンス：numpyの要素比較](https://note.nkmk.me/python-numpy-ndarray-compare/)\n",
        "\n",
        "---\n",
        "\n"
      ]
    }
  ]
}